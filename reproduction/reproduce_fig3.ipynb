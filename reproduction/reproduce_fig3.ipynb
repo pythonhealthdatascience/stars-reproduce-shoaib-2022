{
 "cells": [
  {
   "cell_type": "markdown",
   "metadata": {},
   "source": [
    "# Reproducing Figure 3A-D\n",
    "\n",
    "Figure 2 presents results from sensitivity analysis of configuration 1.\n",
    "\n",
    "**Note:** These are created from 10 replications currently for simplicity. At 10 replications, we would expect mean values to vary only slightly from further replication numbers. Hence, if felt similar at 10, have marked as succesfully reproduced without also testing at 100 replications.\n",
    "\n",
    "## Parameters\n",
    "\n",
    "In these figures, we vary:\n",
    "\n",
    "* **Number of inpatient/childbirth/ANC cases per day**:\n",
    "    * 1 = IAT 1440 (e.g. like IPD cases for config1)\n",
    "    * 2 = IAT 720 (as 2880 is 0.5 per day and 1440 is 1 per day)\n",
    "* **Average service time for outpatients**:\n",
    "    * 0.87 (0.21) (same as config1)\n",
    "    * 2.5 (0.5) (as in figure 2)"
   ]
  },
  {
   "cell_type": "markdown",
   "metadata": {},
   "source": [
    "## Set up"
   ]
  },
  {
   "cell_type": "code",
   "execution_count": 1,
   "metadata": {},
   "outputs": [
    {
     "data": {
      "text/plain": [
       "'\\n# Additional package to record runtime of this notebook\\nimport time\\nstart = time.time()\\n'"
      ]
     },
     "execution_count": 1,
     "metadata": {},
     "output_type": "execute_result"
    }
   ],
   "source": [
    "# To run model\n",
    "import PHC\n",
    "\n",
    "# To import results and produce figures\n",
    "import xlrd\n",
    "import pandas as pd\n",
    "import os\n",
    "import matplotlib.pyplot as plt\n",
    "import numpy as np\n",
    "\n",
    "# To speed up run time\n",
    "from multiprocessing import Pool\n",
    "\n",
    "'''\n",
    "# Additional package to record runtime of this notebook\n",
    "import time\n",
    "start = time.time()\n",
    "'''"
   ]
  },
  {
   "cell_type": "code",
   "execution_count": 2,
   "metadata": {},
   "outputs": [],
   "source": [
    "# Paths to save image files to\n",
    "output_folder = 'outputs'\n",
    "fig3a_path = os.path.join(output_folder, 'fig3a.png')\n",
    "fig3b_path = os.path.join(output_folder, 'fig3b.png')\n",
    "fig3c_path = os.path.join(output_folder, 'fig3c.png')\n",
    "fig3d_path = os.path.join(output_folder, 'fig3d.png')"
   ]
  },
  {
   "cell_type": "markdown",
   "metadata": {},
   "source": [
    "## Run model"
   ]
  },
  {
   "cell_type": "code",
   "execution_count": 3,
   "metadata": {},
   "outputs": [],
   "source": [
    "# TODO: Run with 100 replications\n",
    "\n",
    "# Varying number of inpatient, childbirth and ANC cases\n",
    "arr_dict = [\n",
    "    {\n",
    "        'IPD_iat': 1440,\n",
    "        'delivery_iat': 1440,\n",
    "        'ANC_iat': 1440,\n",
    "        'rep_file': 'arr111'\n",
    "    },\n",
    "    {\n",
    "        'IPD_iat': 720,\n",
    "        'delivery_iat': 1440,\n",
    "        'ANC_iat': 1440,\n",
    "        'rep_file': 'arr211',\n",
    "    },\n",
    "    {\n",
    "        'IPD_iat': 720,\n",
    "        'delivery_iat': 720,\n",
    "        'ANC_iat': 720,\n",
    "        'rep_file': 'arr222',\n",
    "    }\n",
    "]\n",
    "\n",
    "# Varying service time\n",
    "serv_dict = [\n",
    "    {\n",
    "        'mean': 0.87,\n",
    "        'sd': 0.21,\n",
    "        'consult_boundary_1': 0.5,  # From PHC.py\n",
    "        'consult_boundary_2': 0.3,  # From PHC.py\n",
    "        'rep_file': 'serv087'\n",
    "    },\n",
    "    {\n",
    "        'mean': 2.5,\n",
    "        'sd': 0.5,\n",
    "        'consult_boundary_1': 1,  # From Figure 2 (which was a guess)\n",
    "        'consult_boundary_2': 1,  # From Figure 2 (which was a guess)\n",
    "        'rep_file': 'serv25'\n",
    "    }\n",
    "]"
   ]
  },
  {
   "cell_type": "markdown",
   "metadata": {},
   "source": [
    "Create each combination for the reproduction"
   ]
  },
  {
   "cell_type": "code",
   "execution_count": 4,
   "metadata": {},
   "outputs": [
    {
     "data": {
      "text/plain": [
       "6"
      ]
     },
     "execution_count": 4,
     "metadata": {},
     "output_type": "execute_result"
    }
   ],
   "source": [
    "dict_list = []\n",
    "for arr in arr_dict:\n",
    "    for serv in serv_dict:\n",
    "        # Combine the dictionaries\n",
    "        comb = {**arr, **serv}\n",
    "        # Replace the file name\n",
    "        comb['rep_file'] = f'''f3_{arr['rep_file']}_{serv['rep_file']}.xls'''\n",
    "        # Save to list\n",
    "        dict_list.append(comb)\n",
    "\n",
    "len(dict_list)"
   ]
  },
  {
   "cell_type": "code",
   "execution_count": 5,
   "metadata": {},
   "outputs": [
    {
     "data": {
      "text/plain": [
       "{'s_IPD_iat': 1440,\n",
       " 's_delivery_iat': 1440,\n",
       " 's_ANC_iat': 1440,\n",
       " 's_rep_file': 'f3_arr111_serv087.xls',\n",
       " 's_mean': 0.87,\n",
       " 's_sd': 0.21,\n",
       " 's_consult_boundary_1': 0.5,\n",
       " 's_consult_boundary_2': 0.3}"
      ]
     },
     "execution_count": 5,
     "metadata": {},
     "output_type": "execute_result"
    }
   ],
   "source": [
    "# Append 's_' to all items\n",
    "for i, d in enumerate(dict_list):\n",
    "    dict_list[i] = {f's_{k}': v for k, v in d.items()}\n",
    "\n",
    "# Preview example\n",
    "dict_list[0]"
   ]
  },
  {
   "cell_type": "markdown",
   "metadata": {},
   "source": [
    "Run the model (with parallel processing to reduce run time)"
   ]
  },
  {
   "cell_type": "code",
   "execution_count": 6,
   "metadata": {},
   "outputs": [
    {
     "data": {
      "text/plain": [
       "'\\n# Wrapper function to allow input of dictionary with pool\\ndef wrapper(d):\\n    return PHC.main(**d)\\n\\n# Create a process pool that uses all CPUs\\nwith Pool() as pool:\\n    # Run PHC.main() using each of inputs from config\\n    pool.map(wrapper, dict_list)\\n'"
      ]
     },
     "execution_count": 6,
     "metadata": {},
     "output_type": "execute_result"
    }
   ],
   "source": [
    "'''\n",
    "# Wrapper function to allow input of dictionary with pool\n",
    "def wrapper(d):\n",
    "    return PHC.main(**d)\n",
    "\n",
    "# Create a process pool that uses all CPUs\n",
    "with Pool() as pool:\n",
    "    # Run PHC.main() using each of inputs from config\n",
    "    pool.map(wrapper, dict_list)\n",
    "'''"
   ]
  },
  {
   "cell_type": "markdown",
   "metadata": {},
   "source": [
    "## Process results"
   ]
  },
  {
   "cell_type": "code",
   "execution_count": 7,
   "metadata": {},
   "outputs": [],
   "source": [
    "def process_results(files):\n",
    "    '''\n",
    "    Imports files in provided list and produces a single dataframe with mean\n",
    "    results from across the replications\n",
    "\n",
    "    Parameters:\n",
    "    ----------\n",
    "    files : list\n",
    "        List of file names (exc. file type) containing replication results\n",
    "\n",
    "    Returns:\n",
    "    --------\n",
    "    summary : dataframe\n",
    "        Dataframe with mean results for each model variant in file list\n",
    "    '''\n",
    "    # Empty list to store results\n",
    "    result_list = []\n",
    "\n",
    "    for f in files:\n",
    "        # Import .xls and convert to pandas dataframe\n",
    "        book = xlrd.open_workbook(os.path.join(output_folder, f'{f}.xls'))\n",
    "        result = pd.read_excel(book, header=None, index_col=0)\n",
    "\n",
    "        # Find mean from the replication\n",
    "        # Save as dataframe, dropping the duplicate rows (NCD occ twice)\n",
    "        res = pd.DataFrame({f: result.mean(axis=1)}).drop_duplicates()\n",
    "\n",
    "        # Remove index name\n",
    "        res.index.name = None\n",
    "\n",
    "        # Save to list\n",
    "        result_list.append(res)\n",
    "\n",
    "    # Combine into single dataframe\n",
    "    summary = pd.concat(result_list, axis=1)\n",
    "\n",
    "    return summary"
   ]
  },
  {
   "cell_type": "markdown",
   "metadata": {},
   "source": [
    "## Create Figure 3A"
   ]
  },
  {
   "cell_type": "code",
   "execution_count": 8,
   "metadata": {},
   "outputs": [
    {
     "data": {
      "text/plain": [
       "f3_arr111_serv087    0.269199\n",
       "f3_arr211_serv087    0.271072\n",
       "f3_arr222_serv087    0.289770\n",
       "f3_arr111_serv25     0.513668\n",
       "f3_arr211_serv25     0.517088\n",
       "f3_arr222_serv25     0.537383\n",
       "Name: doc occ, dtype: float64"
      ]
     },
     "execution_count": 8,
     "metadata": {},
     "output_type": "execute_result"
    }
   ],
   "source": [
    "# Import and process results\n",
    "data_full = process_results([\n",
    "    'f3_arr111_serv087', 'f3_arr211_serv087', 'f3_arr222_serv087',\n",
    "    'f3_arr111_serv25', 'f3_arr211_serv25', 'f3_arr222_serv25'])\n",
    "\n",
    "# Filter to doctor utilisation\n",
    "a3 = data_full.loc['doc occ']\n",
    "a3"
   ]
  },
  {
   "cell_type": "code",
   "execution_count": 9,
   "metadata": {},
   "outputs": [
    {
     "data": {
      "text/html": [
       "<div>\n",
       "<style scoped>\n",
       "    .dataframe tbody tr th:only-of-type {\n",
       "        vertical-align: middle;\n",
       "    }\n",
       "\n",
       "    .dataframe tbody tr th {\n",
       "        vertical-align: top;\n",
       "    }\n",
       "\n",
       "    .dataframe thead th {\n",
       "        text-align: right;\n",
       "    }\n",
       "</style>\n",
       "<table border=\"1\" class=\"dataframe\">\n",
       "  <thead>\n",
       "    <tr style=\"text-align: right;\">\n",
       "      <th></th>\n",
       "      <th>(1/1/1)</th>\n",
       "      <th>(2/1/1)</th>\n",
       "      <th>(2/2/2)</th>\n",
       "    </tr>\n",
       "  </thead>\n",
       "  <tbody>\n",
       "    <tr>\n",
       "      <th>0.87 (0.21)</th>\n",
       "      <td>0.269199</td>\n",
       "      <td>0.271072</td>\n",
       "      <td>0.289770</td>\n",
       "    </tr>\n",
       "    <tr>\n",
       "      <th>2.5 (0.5)</th>\n",
       "      <td>0.513668</td>\n",
       "      <td>0.517088</td>\n",
       "      <td>0.537383</td>\n",
       "    </tr>\n",
       "  </tbody>\n",
       "</table>\n",
       "</div>"
      ],
      "text/plain": [
       "              (1/1/1)   (2/1/1)   (2/2/2)\n",
       "0.87 (0.21)  0.269199  0.271072  0.289770\n",
       "2.5 (0.5)    0.513668  0.517088  0.537383"
      ]
     },
     "execution_count": 9,
     "metadata": {},
     "output_type": "execute_result"
    }
   ],
   "source": [
    "# Reshape data so in appropriate format for plotting grouped bar chart\n",
    "names = ['0.87 (0.21)', '2.5 (0.5)']\n",
    "s111 = [a3['f3_arr111_serv087'], a3['f3_arr111_serv25']]\n",
    "s211 = [a3['f3_arr211_serv087'], a3['f3_arr211_serv25']]\n",
    "s222 = [a3['f3_arr222_serv087'], a3['f3_arr222_serv25']]\n",
    "\n",
    "data_3a = pd.DataFrame(\n",
    "    {'(1/1/1)': s111, '(2/1/1)': s211, '(2/2/2)': s222}, index=names)\n",
    "data_3a"
   ]
  },
  {
   "cell_type": "code",
   "execution_count": 21,
   "metadata": {},
   "outputs": [
    {
     "data": {
      "image/png": "[encoded data removed]",
      "text/plain": [
       "<Figure size 640x480 with 1 Axes>"
      ]
     },
     "metadata": {},
     "output_type": "display_data"
    }
   ],
   "source": [
    "# Plot data\n",
    "ax = data_3a.plot.bar(edgecolor='black', color='white', width=0.7)\n",
    "\n",
    "# Add patterns\n",
    "bars = ax.patches\n",
    "pattern = np.repeat(['++', '\\\\\\\\\\\\\\\\', '//////'], 2)\n",
    "for bar, hatch in zip(bars, pattern):\n",
    "    bar.set_hatch(hatch)\n",
    "ax.legend(title='Inpatient/Childbirth/ANC cases per day')\n",
    "\n",
    "# Adjust figure\n",
    "plt.xlabel('Consultation time (minutes): mean (SD)')\n",
    "plt.ylabel('''Doctor's utilisation''')\n",
    "plt.xticks(rotation=0)\n",
    "ax.grid(axis='y')\n",
    "plt.ylim(0, 1)\n",
    "ax.set_axisbelow(True)\n",
    "plt.savefig(fig3a_path, bbox_inches='tight')\n",
    "plt.show()"
   ]
  },
  {
   "cell_type": "markdown",
   "metadata": {},
   "source": [
    "## Run time"
   ]
  },
  {
   "cell_type": "code",
   "execution_count": 11,
   "metadata": {},
   "outputs": [
    {
     "data": {
      "text/plain": [
       "\"\\n# Find run time in seconds\\nend = time.time()\\nruntime = round(end-start)\\n\\n# Display converted to minutes and seconds\\nprint(f'Notebook run time: {runtime//60}m {runtime%60}s')\\n\""
      ]
     },
     "execution_count": 11,
     "metadata": {},
     "output_type": "execute_result"
    }
   ],
   "source": [
    "'''\n",
    "# Find run time in seconds\n",
    "end = time.time()\n",
    "runtime = round(end-start)\n",
    "\n",
    "# Display converted to minutes and seconds\n",
    "print(f'Notebook run time: {runtime//60}m {runtime%60}s')\n",
    "'''"
   ]
  }
 ],
 "metadata": {
  "kernelspec": {
   "display_name": "shoaib2022",
   "language": "python",
   "name": "python3"
  },
  "language_info": {
   "codemirror_mode": {
    "name": "ipython",
    "version": 3
   },
   "file_extension": ".py",
   "mimetype": "text/x-python",
   "name": "python",
   "nbconvert_exporter": "python",
   "pygments_lexer": "ipython3",
   "version": "3.9.19"
  }
 },
 "nbformat": 4,
 "nbformat_minor": 2
}
