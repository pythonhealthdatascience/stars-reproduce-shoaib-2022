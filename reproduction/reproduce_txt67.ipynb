{
 "cells": [
  {
   "cell_type": "markdown",
   "metadata": {},
   "source": [
    "# Reproducing in-text results 6 and 7\n",
    "\n",
    "These results are variants on the scenario from Figure 2B, when the IAT is 3 minutes (170 arrivals/day) and the NCD nurse utilisation exceeds 100% (is at 123%). The variants are to:\n",
    "\n",
    "* Assign administrative work to the staff nurse\n",
    "* Have the staff nurse complete 10% of NCD checks"
   ]
  },
  {
   "cell_type": "markdown",
   "metadata": {},
   "source": [
    "## Set up"
   ]
  },
  {
   "cell_type": "code",
   "execution_count": 1,
   "metadata": {},
   "outputs": [
    {
     "data": {
      "text/plain": [
       "'# Additional package to record runtime of this notebook\\nimport time\\nstart = time.time()'"
      ]
     },
     "execution_count": 1,
     "metadata": {},
     "output_type": "execute_result"
    }
   ],
   "source": [
    "# To run model\n",
    "import PHC\n",
    "\n",
    "# To import results and produce figures\n",
    "from reproduction_helpers import process_results\n",
    "import pandas as pd\n",
    "import os\n",
    "import matplotlib.pyplot as plt\n",
    "import numpy as np\n",
    "\n",
    "# To speed up run time\n",
    "from multiprocessing import Pool\n",
    "\n",
    "'''# Additional package to record runtime of this notebook\n",
    "import time\n",
    "start = time.time()'''"
   ]
  },
  {
   "cell_type": "code",
   "execution_count": 2,
   "metadata": {},
   "outputs": [],
   "source": [
    "# Paths to save results to\n",
    "output_folder = 'outputs'\n",
    "txt6_path = os.path.join(output_folder, 'intext6.csv')\n",
    "txt7_path = os.path.join(output_folder, 'intext7.csv')"
   ]
  },
  {
   "cell_type": "markdown",
   "metadata": {},
   "source": [
    "## Function\n",
    "\n",
    "This is a function for getting the NCD utilisation."
   ]
  },
  {
   "cell_type": "code",
   "execution_count": 3,
   "metadata": {},
   "outputs": [],
   "source": [
    "def get_util(df):\n",
    "    '''\n",
    "    Gets NCD utilisation and transforms the dataframe to aid readability\n",
    "\n",
    "    Parameters:\n",
    "    -----------\n",
    "    df : pandas DataFrame\n",
    "        Dataframe with mean results for different outputs\n",
    "\n",
    "    Returns:\n",
    "    --------\n",
    "    util : pandas DataFrame\n",
    "        Dataframe with the NCD utilisation in each scenario\n",
    "    '''\n",
    "    # Get NCD utilisation\n",
    "    util = round(pd.DataFrame(df.loc['NCD occ']).T, 3)\n",
    "\n",
    "    # Rename index and row\n",
    "    util = util.rename_axis('Output')\n",
    "    util = util.rename({'NCD occ': 'NCD nurse utilisation'})\n",
    "\n",
    "    # Rename columns\n",
    "    util = util.rename({\n",
    "        'in67_base': 'Normal',\n",
    "        'in6_base_admin': 'Admin from NCD to staff nurse',\n",
    "        'in7_base_appointment': '10% OPD appointments from NCD to staff nurse',\n",
    "        'in7_base_admin_appointment': (\n",
    "            'Admin and 10% OPD appointments from NCD to staff nurse')}, axis=1)\n",
    "\n",
    "    return util"
   ]
  },
  {
   "cell_type": "markdown",
   "metadata": {},
   "source": [
    "## Run model\n",
    "\n",
    "As per usual, I have run these with ten replications. These runs give us the results needed for in-text result 6 and 7."
   ]
  },
  {
   "cell_type": "code",
   "execution_count": 4,
   "metadata": {},
   "outputs": [],
   "source": [
    "dict_list = [\n",
    "    {\n",
    "        'OPD_iat': 3,\n",
    "        'rep_file': 'in67_base.xls',\n",
    "    },\n",
    "    {\n",
    "        'OPD_iat': 3,\n",
    "        'admin_ncd_to_staff': True,\n",
    "        'rep_file': 'in6_base_admin.xls',\n",
    "    },\n",
    "    {\n",
    "        'OPD_iat': 3,\n",
    "        'opd_ncd_to_staff': 0.1,\n",
    "        'rep_file': 'in7_base_appointment.xls',\n",
    "    },\n",
    "    {\n",
    "        'OPD_iat': 3,\n",
    "        'admin_ncd_to_staff': True,\n",
    "        'opd_ncd_to_staff': 0.1,\n",
    "        'rep_file': 'in7_base_admin_appointment.xls',\n",
    "    }\n",
    "]"
   ]
  },
  {
   "cell_type": "code",
   "execution_count": 5,
   "metadata": {},
   "outputs": [],
   "source": [
    "# Append 's_' to all items\n",
    "for i, d in enumerate(dict_list):\n",
    "    dict_list[i] = {f's_{k}': v for k, v in d.items()}"
   ]
  },
  {
   "cell_type": "code",
   "execution_count": 6,
   "metadata": {},
   "outputs": [
    {
     "data": {
      "text/plain": [
       "'# Wrapper function to allow input of dictionary with pool\\ndef wrapper(d):\\n    return PHC.main(**d)\\n\\n# Create a process pool that uses all CPUs\\nwith Pool() as pool:\\n    # Run PHC.main() using each of inputs from config\\n    pool.map(wrapper, dict_list)'"
      ]
     },
     "execution_count": 6,
     "metadata": {},
     "output_type": "execute_result"
    }
   ],
   "source": [
    "'''# Wrapper function to allow input of dictionary with pool\n",
    "def wrapper(d):\n",
    "    return PHC.main(**d)\n",
    "\n",
    "# Create a process pool that uses all CPUs\n",
    "with Pool() as pool:\n",
    "    # Run PHC.main() using each of inputs from config\n",
    "    pool.map(wrapper, dict_list)'''"
   ]
  },
  {
   "cell_type": "markdown",
   "metadata": {},
   "source": [
    "## Process results"
   ]
  },
  {
   "cell_type": "code",
   "execution_count": 7,
   "metadata": {},
   "outputs": [],
   "source": [
    "# Process results\n",
    "data = process_results([i['s_rep_file'] for i in dict_list], xls=True)"
   ]
  },
  {
   "cell_type": "markdown",
   "metadata": {},
   "source": [
    "### In-text result 6"
   ]
  },
  {
   "cell_type": "code",
   "execution_count": 8,
   "metadata": {},
   "outputs": [
    {
     "data": {
      "text/html": [
       "<div>\n",
       "<style scoped>\n",
       "    .dataframe tbody tr th:only-of-type {\n",
       "        vertical-align: middle;\n",
       "    }\n",
       "\n",
       "    .dataframe tbody tr th {\n",
       "        vertical-align: top;\n",
       "    }\n",
       "\n",
       "    .dataframe thead th {\n",
       "        text-align: right;\n",
       "    }\n",
       "</style>\n",
       "<table border=\"1\" class=\"dataframe\">\n",
       "  <thead>\n",
       "    <tr style=\"text-align: right;\">\n",
       "      <th></th>\n",
       "      <th>Normal</th>\n",
       "      <th>Admin from NCD to staff nurse</th>\n",
       "    </tr>\n",
       "    <tr>\n",
       "      <th>Output</th>\n",
       "      <th></th>\n",
       "      <th></th>\n",
       "    </tr>\n",
       "  </thead>\n",
       "  <tbody>\n",
       "    <tr>\n",
       "      <th>NCD nurse utilisation</th>\n",
       "      <td>1.234</td>\n",
       "      <td>1.0</td>\n",
       "    </tr>\n",
       "  </tbody>\n",
       "</table>\n",
       "</div>"
      ],
      "text/plain": [
       "                       Normal  Admin from NCD to staff nurse\n",
       "Output                                                      \n",
       "NCD nurse utilisation   1.234                            1.0"
      ]
     },
     "execution_count": 8,
     "metadata": {},
     "output_type": "execute_result"
    }
   ],
   "source": [
    "txt6 = get_util(data[['in67_base', 'in6_base_admin']])\n",
    "\n",
    "# Save and display results\n",
    "txt6.to_csv(txt6_path)\n",
    "txt6"
   ]
  },
  {
   "cell_type": "markdown",
   "metadata": {},
   "source": [
    "### In-text result 7"
   ]
  },
  {
   "cell_type": "code",
   "execution_count": 9,
   "metadata": {},
   "outputs": [
    {
     "data": {
      "text/html": [
       "<div>\n",
       "<style scoped>\n",
       "    .dataframe tbody tr th:only-of-type {\n",
       "        vertical-align: middle;\n",
       "    }\n",
       "\n",
       "    .dataframe tbody tr th {\n",
       "        vertical-align: top;\n",
       "    }\n",
       "\n",
       "    .dataframe thead th {\n",
       "        text-align: right;\n",
       "    }\n",
       "</style>\n",
       "<table border=\"1\" class=\"dataframe\">\n",
       "  <thead>\n",
       "    <tr style=\"text-align: right;\">\n",
       "      <th></th>\n",
       "      <th>Normal</th>\n",
       "      <th>Admin from NCD to staff nurse</th>\n",
       "      <th>10% OPD appointments from NCD to staff nurse</th>\n",
       "      <th>Admin and 10% OPD appointments from NCD to staff nurse</th>\n",
       "    </tr>\n",
       "    <tr>\n",
       "      <th>Output</th>\n",
       "      <th></th>\n",
       "      <th></th>\n",
       "      <th></th>\n",
       "      <th></th>\n",
       "    </tr>\n",
       "  </thead>\n",
       "  <tbody>\n",
       "    <tr>\n",
       "      <th>NCD nurse utilisation</th>\n",
       "      <td>1.234</td>\n",
       "      <td>1.0</td>\n",
       "      <td>1.067</td>\n",
       "      <td>0.823</td>\n",
       "    </tr>\n",
       "  </tbody>\n",
       "</table>\n",
       "</div>"
      ],
      "text/plain": [
       "                       Normal  Admin from NCD to staff nurse  \\\n",
       "Output                                                         \n",
       "NCD nurse utilisation   1.234                            1.0   \n",
       "\n",
       "                       10% OPD appointments from NCD to staff nurse  \\\n",
       "Output                                                                \n",
       "NCD nurse utilisation                                         1.067   \n",
       "\n",
       "                       Admin and 10% OPD appointments from NCD to staff nurse  \n",
       "Output                                                                         \n",
       "NCD nurse utilisation                                              0.823       "
      ]
     },
     "execution_count": 9,
     "metadata": {},
     "output_type": "execute_result"
    }
   ],
   "source": [
    "txt7 = get_util(data)\n",
    "\n",
    "# Save and display results\n",
    "txt7.to_csv(txt7_path)\n",
    "txt7"
   ]
  },
  {
   "cell_type": "markdown",
   "metadata": {},
   "source": [
    "## In-text 7 variant: Run model with 100 replications\n",
    "\n",
    "We typically run with 10 replications to save time, since results are often very similar between 10 and 100 replications. Regardless, to confirm that the difference observed for in-text result 7 is not due to the replication number, I ran it with 100 replications."
   ]
  },
  {
   "cell_type": "code",
   "execution_count": 10,
   "metadata": {},
   "outputs": [
    {
     "data": {
      "text/plain": [
       "\"PHC.main(s_OPD_iat=3,\\n         s_admin_ncd_to_staff=True,\\n         s_opd_ncd_to_staff=0.1,\\n         s_replication=100,\\n         s_rep_file='in7_base_admin_appointment_100rep.xls')\""
      ]
     },
     "execution_count": 10,
     "metadata": {},
     "output_type": "execute_result"
    }
   ],
   "source": [
    "'''PHC.main(s_OPD_iat=3,\n",
    "         s_admin_ncd_to_staff=True,\n",
    "         s_opd_ncd_to_staff=0.1,\n",
    "         s_replication=100,\n",
    "         s_rep_file='in7_base_admin_appointment_100rep.xls')'''"
   ]
  },
  {
   "cell_type": "code",
   "execution_count": 11,
   "metadata": {},
   "outputs": [
    {
     "data": {
      "text/html": [
       "<div>\n",
       "<style scoped>\n",
       "    .dataframe tbody tr th:only-of-type {\n",
       "        vertical-align: middle;\n",
       "    }\n",
       "\n",
       "    .dataframe tbody tr th {\n",
       "        vertical-align: top;\n",
       "    }\n",
       "\n",
       "    .dataframe thead th {\n",
       "        text-align: right;\n",
       "    }\n",
       "</style>\n",
       "<table border=\"1\" class=\"dataframe\">\n",
       "  <thead>\n",
       "    <tr style=\"text-align: right;\">\n",
       "      <th></th>\n",
       "      <th>in7_base_admin_appointment_100rep</th>\n",
       "    </tr>\n",
       "    <tr>\n",
       "      <th>Output</th>\n",
       "      <th></th>\n",
       "    </tr>\n",
       "  </thead>\n",
       "  <tbody>\n",
       "    <tr>\n",
       "      <th>NCD nurse utilisation</th>\n",
       "      <td>0.827</td>\n",
       "    </tr>\n",
       "  </tbody>\n",
       "</table>\n",
       "</div>"
      ],
      "text/plain": [
       "                       in7_base_admin_appointment_100rep\n",
       "Output                                                  \n",
       "NCD nurse utilisation                              0.827"
      ]
     },
     "execution_count": 11,
     "metadata": {},
     "output_type": "execute_result"
    }
   ],
   "source": [
    "res_100 = process_results(['in7_base_admin_appointment_100rep.xls'], xls=True)\n",
    "get_util(res_100)"
   ]
  },
  {
   "cell_type": "markdown",
   "metadata": {},
   "source": [
    "## In-text 7 variant: Run model with 20%\n",
    "\n",
    "Although the paper states that 10% of cases were transferred, I explored whether transferring 20% of cases resulted in a utilisation that was closer to the reported (71%)."
   ]
  },
  {
   "cell_type": "code",
   "execution_count": 12,
   "metadata": {},
   "outputs": [
    {
     "data": {
      "text/plain": [
       "\"PHC.main(s_OPD_iat=3,\\n         s_admin_ncd_to_staff=True,\\n         s_opd_ncd_to_staff=0.2,\\n         s_rep_file='in7_base_admin_appointment_20p.xls')\""
      ]
     },
     "execution_count": 12,
     "metadata": {},
     "output_type": "execute_result"
    }
   ],
   "source": [
    "'''PHC.main(s_OPD_iat=3,\n",
    "         s_admin_ncd_to_staff=True,\n",
    "         s_opd_ncd_to_staff=0.2,\n",
    "         s_rep_file='in7_base_admin_appointment_20p.xls')'''"
   ]
  },
  {
   "cell_type": "code",
   "execution_count": 13,
   "metadata": {},
   "outputs": [
    {
     "data": {
      "text/html": [
       "<div>\n",
       "<style scoped>\n",
       "    .dataframe tbody tr th:only-of-type {\n",
       "        vertical-align: middle;\n",
       "    }\n",
       "\n",
       "    .dataframe tbody tr th {\n",
       "        vertical-align: top;\n",
       "    }\n",
       "\n",
       "    .dataframe thead th {\n",
       "        text-align: right;\n",
       "    }\n",
       "</style>\n",
       "<table border=\"1\" class=\"dataframe\">\n",
       "  <thead>\n",
       "    <tr style=\"text-align: right;\">\n",
       "      <th></th>\n",
       "      <th>in7_base_admin_appointment_20p</th>\n",
       "    </tr>\n",
       "    <tr>\n",
       "      <th>Output</th>\n",
       "      <th></th>\n",
       "    </tr>\n",
       "  </thead>\n",
       "  <tbody>\n",
       "    <tr>\n",
       "      <th>NCD nurse utilisation</th>\n",
       "      <td>0.69</td>\n",
       "    </tr>\n",
       "  </tbody>\n",
       "</table>\n",
       "</div>"
      ],
      "text/plain": [
       "                       in7_base_admin_appointment_20p\n",
       "Output                                               \n",
       "NCD nurse utilisation                            0.69"
      ]
     },
     "execution_count": 13,
     "metadata": {},
     "output_type": "execute_result"
    }
   ],
   "source": [
    "res_20p = process_results(['in7_base_admin_appointment_20p.xls'], xls=True)\n",
    "get_util(res_20p)"
   ]
  },
  {
   "cell_type": "markdown",
   "metadata": {},
   "source": [
    "## Run time"
   ]
  },
  {
   "cell_type": "code",
   "execution_count": 14,
   "metadata": {},
   "outputs": [
    {
     "data": {
      "text/plain": [
       "\"# Find run time in seconds\\nend = time.time()\\nruntime = round(end-start)\\n\\n# Display converted to minutes and seconds\\nprint(f'Notebook run time: {runtime//60}m {runtime%60}s')\""
      ]
     },
     "execution_count": 14,
     "metadata": {},
     "output_type": "execute_result"
    }
   ],
   "source": [
    "'''# Find run time in seconds\n",
    "end = time.time()\n",
    "runtime = round(end-start)\n",
    "\n",
    "# Display converted to minutes and seconds\n",
    "print(f'Notebook run time: {runtime//60}m {runtime%60}s')'''"
   ]
  }
 ],
 "metadata": {
  "kernelspec": {
   "display_name": "shoaib2022",
   "language": "python",
   "name": "python3"
  },
  "language_info": {
   "codemirror_mode": {
    "name": "ipython",
    "version": 3
   },
   "file_extension": ".py",
   "mimetype": "text/x-python",
   "name": "python",
   "nbconvert_exporter": "python",
   "pygments_lexer": "ipython3",
   "version": "3.9.19"
  }
 },
 "nbformat": 4,
 "nbformat_minor": 2
}
