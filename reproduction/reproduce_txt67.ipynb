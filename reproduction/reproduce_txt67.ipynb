{
 "cells": [
  {
   "cell_type": "markdown",
   "metadata": {},
   "source": [
    "# Reproducing in-text results 6 and 7\n",
    "\n",
    "These results are variants on the scenario from Figure 2B, when the IAT is 3 minutes (170 arrivals/day) and the NCD nurse utilisation exceeds 100% (is at 123%). The variants are to:\n",
    "\n",
    "* Assign administrative work to the staff nurse\n",
    "* Have the staff nurse complete 10% of NCD checks"
   ]
  },
  {
   "cell_type": "markdown",
   "metadata": {},
   "source": [
    "## Set up"
   ]
  },
  {
   "cell_type": "code",
   "execution_count": 1,
   "metadata": {},
   "outputs": [],
   "source": [
    "# To run model\n",
    "import PHC\n",
    "\n",
    "# To import results and produce figures\n",
    "from reproduction_helpers import process_results\n",
    "import pandas as pd\n",
    "import os\n",
    "import matplotlib.pyplot as plt\n",
    "import numpy as np\n",
    "\n",
    "# To speed up run time\n",
    "from multiprocessing import Pool\n",
    "\n",
    "# Additional package to record runtime of this notebook\n",
    "import time\n",
    "start = time.time()"
   ]
  },
  {
   "cell_type": "code",
   "execution_count": 2,
   "metadata": {},
   "outputs": [],
   "source": [
    "# Paths to save results to\n",
    "output_folder = 'outputs'\n",
    "txt6_path = os.path.join(output_folder, 'intext6.csv')\n",
    "txt7_path = os.path.join(output_folder, 'intext7.csv')"
   ]
  },
  {
   "cell_type": "markdown",
   "metadata": {},
   "source": [
    "## Run model with 10 replications"
   ]
  },
  {
   "cell_type": "code",
   "execution_count": 3,
   "metadata": {},
   "outputs": [],
   "source": [
    "dict_list = [\n",
    "    {\n",
    "        'OPD_iat': 3,\n",
    "        'rep_file': 'in67_base.xls',\n",
    "    },\n",
    "    {\n",
    "        'OPD_iat': 3,\n",
    "        'admin_ncd_to_staff': True,\n",
    "        'rep_file': 'in6_base_admin.xls',\n",
    "    },\n",
    "    {\n",
    "        'OPD_iat': 3,\n",
    "        'opd_10p_ncd_to_staff': True,\n",
    "        'rep_file': 'in7_base_appointment.xls',\n",
    "    },\n",
    "    {\n",
    "        'OPD_iat': 3,\n",
    "        'admin_ncd_to_staff': True,\n",
    "        'opd_10p_ncd_to_staff': True,\n",
    "        'rep_file': 'in7_base_admin_appointment.xls',\n",
    "    }\n",
    "]"
   ]
  },
  {
   "cell_type": "code",
   "execution_count": 4,
   "metadata": {},
   "outputs": [],
   "source": [
    "# Append 's_' to all items\n",
    "for i, d in enumerate(dict_list):\n",
    "    dict_list[i] = {f's_{k}': v for k, v in d.items()}"
   ]
  },
  {
   "cell_type": "code",
   "execution_count": 5,
   "metadata": {},
   "outputs": [
    {
     "name": "stdout",
     "output_type": "stream",
     "text": [
      " No of replications done 0\n",
      " No of replications done 0\n",
      " No of replications done 0\n",
      " No of replications done 0\n",
      " No of replications done 1\n",
      " No of replications done 1\n",
      " No of replications done 1\n",
      " No of replications done 1\n",
      " No of replications done 2\n",
      " No of replications done 2\n",
      " No of replications done 2\n",
      " No of replications done 2\n",
      " No of replications done 3\n",
      " No of replications done 3\n",
      " No of replications done 3\n",
      " No of replications done 3\n",
      " No of replications done 4\n",
      " No of replications done 4\n",
      " No of replications done 4\n",
      " No of replications done 4\n",
      " No of replications done 5\n",
      " No of replications done 5\n",
      " No of replications done 5\n",
      " No of replications done 5\n",
      " No of replications done 6\n",
      " No of replications done 6\n",
      " No of replications done 6\n",
      " No of replications done 6\n",
      " No of replications done 7\n",
      " No of replications done 7\n",
      " No of replications done 7\n",
      " No of replications done 7\n",
      " No of replications done 8\n",
      " No of replications done 8\n",
      " No of replications done 8\n",
      " No of replications done 8\n",
      " No of replications done 9\n",
      " No of replications done 9\n",
      " No of replications done 9\n",
      " No of replications done 9\n"
     ]
    }
   ],
   "source": [
    "# Wrapper function to allow input of dictionary with pool\n",
    "def wrapper(d):\n",
    "    return PHC.main(**d)\n",
    "\n",
    "# Create a process pool that uses all CPUs\n",
    "with Pool() as pool:\n",
    "    # Run PHC.main() using each of inputs from config\n",
    "    pool.map(wrapper, dict_list)"
   ]
  },
  {
   "cell_type": "markdown",
   "metadata": {},
   "source": [
    "## Run final scenario with 100 replications\n",
    "\n",
    "This is due to discrepancy with paper, to confirm that increasing the replication number does not give us a result close to 71%."
   ]
  },
  {
   "cell_type": "code",
   "execution_count": 6,
   "metadata": {},
   "outputs": [
    {
     "name": "stdout",
     "output_type": "stream",
     "text": [
      " No of replications done 0\n",
      " No of replications done 1\n",
      " No of replications done 2\n",
      " No of replications done 3\n",
      " No of replications done 4\n",
      " No of replications done 5\n",
      " No of replications done 6\n",
      " No of replications done 7\n",
      " No of replications done 8\n",
      " No of replications done 9\n",
      " No of replications done 10\n",
      " No of replications done 11\n",
      " No of replications done 12\n",
      " No of replications done 13\n",
      " No of replications done 14\n",
      " No of replications done 15\n",
      " No of replications done 16\n",
      " No of replications done 17\n",
      " No of replications done 18\n",
      " No of replications done 19\n",
      " No of replications done 20\n",
      " No of replications done 21\n",
      " No of replications done 22\n",
      " No of replications done 23\n",
      " No of replications done 24\n",
      " No of replications done 25\n",
      " No of replications done 26\n",
      " No of replications done 27\n",
      " No of replications done 28\n",
      " No of replications done 29\n",
      " No of replications done 30\n",
      " No of replications done 31\n",
      " No of replications done 32\n",
      " No of replications done 33\n",
      " No of replications done 34\n",
      " No of replications done 35\n",
      " No of replications done 36\n",
      " No of replications done 37\n",
      " No of replications done 38\n",
      " No of replications done 39\n",
      " No of replications done 40\n",
      " No of replications done 41\n",
      " No of replications done 42\n",
      " No of replications done 43\n",
      " No of replications done 44\n",
      " No of replications done 45\n",
      " No of replications done 46\n",
      " No of replications done 47\n",
      " No of replications done 48\n",
      " No of replications done 49\n",
      " No of replications done 50\n",
      " No of replications done 51\n",
      " No of replications done 52\n",
      " No of replications done 53\n",
      " No of replications done 54\n",
      " No of replications done 55\n",
      " No of replications done 56\n",
      " No of replications done 57\n",
      " No of replications done 58\n",
      " No of replications done 59\n",
      " No of replications done 60\n",
      " No of replications done 61\n",
      " No of replications done 62\n",
      " No of replications done 63\n",
      " No of replications done 64\n",
      " No of replications done 65\n",
      " No of replications done 66\n",
      " No of replications done 67\n",
      " No of replications done 68\n",
      " No of replications done 69\n",
      " No of replications done 70\n",
      " No of replications done 71\n",
      " No of replications done 72\n",
      " No of replications done 73\n",
      " No of replications done 74\n",
      " No of replications done 75\n",
      " No of replications done 76\n",
      " No of replications done 77\n",
      " No of replications done 78\n",
      " No of replications done 79\n",
      " No of replications done 80\n",
      " No of replications done 81\n",
      " No of replications done 82\n",
      " No of replications done 83\n",
      " No of replications done 84\n",
      " No of replications done 85\n",
      " No of replications done 86\n",
      " No of replications done 87\n",
      " No of replications done 88\n",
      " No of replications done 89\n",
      " No of replications done 90\n",
      " No of replications done 91\n",
      " No of replications done 92\n",
      " No of replications done 93\n",
      " No of replications done 94\n",
      " No of replications done 95\n",
      " No of replications done 96\n",
      " No of replications done 97\n",
      " No of replications done 98\n",
      " No of replications done 99\n"
     ]
    }
   ],
   "source": [
    "PHC.main(s_OPD_iat=3,\n",
    "         s_admin_ncd_to_staff=True,\n",
    "         s_opd_10p_ncd_to_staff=True,\n",
    "         s_replication=100,\n",
    "         s_rep_file='in7_base_admin_appointment_100rep.xls')"
   ]
  },
  {
   "cell_type": "markdown",
   "metadata": {},
   "source": [
    "## Process results (from 10 replications)"
   ]
  },
  {
   "cell_type": "code",
   "execution_count": 7,
   "metadata": {},
   "outputs": [],
   "source": [
    "# Process results\n",
    "data = process_results([i['s_rep_file'] for i in dict_list], xls=True)"
   ]
  },
  {
   "cell_type": "code",
   "execution_count": 8,
   "metadata": {},
   "outputs": [],
   "source": [
    "def get_util(df):\n",
    "    '''\n",
    "    Gets NCD utilisation and transforms the dataframe to aid readability\n",
    "\n",
    "    Parameters:\n",
    "    -----------\n",
    "    df : pandas DataFrame\n",
    "        Dataframe with mean results for different outputs\n",
    "\n",
    "    Returns:\n",
    "    --------\n",
    "    util : pandas DataFrame\n",
    "        Dataframe with the NCD utilisation in each scenario\n",
    "    '''\n",
    "    # Get NCD utilisation\n",
    "    util = round(pd.DataFrame(df.loc['NCD occ']).T, 3)\n",
    "\n",
    "    # Rename index and row\n",
    "    util = util.rename_axis('Output')\n",
    "    util = util.rename({'NCD occ': 'NCD nurse utilisation'})\n",
    "\n",
    "    # Rename columns\n",
    "    util = util.rename({\n",
    "        'in67_base': 'Normal',\n",
    "        'in6_base_admin': 'Admin from NCD to staff nurse',\n",
    "        'in7_base_appointment': '10% OPD appointments from NCD to staff nurse',\n",
    "        'in7_base_admin_appointment': (\n",
    "            'Admin and 10% OPD appointments from NCD to staff nurse')}, axis=1)\n",
    "\n",
    "    return util"
   ]
  },
  {
   "cell_type": "markdown",
   "metadata": {},
   "source": [
    "### Get in-text result 6"
   ]
  },
  {
   "cell_type": "code",
   "execution_count": 9,
   "metadata": {},
   "outputs": [
    {
     "data": {
      "text/html": [
       "<div>\n",
       "<style scoped>\n",
       "    .dataframe tbody tr th:only-of-type {\n",
       "        vertical-align: middle;\n",
       "    }\n",
       "\n",
       "    .dataframe tbody tr th {\n",
       "        vertical-align: top;\n",
       "    }\n",
       "\n",
       "    .dataframe thead th {\n",
       "        text-align: right;\n",
       "    }\n",
       "</style>\n",
       "<table border=\"1\" class=\"dataframe\">\n",
       "  <thead>\n",
       "    <tr style=\"text-align: right;\">\n",
       "      <th></th>\n",
       "      <th>Normal</th>\n",
       "      <th>Admin from NCD to staff nurse</th>\n",
       "    </tr>\n",
       "    <tr>\n",
       "      <th>Output</th>\n",
       "      <th></th>\n",
       "      <th></th>\n",
       "    </tr>\n",
       "  </thead>\n",
       "  <tbody>\n",
       "    <tr>\n",
       "      <th>NCD nurse utilisation</th>\n",
       "      <td>1.247</td>\n",
       "      <td>0.984</td>\n",
       "    </tr>\n",
       "  </tbody>\n",
       "</table>\n",
       "</div>"
      ],
      "text/plain": [
       "                       Normal  Admin from NCD to staff nurse\n",
       "Output                                                      \n",
       "NCD nurse utilisation   1.247                          0.984"
      ]
     },
     "execution_count": 9,
     "metadata": {},
     "output_type": "execute_result"
    }
   ],
   "source": [
    "txt6 = get_util(data[['in67_base', 'in6_base_admin']])\n",
    "\n",
    "# Save and display results\n",
    "txt6.to_csv(txt6_path)\n",
    "txt6"
   ]
  },
  {
   "cell_type": "markdown",
   "metadata": {},
   "source": [
    "### Get in-text result 7"
   ]
  },
  {
   "cell_type": "code",
   "execution_count": 10,
   "metadata": {},
   "outputs": [
    {
     "data": {
      "text/html": [
       "<div>\n",
       "<style scoped>\n",
       "    .dataframe tbody tr th:only-of-type {\n",
       "        vertical-align: middle;\n",
       "    }\n",
       "\n",
       "    .dataframe tbody tr th {\n",
       "        vertical-align: top;\n",
       "    }\n",
       "\n",
       "    .dataframe thead th {\n",
       "        text-align: right;\n",
       "    }\n",
       "</style>\n",
       "<table border=\"1\" class=\"dataframe\">\n",
       "  <thead>\n",
       "    <tr style=\"text-align: right;\">\n",
       "      <th></th>\n",
       "      <th>Normal</th>\n",
       "      <th>Admin from NCD to staff nurse</th>\n",
       "      <th>10% OPD appointments from NCD to staff nurse</th>\n",
       "      <th>Admin and 10% OPD appointments from NCD to staff nurse</th>\n",
       "    </tr>\n",
       "    <tr>\n",
       "      <th>Output</th>\n",
       "      <th></th>\n",
       "      <th></th>\n",
       "      <th></th>\n",
       "      <th></th>\n",
       "    </tr>\n",
       "  </thead>\n",
       "  <tbody>\n",
       "    <tr>\n",
       "      <th>NCD nurse utilisation</th>\n",
       "      <td>1.247</td>\n",
       "      <td>0.984</td>\n",
       "      <td>1.07</td>\n",
       "      <td>0.828</td>\n",
       "    </tr>\n",
       "  </tbody>\n",
       "</table>\n",
       "</div>"
      ],
      "text/plain": [
       "                       Normal  Admin from NCD to staff nurse  \\\n",
       "Output                                                         \n",
       "NCD nurse utilisation   1.247                          0.984   \n",
       "\n",
       "                       10% OPD appointments from NCD to staff nurse  \\\n",
       "Output                                                                \n",
       "NCD nurse utilisation                                          1.07   \n",
       "\n",
       "                       Admin and 10% OPD appointments from NCD to staff nurse  \n",
       "Output                                                                         \n",
       "NCD nurse utilisation                                              0.828       "
      ]
     },
     "execution_count": 10,
     "metadata": {},
     "output_type": "execute_result"
    }
   ],
   "source": [
    "txt7 = get_util(data)\n",
    "\n",
    "# Save and display results\n",
    "txt7.to_csv(txt7_path)\n",
    "txt7"
   ]
  },
  {
   "cell_type": "markdown",
   "metadata": {},
   "source": [
    "## Get in-text result 7 scenario from 100 replications"
   ]
  },
  {
   "cell_type": "code",
   "execution_count": 11,
   "metadata": {},
   "outputs": [
    {
     "data": {
      "text/plain": [
       "in7_base_admin_appointment_100rep    0.827133\n",
       "Name: NCD occ, dtype: float64"
      ]
     },
     "execution_count": 11,
     "metadata": {},
     "output_type": "execute_result"
    }
   ],
   "source": [
    "res_100 = process_results(['in7_base_admin_appointment_100rep.xls'], xls=True)\n",
    "res_100.loc['NCD occ']"
   ]
  },
  {
   "cell_type": "markdown",
   "metadata": {},
   "source": [
    "## Run model with 20% "
   ]
  },
  {
   "cell_type": "code",
   "execution_count": null,
   "metadata": {},
   "outputs": [],
   "source": []
  },
  {
   "cell_type": "markdown",
   "metadata": {},
   "source": [
    "## Run time"
   ]
  },
  {
   "cell_type": "code",
   "execution_count": 12,
   "metadata": {},
   "outputs": [
    {
     "name": "stdout",
     "output_type": "stream",
     "text": [
      "Notebook run time: 55m 47s\n"
     ]
    }
   ],
   "source": [
    "# Find run time in seconds\n",
    "end = time.time()\n",
    "runtime = round(end-start)\n",
    "\n",
    "# Display converted to minutes and seconds\n",
    "print(f'Notebook run time: {runtime//60}m {runtime%60}s')"
   ]
  }
 ],
 "metadata": {
  "kernelspec": {
   "display_name": "shoaib2022",
   "language": "python",
   "name": "python3"
  },
  "language_info": {
   "codemirror_mode": {
    "name": "ipython",
    "version": 3
   },
   "file_extension": ".py",
   "mimetype": "text/x-python",
   "name": "python",
   "nbconvert_exporter": "python",
   "pygments_lexer": "ipython3",
   "version": "3.9.19"
  }
 },
 "nbformat": 4,
 "nbformat_minor": 2
}
