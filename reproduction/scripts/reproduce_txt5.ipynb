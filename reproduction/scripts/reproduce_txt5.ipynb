{
 "cells": [
  {
   "cell_type": "markdown",
   "metadata": {},
   "source": [
    "# Reproducing in-text result 5\n",
    "\n",
    "This notebook aims to reproduce in-text result 5 from Shoaib M, Ramamohan V. **Simulation modeling and analysis of primary health center operations**. *SIMULATION* 98(3):183-208. (2022). <https://doi.org/10.1177/00375497211030931>.\n",
    "\n",
    "In-text result 5:\n",
    "\n",
    "> \"We also observe that if the number of beds is reduced to four from six, the utilisation level is observed to be approximately **thirty-three percent** even under higher demand conditions (two inpatient and childbirth cases/day).\"\n",
    "\n",
    "## Parameters\n",
    "\n",
    "This result appears to build on configuration 1 but with:\n",
    "\n",
    "* High demand conditions (2 inpatient and childbirth cases per day - as in Figure 3A-D with (2/2/2))\n",
    "* Varying the number of inpatient beds (6 to 4)"
   ]
  },
  {
   "cell_type": "markdown",
   "metadata": {},
   "source": [
    "## Set up"
   ]
  },
  {
   "cell_type": "code",
   "execution_count": 1,
   "metadata": {
    "execution": {
     "iopub.execute_input": "2024-07-01T15:35:42.041534Z",
     "iopub.status.busy": "2024-07-01T15:35:42.041216Z",
     "iopub.status.idle": "2024-07-01T15:35:42.439281Z",
     "shell.execute_reply": "2024-07-01T15:35:42.438908Z"
    }
   },
   "outputs": [],
   "source": [
    "# To run model\n",
    "import PHC\n",
    "\n",
    "# To import results and produce figures\n",
    "from reproduction_helpers import process_results\n",
    "import pandas as pd\n",
    "import os\n",
    "import matplotlib.pyplot as plt\n",
    "import numpy as np\n",
    "\n",
    "# To speed up run time\n",
    "from multiprocessing import Pool\n",
    "\n",
    "# Additional package to record runtime of this notebook\n",
    "import time\n",
    "start = time.time()"
   ]
  },
  {
   "cell_type": "code",
   "execution_count": 2,
   "metadata": {
    "execution": {
     "iopub.execute_input": "2024-07-01T15:35:42.441523Z",
     "iopub.status.busy": "2024-07-01T15:35:42.441377Z",
     "iopub.status.idle": "2024-07-01T15:35:42.443906Z",
     "shell.execute_reply": "2024-07-01T15:35:42.443494Z"
    }
   },
   "outputs": [],
   "source": [
    "# Paths to save image files to\n",
    "output_folder = '../outputs'\n",
    "save_path = os.path.join(output_folder, 'intext5.csv')"
   ]
  },
  {
   "cell_type": "markdown",
   "metadata": {},
   "source": [
    "## Run model"
   ]
  },
  {
   "cell_type": "code",
   "execution_count": 3,
   "metadata": {
    "execution": {
     "iopub.execute_input": "2024-07-01T15:35:42.445431Z",
     "iopub.status.busy": "2024-07-01T15:35:42.445332Z",
     "iopub.status.idle": "2024-07-01T15:35:42.454809Z",
     "shell.execute_reply": "2024-07-01T15:35:42.454476Z"
    }
   },
   "outputs": [],
   "source": [
    "# Define model variants\n",
    "dict_list = [\n",
    "    {\n",
    "        'inpatient_bed_n': 6,\n",
    "        'IPD_iat': 720,\n",
    "        'delivery_iat': 720,\n",
    "        'ANC_iat': 720,\n",
    "        'rep_file': 'in5_6bed.xls'\n",
    "    },\n",
    "    {\n",
    "        'inpatient_bed_n': 4,\n",
    "        'IPD_iat': 720,\n",
    "        'delivery_iat': 720,\n",
    "        'ANC_iat': 720,\n",
    "        'rep_file': 'in5_4bed.xls'\n",
    "    },\n",
    "]"
   ]
  },
  {
   "cell_type": "code",
   "execution_count": 4,
   "metadata": {
    "execution": {
     "iopub.execute_input": "2024-07-01T15:35:42.456338Z",
     "iopub.status.busy": "2024-07-01T15:35:42.456232Z",
     "iopub.status.idle": "2024-07-01T15:35:42.458442Z",
     "shell.execute_reply": "2024-07-01T15:35:42.458145Z"
    }
   },
   "outputs": [],
   "source": [
    "# Append 's_' to all items\n",
    "for i, d in enumerate(dict_list):\n",
    "    dict_list[i] = {f's_{k}': v for k, v in d.items()}"
   ]
  },
  {
   "cell_type": "code",
   "execution_count": 5,
   "metadata": {
    "execution": {
     "iopub.execute_input": "2024-07-01T15:35:42.459923Z",
     "iopub.status.busy": "2024-07-01T15:35:42.459715Z",
     "iopub.status.idle": "2024-07-01T15:37:53.467655Z",
     "shell.execute_reply": "2024-07-01T15:37:53.466990Z"
    }
   },
   "outputs": [
    {
     "name": "stdout",
     "output_type": "stream",
     "text": [
      " No of replications done 0\n",
      " No of replications done 0\n",
      " No of replications done 1\n",
      " No of replications done 1\n",
      " No of replications done 2\n",
      " No of replications done 2\n",
      " No of replications done 3\n",
      " No of replications done 3\n",
      " No of replications done 4\n",
      " No of replications done 4\n",
      " No of replications done 5\n",
      " No of replications done 5\n",
      " No of replications done 6\n",
      " No of replications done 6\n",
      " No of replications done 7\n",
      " No of replications done 7\n",
      " No of replications done 8\n",
      " No of replications done 8\n",
      " No of replications done 9\n",
      " No of replications done 9\n"
     ]
    }
   ],
   "source": [
    "# Wrapper function to allow input of dictionary with pool\n",
    "def wrapper(d):\n",
    "    return PHC.main(**d)\n",
    "\n",
    "# Create a process pool that uses all CPUs\n",
    "with Pool() as pool:\n",
    "    # Run PHC.main() using each of inputs from config\n",
    "    pool.map(wrapper, dict_list)"
   ]
  },
  {
   "cell_type": "markdown",
   "metadata": {},
   "source": [
    "## Process results"
   ]
  },
  {
   "cell_type": "code",
   "execution_count": 6,
   "metadata": {
    "execution": {
     "iopub.execute_input": "2024-07-01T15:37:53.470127Z",
     "iopub.status.busy": "2024-07-01T15:37:53.469932Z",
     "iopub.status.idle": "2024-07-01T15:37:53.486847Z",
     "shell.execute_reply": "2024-07-01T15:37:53.486443Z"
    }
   },
   "outputs": [
    {
     "data": {
      "text/html": [
       "<div>\n",
       "<style scoped>\n",
       "    .dataframe tbody tr th:only-of-type {\n",
       "        vertical-align: middle;\n",
       "    }\n",
       "\n",
       "    .dataframe tbody tr th {\n",
       "        vertical-align: top;\n",
       "    }\n",
       "\n",
       "    .dataframe thead th {\n",
       "        text-align: right;\n",
       "    }\n",
       "</style>\n",
       "<table border=\"1\" class=\"dataframe\">\n",
       "  <thead>\n",
       "    <tr style=\"text-align: right;\">\n",
       "      <th></th>\n",
       "      <th>6 beds</th>\n",
       "      <th>4 beds</th>\n",
       "    </tr>\n",
       "    <tr>\n",
       "      <th>Output</th>\n",
       "      <th></th>\n",
       "      <th></th>\n",
       "    </tr>\n",
       "  </thead>\n",
       "  <tbody>\n",
       "    <tr>\n",
       "      <th>Inpatient bed utilisation (metric 1)</th>\n",
       "      <td>0.186271</td>\n",
       "      <td>0.280377</td>\n",
       "    </tr>\n",
       "    <tr>\n",
       "      <th>Inpatient bed utilisation (metric 2)</th>\n",
       "      <td>0.198000</td>\n",
       "      <td>0.297000</td>\n",
       "    </tr>\n",
       "  </tbody>\n",
       "</table>\n",
       "</div>"
      ],
      "text/plain": [
       "                                        6 beds    4 beds\n",
       "Output                                                  \n",
       "Inpatient bed utilisation (metric 1)  0.186271  0.280377\n",
       "Inpatient bed utilisation (metric 2)  0.198000  0.297000"
      ]
     },
     "execution_count": 6,
     "metadata": {},
     "output_type": "execute_result"
    }
   ],
   "source": [
    "# Process results\n",
    "data = process_results([i['s_rep_file'] for i in dict_list], xls=True)\n",
    "\n",
    "# Get bed utilisation metrics\n",
    "result = data.loc[['ipd bed occ', 'ipd occ']]\n",
    "\n",
    "# Relabel dataframe for readability\n",
    "result = result.rename_axis('Output')\n",
    "result = result.rename({'ipd bed occ': 'Inpatient bed utilisation (metric 1)',\n",
    "                        'ipd occ': 'Inpatient bed utilisation (metric 2)'})\n",
    "result = result.rename({'in5_6bed': '6 beds',\n",
    "                        'in5_4bed': '4 beds'}, axis=1)\n",
    "\n",
    "# Save and display result\n",
    "result.to_csv(save_path, index=True)\n",
    "result"
   ]
  },
  {
   "cell_type": "markdown",
   "metadata": {},
   "source": [
    "## Run time"
   ]
  },
  {
   "cell_type": "code",
   "execution_count": 7,
   "metadata": {
    "execution": {
     "iopub.execute_input": "2024-07-01T15:37:53.488650Z",
     "iopub.status.busy": "2024-07-01T15:37:53.488548Z",
     "iopub.status.idle": "2024-07-01T15:37:53.490962Z",
     "shell.execute_reply": "2024-07-01T15:37:53.490626Z"
    }
   },
   "outputs": [
    {
     "name": "stdout",
     "output_type": "stream",
     "text": [
      "Notebook run time: 2m 11s\n"
     ]
    }
   ],
   "source": [
    "# Find run time in seconds\n",
    "end = time.time()\n",
    "runtime = round(end-start)\n",
    "\n",
    "# Display converted to minutes and seconds\n",
    "print(f'Notebook run time: {runtime//60}m {runtime%60}s')"
   ]
  }
 ],
 "metadata": {
  "kernelspec": {
   "display_name": "shoaib2022",
   "language": "python",
   "name": "python3"
  },
  "language_info": {
   "codemirror_mode": {
    "name": "ipython",
    "version": 3
   },
   "file_extension": ".py",
   "mimetype": "text/x-python",
   "name": "python",
   "nbconvert_exporter": "python",
   "pygments_lexer": "ipython3",
   "version": "3.9.19"
  }
 },
 "nbformat": 4,
 "nbformat_minor": 2
}
