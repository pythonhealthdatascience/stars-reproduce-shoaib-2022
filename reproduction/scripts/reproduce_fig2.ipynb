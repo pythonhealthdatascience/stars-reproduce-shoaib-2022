{
 "cells": [
  {
   "cell_type": "markdown",
   "metadata": {},
   "source": [
    "# Reproducing Figure 2A-D\n",
    "\n",
    "This notebook aims to reproduce Figures 2A-D from Shoaib M, Ramamohan V. **Simulation modeling and analysis of primary health center operations**. *SIMULATION* 98(3):183-208. (2022). <https://doi.org/10.1177/00375497211030931>.\n",
    "\n",
    "![Figure 2A](../../original_study/fig2a.png){.lightbox}\n",
    "\n",
    "![Figure 2B](../../original_study/fig2b.png){.lightbox}\n",
    "\n",
    "![Figure 2C](../../original_study/fig2c.png){.lightbox}\n",
    "\n",
    "![Figure 2D](../../original_study/fig2d.png){.lightbox}\n",
    "\n",
    "## Parameters\n",
    "\n",
    "In these figures, we vary:\n",
    "\n",
    "* **Number of outpatients per day**:\n",
    "    * 170 (same as config 4)\n",
    "    * 85\n",
    "    * 65\n",
    "* **Average service time for outpatients** - mean (SD):\n",
    "    * 0.87 (0.21) (same as config 1)\n",
    "    * 2.5 (0.5)\n",
    "    * 5 (1)\n",
    "\n",
    "To calculate inter-arrival times from those numbers per day, based on article description and the provided patient counts and equivalent IAT, understand the method for calculation to be **round(60/(n/8.5))**,  where n is the number of arrivals per day. As such..."
   ]
  },
  {
   "cell_type": "code",
   "execution_count": 1,
   "metadata": {
    "execution": {
     "iopub.execute_input": "2024-07-01T15:20:43.822304Z",
     "iopub.status.busy": "2024-07-01T15:20:43.822096Z",
     "iopub.status.idle": "2024-07-01T15:20:43.827188Z",
     "shell.execute_reply": "2024-07-01T15:20:43.826885Z"
    }
   },
   "outputs": [
    {
     "name": "stdout",
     "output_type": "stream",
     "text": [
      "For 170 outpatients, use IAT (rounded to nearest int): 3.0\n",
      "For 85 outpatients, use IAT (rounded to nearest int): 6.0\n",
      "For 65 outpatients, use IAT (rounded to nearest int): 7.846153846153846\n"
     ]
    }
   ],
   "source": [
    "# Calculation of inter-arrival times\n",
    "print(f'For 170 outpatients, use IAT (rounded to nearest int): {60/(170/8.5)}')\n",
    "print(f'For 85 outpatients, use IAT (rounded to nearest int): {60/(85/8.5)}')\n",
    "print(f'For 65 outpatients, use IAT (rounded to nearest int): {60/(65/8.5)}')"
   ]
  },
  {
   "cell_type": "markdown",
   "metadata": {},
   "source": [
    "## Set up"
   ]
  },
  {
   "cell_type": "code",
   "execution_count": 2,
   "metadata": {
    "execution": {
     "iopub.execute_input": "2024-07-01T15:20:43.846880Z",
     "iopub.status.busy": "2024-07-01T15:20:43.846605Z",
     "iopub.status.idle": "2024-07-01T15:20:44.264729Z",
     "shell.execute_reply": "2024-07-01T15:20:44.264065Z"
    }
   },
   "outputs": [],
   "source": [
    "# To run model\n",
    "import PHC\n",
    "\n",
    "# To import results and produce figures\n",
    "from reproduction_helpers import process_results\n",
    "import pandas as pd\n",
    "import os\n",
    "import matplotlib.pyplot as plt\n",
    "import numpy as np\n",
    "\n",
    "# To speed up run time\n",
    "from multiprocessing import Pool\n",
    "\n",
    "# Additional package to record runtime of this notebook\n",
    "import time\n",
    "start = time.time()"
   ]
  },
  {
   "cell_type": "code",
   "execution_count": 3,
   "metadata": {
    "execution": {
     "iopub.execute_input": "2024-07-01T15:20:44.266706Z",
     "iopub.status.busy": "2024-07-01T15:20:44.266548Z",
     "iopub.status.idle": "2024-07-01T15:20:44.269881Z",
     "shell.execute_reply": "2024-07-01T15:20:44.269344Z"
    }
   },
   "outputs": [],
   "source": [
    "# Paths to save image files to\n",
    "output_folder = '../outputs'\n",
    "fig2a_path = os.path.join(output_folder, 'fig2a.png')\n",
    "fig2b_path = os.path.join(output_folder, 'fig2b.png')\n",
    "fig2c_path = os.path.join(output_folder, 'fig2c.png')\n",
    "fig2d_path = os.path.join(output_folder, 'fig2d.png')"
   ]
  },
  {
   "cell_type": "markdown",
   "metadata": {},
   "source": [
    "## Run model\n",
    "\n",
    "As this is a variation on configuration 1 (which is the default parameters in PHC.py), we just need to input the varying number of outpatients and service time."
   ]
  },
  {
   "cell_type": "code",
   "execution_count": 4,
   "metadata": {
    "execution": {
     "iopub.execute_input": "2024-07-01T15:20:44.271451Z",
     "iopub.status.busy": "2024-07-01T15:20:44.271348Z",
     "iopub.status.idle": "2024-07-01T15:20:44.281461Z",
     "shell.execute_reply": "2024-07-01T15:20:44.280944Z"
    }
   },
   "outputs": [],
   "source": [
    "# Varying number of outpatients\n",
    "arr_dict = [\n",
    "    {\n",
    "        'OPD_iat': 3,\n",
    "        'rep_file': 'arr170'\n",
    "    },\n",
    "    {\n",
    "        'OPD_iat': 6,\n",
    "        'rep_file': 'arr85',\n",
    "    },\n",
    "    {\n",
    "        'OPD_iat': 8,\n",
    "        'rep_file': 'arr65',\n",
    "    }\n",
    "]\n",
    "\n",
    "# Varying service time\n",
    "serv_dict = [\n",
    "    {\n",
    "        'mean': 0.87,\n",
    "        'sd': 0.21,\n",
    "        'consult_boundary_1': 0.5,  # From PHC.py\n",
    "        'consult_boundary_2': 0.3,  # From PHC.py\n",
    "        'rep_file': 'serv087'\n",
    "    },\n",
    "    {\n",
    "        'mean': 2.5,\n",
    "        'sd': 0.5,\n",
    "        'consult_boundary_1': 1,  # Guess\n",
    "        'consult_boundary_2': 1,  # Guess\n",
    "        'rep_file': 'serv25'\n",
    "    },\n",
    "    {\n",
    "        'mean': 5,\n",
    "        'sd': 1,\n",
    "        'consult_boundary_1': 2,  # From config 4\n",
    "        'consult_boundary_2': 2,  # From config 4\n",
    "        'rep_file': 'serv5'\n",
    "    }\n",
    "]"
   ]
  },
  {
   "cell_type": "markdown",
   "metadata": {},
   "source": [
    "Create each combination for the reproduction"
   ]
  },
  {
   "cell_type": "code",
   "execution_count": 5,
   "metadata": {
    "execution": {
     "iopub.execute_input": "2024-07-01T15:20:44.283079Z",
     "iopub.status.busy": "2024-07-01T15:20:44.282976Z",
     "iopub.status.idle": "2024-07-01T15:20:44.286388Z",
     "shell.execute_reply": "2024-07-01T15:20:44.286097Z"
    }
   },
   "outputs": [
    {
     "data": {
      "text/plain": [
       "9"
      ]
     },
     "execution_count": 5,
     "metadata": {},
     "output_type": "execute_result"
    }
   ],
   "source": [
    "dict_list = []\n",
    "for arr in arr_dict:\n",
    "    for serv in serv_dict:\n",
    "        # Combine the dictionaries\n",
    "        comb = {**arr, **serv}\n",
    "        # Replace the file name\n",
    "        comb['rep_file'] = f'''f2_{arr['rep_file']}_{serv['rep_file']}.xls'''\n",
    "        # Save to list\n",
    "        dict_list.append(comb)\n",
    "\n",
    "len(dict_list)"
   ]
  },
  {
   "cell_type": "code",
   "execution_count": 6,
   "metadata": {
    "execution": {
     "iopub.execute_input": "2024-07-01T15:20:44.288040Z",
     "iopub.status.busy": "2024-07-01T15:20:44.287797Z",
     "iopub.status.idle": "2024-07-01T15:20:44.290864Z",
     "shell.execute_reply": "2024-07-01T15:20:44.290477Z"
    }
   },
   "outputs": [
    {
     "data": {
      "text/plain": [
       "{'s_OPD_iat': 3,\n",
       " 's_rep_file': 'f2_arr170_serv087.xls',\n",
       " 's_mean': 0.87,\n",
       " 's_sd': 0.21,\n",
       " 's_consult_boundary_1': 0.5,\n",
       " 's_consult_boundary_2': 0.3}"
      ]
     },
     "execution_count": 6,
     "metadata": {},
     "output_type": "execute_result"
    }
   ],
   "source": [
    "# Append 's_' to all items\n",
    "for i, d in enumerate(dict_list):\n",
    "    dict_list[i] = {f's_{k}': v for k, v in d.items()}\n",
    "\n",
    "# Preview example\n",
    "dict_list[0]"
   ]
  },
  {
   "cell_type": "markdown",
   "metadata": {},
   "source": [
    "Run the model (with parallel processing to reduce run time)"
   ]
  },
  {
   "cell_type": "code",
   "execution_count": 7,
   "metadata": {
    "execution": {
     "iopub.execute_input": "2024-07-01T15:20:44.292581Z",
     "iopub.status.busy": "2024-07-01T15:20:44.292448Z",
     "iopub.status.idle": "2024-07-01T15:24:11.116288Z",
     "shell.execute_reply": "2024-07-01T15:24:11.115646Z"
    }
   },
   "outputs": [
    {
     "name": "stdout",
     "output_type": "stream",
     "text": [
      " No of replications done 0\n",
      " No of replications done 0\n",
      " No of replications done 0\n",
      " No of replications done 0\n",
      " No of replications done 0\n",
      " No of replications done 0\n",
      " No of replications done 0\n",
      " No of replications done 0\n",
      " No of replications done 0\n",
      " No of replications done 1\n",
      " No of replications done 1\n",
      " No of replications done 1\n",
      " No of replications done 1\n",
      " No of replications done 1\n",
      " No of replications done 2\n",
      " No of replications done 1\n",
      " No of replications done 2\n",
      " No of replications done 2\n",
      " No of replications done 3\n",
      " No of replications done 2\n",
      " No of replications done 1\n",
      " No of replications done 1\n",
      " No of replications done 2\n",
      " No of replications done 2\n",
      " No of replications done 1\n",
      " No of replications done 3\n",
      " No of replications done 4\n",
      " No of replications done 3\n",
      " No of replications done 3\n",
      " No of replications done 3\n",
      " No of replications done 5\n",
      " No of replications done 4\n",
      " No of replications done 3\n",
      " No of replications done 4\n",
      " No of replications done 2\n",
      " No of replications done 2\n",
      " No of replications done 4\n",
      " No of replications done 4\n",
      " No of replications done 6\n",
      " No of replications done 5\n",
      " No of replications done 5\n",
      " No of replications done 5\n",
      " No of replications done 2\n",
      " No of replications done 4\n",
      " No of replications done 7\n",
      " No of replications done 5\n",
      " No of replications done 6\n",
      " No of replications done 3\n",
      " No of replications done 6\n",
      " No of replications done 6\n",
      " No of replications done 8\n",
      " No of replications done 6\n",
      " No of replications done 5\n",
      " No of replications done 7\n",
      " No of replications done 7\n",
      " No of replications done 3\n",
      " No of replications done 9\n",
      " No of replications done 6\n",
      " No of replications done 7\n",
      " No of replications done 4\n",
      " No of replications done 8\n",
      " No of replications done 7\n",
      " No of replications done 8\n",
      " No of replications done 3\n",
      " No of replications done 7\n",
      " No of replications done 8\n",
      " No of replications done 9\n",
      " No of replications done 9\n",
      " No of replications done 4\n",
      " No of replications done 8\n",
      " No of replications done 5\n",
      " No of replications done 8\n",
      " No of replications done 9\n",
      " No of replications done 4\n",
      " No of replications done 9\n",
      " No of replications done 9\n",
      " No of replications done 5\n",
      " No of replications done 6\n",
      " No of replications done 5\n",
      " No of replications done 6\n",
      " No of replications done 7\n",
      " No of replications done 6\n",
      " No of replications done 7\n",
      " No of replications done 8\n",
      " No of replications done 7\n",
      " No of replications done 8\n",
      " No of replications done 9\n",
      " No of replications done 8\n",
      " No of replications done 9\n",
      " No of replications done 9\n"
     ]
    }
   ],
   "source": [
    "# Wrapper function to allow input of dictionary with pool\n",
    "def wrapper(d):\n",
    "    return PHC.main(**d)\n",
    "\n",
    "# Create a process pool that uses all CPUs\n",
    "with Pool() as pool:\n",
    "    # Run PHC.main() using each of inputs from config\n",
    "    pool.map(wrapper, dict_list)"
   ]
  },
  {
   "cell_type": "markdown",
   "metadata": {},
   "source": [
    "## Create Figure 2A"
   ]
  },
  {
   "cell_type": "code",
   "execution_count": 8,
   "metadata": {
    "execution": {
     "iopub.execute_input": "2024-07-01T15:24:11.119123Z",
     "iopub.status.busy": "2024-07-01T15:24:11.119011Z",
     "iopub.status.idle": "2024-07-01T15:24:11.151040Z",
     "shell.execute_reply": "2024-07-01T15:24:11.150603Z"
    }
   },
   "outputs": [
    {
     "data": {
      "text/plain": [
       "f2_arr170_serv087    0.311815\n",
       "f2_arr85_serv087     0.225192\n",
       "f2_arr65_serv087     0.204317\n",
       "f2_arr170_serv25     0.640142\n",
       "f2_arr85_serv25      0.389486\n",
       "f2_arr65_serv25      0.327015\n",
       "f2_arr170_serv5      1.141365\n",
       "f2_arr85_serv5       0.640515\n",
       "f2_arr65_serv5       0.517174\n",
       "Name: doc occ, dtype: float64"
      ]
     },
     "execution_count": 8,
     "metadata": {},
     "output_type": "execute_result"
    }
   ],
   "source": [
    "# Import and process results\n",
    "data_full = process_results([\n",
    "    'f2_arr170_serv087', 'f2_arr85_serv087', 'f2_arr65_serv087',\n",
    "    'f2_arr170_serv25', 'f2_arr85_serv25', 'f2_arr65_serv25',\n",
    "    'f2_arr170_serv5', 'f2_arr85_serv5', 'f2_arr65_serv5'])\n",
    "\n",
    "# Filter to doctor utilisation\n",
    "data_2a = data_full.loc['doc occ']\n",
    "data_2a"
   ]
  },
  {
   "cell_type": "code",
   "execution_count": 9,
   "metadata": {
    "execution": {
     "iopub.execute_input": "2024-07-01T15:24:11.152864Z",
     "iopub.status.busy": "2024-07-01T15:24:11.152729Z",
     "iopub.status.idle": "2024-07-01T15:24:11.156759Z",
     "shell.execute_reply": "2024-07-01T15:24:11.156468Z"
    }
   },
   "outputs": [],
   "source": [
    "def create_2a_2d(s, ylab, file, ylim=False):\n",
    "    '''\n",
    "    Creates Figure 2A or 2D (as both are very similar)\n",
    "\n",
    "    Parameters:\n",
    "    -----------\n",
    "    s : pd.Series\n",
    "        Series with mean result as values, and the model variant as index\n",
    "    ylab : string\n",
    "        Label for y axis\n",
    "    file : string\n",
    "        Path to save figure\n",
    "    ylim : list, optional, default False\n",
    "        If provided, gives the lower and upper limits for the Y axis\n",
    "\n",
    "    Returns:\n",
    "    --------\n",
    "    matplotlib figure \n",
    "    '''\n",
    "    # Reshape data so in appropriate format for plotting grouped bar chart\n",
    "    names = [170, 85, 65]\n",
    "    s5 = [s['f2_arr170_serv5'], s['f2_arr85_serv5'], s['f2_arr65_serv5']]\n",
    "    s25 = [s['f2_arr170_serv25'], s['f2_arr85_serv25'], s['f2_arr65_serv25']]\n",
    "    s87 = [s['f2_arr170_serv087'], s['f2_arr85_serv087'], s['f2_arr65_serv087']]\n",
    "\n",
    "    data = pd.DataFrame(\n",
    "        {'5 (1)': s5, '2.5 (0.5)': s25, '0.87 (0.21)': s87}, index=names)\n",
    "\n",
    "    # Plot data\n",
    "    ax = data.plot.bar(edgecolor='black', color='white', width=0.7)\n",
    "\n",
    "    # Add patterns\n",
    "    bars = ax.patches\n",
    "    pattern = np.repeat(['..', '+++++', '\\\\\\\\\\\\\\\\'], 3)\n",
    "    for bar, hatch in zip(bars, pattern):\n",
    "        bar.set_hatch(hatch)\n",
    "    ax.legend(title='Consultation time (min): mean (sd)')\n",
    "\n",
    "    # Adjust figure\n",
    "    plt.xlabel('Number of patients/day')\n",
    "    plt.ylabel(ylab)\n",
    "    if ylim:\n",
    "        plt.ylim(ylim)\n",
    "    plt.xticks(rotation=0)\n",
    "    ax.grid(axis='y')\n",
    "    ax.set_axisbelow(True)\n",
    "    plt.savefig(file, bbox_inches='tight')\n",
    "    plt.show()"
   ]
  },
  {
   "cell_type": "code",
   "execution_count": 10,
   "metadata": {
    "execution": {
     "iopub.execute_input": "2024-07-01T15:24:11.158414Z",
     "iopub.status.busy": "2024-07-01T15:24:11.158280Z",
     "iopub.status.idle": "2024-07-01T15:24:11.303014Z",
     "shell.execute_reply": "2024-07-01T15:24:11.302499Z"
    }
   },
   "outputs": [
    {
     "data": {
      "image/png": "[encoded data removed]",
      "text/plain": [
       "<Figure size 640x480 with 1 Axes>"
      ]
     },
     "metadata": {},
     "output_type": "display_data"
    }
   ],
   "source": [
    "create_2a_2d(data_2a, ylab='''Doctor's utilisation''', file=fig2a_path)"
   ]
  },
  {
   "cell_type": "markdown",
   "metadata": {},
   "source": [
    "## Create Figure 2B"
   ]
  },
  {
   "cell_type": "markdown",
   "metadata": {},
   "source": [
    "Import and process data - note: used 0.87 since that is PHC1 and this is described as variants on that but, as paper notes and as I've observed (not shown here), \"the doctor's consultation time does not impact this outcome\", so it ultimately doesn't matter which is chosen."
   ]
  },
  {
   "cell_type": "code",
   "execution_count": 11,
   "metadata": {
    "execution": {
     "iopub.execute_input": "2024-07-01T15:24:11.305459Z",
     "iopub.status.busy": "2024-07-01T15:24:11.305338Z",
     "iopub.status.idle": "2024-07-01T15:24:11.319733Z",
     "shell.execute_reply": "2024-07-01T15:24:11.319378Z"
    }
   },
   "outputs": [
    {
     "data": {
      "text/html": [
       "<div>\n",
       "<style scoped>\n",
       "    .dataframe tbody tr th:only-of-type {\n",
       "        vertical-align: middle;\n",
       "    }\n",
       "\n",
       "    .dataframe tbody tr th {\n",
       "        vertical-align: top;\n",
       "    }\n",
       "\n",
       "    .dataframe thead th {\n",
       "        text-align: right;\n",
       "    }\n",
       "</style>\n",
       "<table border=\"1\" class=\"dataframe\">\n",
       "  <thead>\n",
       "    <tr style=\"text-align: right;\">\n",
       "      <th></th>\n",
       "      <th>170</th>\n",
       "      <th>85</th>\n",
       "      <th>65</th>\n",
       "    </tr>\n",
       "  </thead>\n",
       "  <tbody>\n",
       "    <tr>\n",
       "      <th>OPD patients</th>\n",
       "      <td>44022.000000</td>\n",
       "      <td>22156.400000</td>\n",
       "      <td>16744.600000</td>\n",
       "    </tr>\n",
       "    <tr>\n",
       "      <th>IPD patients</th>\n",
       "      <td>182.600000</td>\n",
       "      <td>184.000000</td>\n",
       "      <td>183.400000</td>\n",
       "    </tr>\n",
       "    <tr>\n",
       "      <th>ANC patients</th>\n",
       "      <td>357.700000</td>\n",
       "      <td>354.700000</td>\n",
       "      <td>368.400000</td>\n",
       "    </tr>\n",
       "    <tr>\n",
       "      <th>Del patients</th>\n",
       "      <td>359.300000</td>\n",
       "      <td>371.500000</td>\n",
       "      <td>373.900000</td>\n",
       "    </tr>\n",
       "    <tr>\n",
       "      <th>OPD Q wt</th>\n",
       "      <td>0.012598</td>\n",
       "      <td>0.006986</td>\n",
       "      <td>0.005684</td>\n",
       "    </tr>\n",
       "  </tbody>\n",
       "</table>\n",
       "</div>"
      ],
      "text/plain": [
       "                       170            85            65\n",
       "OPD patients  44022.000000  22156.400000  16744.600000\n",
       "IPD patients    182.600000    184.000000    183.400000\n",
       "ANC patients    357.700000    354.700000    368.400000\n",
       "Del patients    359.300000    371.500000    373.900000\n",
       "OPD Q wt          0.012598      0.006986      0.005684"
      ]
     },
     "execution_count": 11,
     "metadata": {},
     "output_type": "execute_result"
    }
   ],
   "source": [
    "# Import and process results\n",
    "data_2b = process_results([\n",
    "    'f2_arr170_serv087', 'f2_arr85_serv087', 'f2_arr65_serv087'])\n",
    "\n",
    "# Rename columns\n",
    "data_2b.columns = (\n",
    "    data_2b.columns.str.removeprefix('f2_arr').str.removesuffix('_serv087'))\n",
    "\n",
    "# Preview data\n",
    "data_2b.head()"
   ]
  },
  {
   "cell_type": "markdown",
   "metadata": {},
   "source": [
    "Produce figure"
   ]
  },
  {
   "cell_type": "code",
   "execution_count": 12,
   "metadata": {
    "execution": {
     "iopub.execute_input": "2024-07-01T15:24:11.321658Z",
     "iopub.status.busy": "2024-07-01T15:24:11.321508Z",
     "iopub.status.idle": "2024-07-01T15:24:11.412927Z",
     "shell.execute_reply": "2024-07-01T15:24:11.412546Z"
    }
   },
   "outputs": [
    {
     "data": {
      "image/png": "[encoded data removed]",
      "text/plain": [
       "<Figure size 640x480 with 1 Axes>"
      ]
     },
     "metadata": {},
     "output_type": "display_data"
    }
   ],
   "source": [
    "ax = data_2b.loc['NCD occ'].plot.bar(\n",
    "    edgecolor='black', color='white', hatch='..')\n",
    "plt.xlabel('Number of patients/day')\n",
    "plt.ylabel('''NCD nurse's utilisation''')\n",
    "plt.ylim(0, 1.4)\n",
    "plt.xticks(rotation=0)\n",
    "ax.grid(axis='y')\n",
    "ax.set_axisbelow(True)\n",
    "plt.savefig(fig2b_path, bbox_inches='tight')\n",
    "plt.show()"
   ]
  },
  {
   "cell_type": "markdown",
   "metadata": {},
   "source": [
    "## Create Figure 2C"
   ]
  },
  {
   "cell_type": "markdown",
   "metadata": {},
   "source": [
    "Import and process data"
   ]
  },
  {
   "cell_type": "code",
   "execution_count": 13,
   "metadata": {
    "execution": {
     "iopub.execute_input": "2024-07-01T15:24:11.414680Z",
     "iopub.status.busy": "2024-07-01T15:24:11.414551Z",
     "iopub.status.idle": "2024-07-01T15:24:11.430086Z",
     "shell.execute_reply": "2024-07-01T15:24:11.429757Z"
    }
   },
   "outputs": [
    {
     "data": {
      "text/html": [
       "<div>\n",
       "<style scoped>\n",
       "    .dataframe tbody tr th:only-of-type {\n",
       "        vertical-align: middle;\n",
       "    }\n",
       "\n",
       "    .dataframe tbody tr th {\n",
       "        vertical-align: top;\n",
       "    }\n",
       "\n",
       "    .dataframe thead th {\n",
       "        text-align: right;\n",
       "    }\n",
       "</style>\n",
       "<table border=\"1\" class=\"dataframe\">\n",
       "  <thead>\n",
       "    <tr style=\"text-align: right;\">\n",
       "      <th></th>\n",
       "      <th>170</th>\n",
       "      <th>85</th>\n",
       "      <th>65</th>\n",
       "    </tr>\n",
       "  </thead>\n",
       "  <tbody>\n",
       "    <tr>\n",
       "      <th>OPD patients</th>\n",
       "      <td>43965.100000</td>\n",
       "      <td>22121.700000</td>\n",
       "      <td>16680.200000</td>\n",
       "    </tr>\n",
       "    <tr>\n",
       "      <th>IPD patients</th>\n",
       "      <td>178.600000</td>\n",
       "      <td>177.200000</td>\n",
       "      <td>185.500000</td>\n",
       "    </tr>\n",
       "    <tr>\n",
       "      <th>ANC patients</th>\n",
       "      <td>360.900000</td>\n",
       "      <td>356.900000</td>\n",
       "      <td>358.800000</td>\n",
       "    </tr>\n",
       "    <tr>\n",
       "      <th>Del patients</th>\n",
       "      <td>373.300000</td>\n",
       "      <td>NaN</td>\n",
       "      <td>370.900000</td>\n",
       "    </tr>\n",
       "    <tr>\n",
       "      <th>OPD Q wt</th>\n",
       "      <td>6.936889</td>\n",
       "      <td>0.540399</td>\n",
       "      <td>0.275889</td>\n",
       "    </tr>\n",
       "  </tbody>\n",
       "</table>\n",
       "</div>"
      ],
      "text/plain": [
       "                       170            85            65\n",
       "OPD patients  43965.100000  22121.700000  16680.200000\n",
       "IPD patients    178.600000    177.200000    185.500000\n",
       "ANC patients    360.900000    356.900000    358.800000\n",
       "Del patients    373.300000           NaN    370.900000\n",
       "OPD Q wt          6.936889      0.540399      0.275889"
      ]
     },
     "execution_count": 13,
     "metadata": {},
     "output_type": "execute_result"
    }
   ],
   "source": [
    "# Import and process results\n",
    "data_2c = process_results([\n",
    "    'f2_arr170_serv5', 'f2_arr85_serv5', 'f2_arr65_serv5'])\n",
    "\n",
    "# Rename columns\n",
    "data_2c.columns = (\n",
    "    data_2c.columns.str.removeprefix('f2_arr').str.removesuffix('_serv5'))\n",
    "\n",
    "# Preview data\n",
    "data_2c.head()"
   ]
  },
  {
   "cell_type": "markdown",
   "metadata": {},
   "source": [
    "Produce figure"
   ]
  },
  {
   "cell_type": "code",
   "execution_count": 14,
   "metadata": {
    "execution": {
     "iopub.execute_input": "2024-07-01T15:24:11.431515Z",
     "iopub.status.busy": "2024-07-01T15:24:11.431395Z",
     "iopub.status.idle": "2024-07-01T15:24:11.531857Z",
     "shell.execute_reply": "2024-07-01T15:24:11.531353Z"
    }
   },
   "outputs": [
    {
     "data": {
      "image/png": "[encoded data removed]",
      "text/plain": [
       "<Figure size 640x480 with 1 Axes>"
      ]
     },
     "metadata": {},
     "output_type": "display_data"
    }
   ],
   "source": [
    "# Create figure\n",
    "ax = data_2c.loc['OPD Q wt'].plot.bar(\n",
    "    edgecolor='black', color='white', hatch='..')\n",
    "plt.xlabel('Number of patients/day')\n",
    "plt.ylabel('''OPD average waiting time (minutes)''')\n",
    "plt.xticks(rotation=0)\n",
    "plt.ylim(0, 8)\n",
    "ax.grid(axis='y')\n",
    "ax.set_axisbelow(True)\n",
    "plt.savefig(fig2c_path, bbox_inches='tight')\n",
    "plt.show()"
   ]
  },
  {
   "cell_type": "markdown",
   "metadata": {},
   "source": [
    "## Create Figure 2D"
   ]
  },
  {
   "cell_type": "code",
   "execution_count": 15,
   "metadata": {
    "execution": {
     "iopub.execute_input": "2024-07-01T15:24:11.534150Z",
     "iopub.status.busy": "2024-07-01T15:24:11.533898Z",
     "iopub.status.idle": "2024-07-01T15:24:11.537559Z",
     "shell.execute_reply": "2024-07-01T15:24:11.537264Z"
    }
   },
   "outputs": [
    {
     "data": {
      "text/plain": [
       "f2_arr170_serv087    2.435524\n",
       "f2_arr85_serv087     0.463927\n",
       "f2_arr65_serv087     0.293510\n",
       "f2_arr170_serv25     2.497280\n",
       "f2_arr85_serv25      0.456076\n",
       "f2_arr65_serv25      0.286186\n",
       "f2_arr170_serv5      1.282328\n",
       "f2_arr85_serv5       0.341688\n",
       "f2_arr65_serv5       0.215585\n",
       "Name: Pharmacy Q wt, dtype: float64"
      ]
     },
     "execution_count": 15,
     "metadata": {},
     "output_type": "execute_result"
    }
   ],
   "source": [
    "# Filter to pharmacy waiting time\n",
    "data_2d = data_full.loc['Pharmacy Q wt']\n",
    "data_2d"
   ]
  },
  {
   "cell_type": "code",
   "execution_count": 16,
   "metadata": {
    "execution": {
     "iopub.execute_input": "2024-07-01T15:24:11.539482Z",
     "iopub.status.busy": "2024-07-01T15:24:11.539358Z",
     "iopub.status.idle": "2024-07-01T15:24:11.686727Z",
     "shell.execute_reply": "2024-07-01T15:24:11.686241Z"
    }
   },
   "outputs": [
    {
     "data": {
      "image/png": "[encoded data removed]",
      "text/plain": [
       "<Figure size 640x480 with 1 Axes>"
      ]
     },
     "metadata": {},
     "output_type": "display_data"
    }
   ],
   "source": [
    "create_2a_2d(data_2d, ylab='Pharmacy average waiting time (minutes)',\n",
    "             ylim=[0, 3], file=fig2d_path)"
   ]
  },
  {
   "cell_type": "markdown",
   "metadata": {},
   "source": [
    "## Run time"
   ]
  },
  {
   "cell_type": "code",
   "execution_count": 17,
   "metadata": {
    "execution": {
     "iopub.execute_input": "2024-07-01T15:24:11.688977Z",
     "iopub.status.busy": "2024-07-01T15:24:11.688769Z",
     "iopub.status.idle": "2024-07-01T15:24:11.691606Z",
     "shell.execute_reply": "2024-07-01T15:24:11.691211Z"
    }
   },
   "outputs": [
    {
     "name": "stdout",
     "output_type": "stream",
     "text": [
      "Notebook run time: 3m 27s\n"
     ]
    }
   ],
   "source": [
    "# Find run time in seconds\n",
    "end = time.time()\n",
    "runtime = round(end-start)\n",
    "\n",
    "# Display converted to minutes and seconds\n",
    "print(f'Notebook run time: {runtime//60}m {runtime%60}s')"
   ]
  }
 ],
 "metadata": {
  "kernelspec": {
   "display_name": "shoaib2022",
   "language": "python",
   "name": "python3"
  },
  "language_info": {
   "codemirror_mode": {
    "name": "ipython",
    "version": 3
   },
   "file_extension": ".py",
   "mimetype": "text/x-python",
   "name": "python",
   "nbconvert_exporter": "python",
   "pygments_lexer": "ipython3",
   "version": "3.9.19"
  }
 },
 "nbformat": 4,
 "nbformat_minor": 2
}
