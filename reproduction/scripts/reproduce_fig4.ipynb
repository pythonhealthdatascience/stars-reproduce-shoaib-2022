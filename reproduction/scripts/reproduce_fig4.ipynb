{
 "cells": [
  {
   "cell_type": "markdown",
   "metadata": {},
   "source": [
    "# Reproducing Figure 4\n",
    "\n",
    "This notebook aims to reproduce Figure 4 from Shoaib M, Ramamohan V. **Simulation modeling and analysis of primary health center operations**. *SIMULATION* 98(3):183-208. (2022). <https://doi.org/10.1177/00375497211030931>.\n",
    "\n",
    "![Figure 4](../../original_study/fig4.png){.lightbox}\n",
    "\n",
    "## Parameters\n",
    "\n",
    "In this figure, we vary configuration 1 as follows:\n",
    "\n",
    "* Number of delivery beds: 2 or 3\n",
    "* Delivery arrivals: 1, 1.5 or 2 per day\n",
    "    * 1 = IAT 1440 (as in e.g. config1)\n",
    "    * 1.5 = 960 (as 720+240=960, and 960+480=1440)\n",
    "    * 2 = IAT 720 (as we did for Figure 3)"
   ]
  },
  {
   "cell_type": "markdown",
   "metadata": {},
   "source": [
    "## Set up"
   ]
  },
  {
   "cell_type": "code",
   "execution_count": 1,
   "metadata": {
    "execution": {
     "iopub.execute_input": "2024-07-01T15:27:00.676972Z",
     "iopub.status.busy": "2024-07-01T15:27:00.676297Z",
     "iopub.status.idle": "2024-07-01T15:27:01.088695Z",
     "shell.execute_reply": "2024-07-01T15:27:01.088221Z"
    }
   },
   "outputs": [],
   "source": [
    "# To run model\n",
    "import PHC\n",
    "\n",
    "# To import results and produce figures\n",
    "from reproduction_helpers import process_results\n",
    "import pandas as pd\n",
    "import os\n",
    "import matplotlib.pyplot as plt\n",
    "import matplotlib.ticker as ticker\n",
    "import itertools\n",
    "\n",
    "# To speed up run time\n",
    "from multiprocessing import Pool\n",
    "\n",
    "# Additional package to record runtime of this notebook\n",
    "import time\n",
    "start = time.time()"
   ]
  },
  {
   "cell_type": "code",
   "execution_count": 2,
   "metadata": {
    "execution": {
     "iopub.execute_input": "2024-07-01T15:27:01.090814Z",
     "iopub.status.busy": "2024-07-01T15:27:01.090669Z",
     "iopub.status.idle": "2024-07-01T15:27:01.093414Z",
     "shell.execute_reply": "2024-07-01T15:27:01.092943Z"
    }
   },
   "outputs": [],
   "source": [
    "# Paths to save image files to\n",
    "output_folder = '../outputs'\n",
    "fig4_path = os.path.join(output_folder, 'fig4.png')"
   ]
  },
  {
   "cell_type": "markdown",
   "metadata": {},
   "source": [
    "## Run model"
   ]
  },
  {
   "cell_type": "code",
   "execution_count": 3,
   "metadata": {
    "execution": {
     "iopub.execute_input": "2024-07-01T15:27:01.095234Z",
     "iopub.status.busy": "2024-07-01T15:27:01.095003Z",
     "iopub.status.idle": "2024-07-01T15:27:01.104756Z",
     "shell.execute_reply": "2024-07-01T15:27:01.104340Z"
    }
   },
   "outputs": [],
   "source": [
    "# Varying number of childbirth cases\n",
    "arr_dict = [\n",
    "    {\n",
    "        'delivery_iat': 1440,\n",
    "        'rep_file': 'arr1440'\n",
    "    },\n",
    "    {\n",
    "        'delivery_iat': 1080,\n",
    "        'rep_file': 'arr1080'\n",
    "    },\n",
    "    {\n",
    "        'delivery_iat': 960,\n",
    "        'rep_file': 'arr960'\n",
    "    },\n",
    "    {\n",
    "        'delivery_iat': 720,\n",
    "        'rep_file': 'arr720'\n",
    "    }\n",
    "]\n",
    "\n",
    "# Varying the number of beds\n",
    "bed_dict = [\n",
    "    {\n",
    "        'delivery_bed_n': 1,\n",
    "        'rep_file': 'bed1'\n",
    "    },\n",
    "    {\n",
    "        'delivery_bed_n': 2,\n",
    "        'rep_file': 'bed2'\n",
    "    }\n",
    "]"
   ]
  },
  {
   "cell_type": "markdown",
   "metadata": {},
   "source": [
    "Create each combination for the reproduction"
   ]
  },
  {
   "cell_type": "code",
   "execution_count": 4,
   "metadata": {
    "execution": {
     "iopub.execute_input": "2024-07-01T15:27:01.106183Z",
     "iopub.status.busy": "2024-07-01T15:27:01.106075Z",
     "iopub.status.idle": "2024-07-01T15:27:01.110125Z",
     "shell.execute_reply": "2024-07-01T15:27:01.109847Z"
    }
   },
   "outputs": [
    {
     "data": {
      "text/plain": [
       "8"
      ]
     },
     "execution_count": 4,
     "metadata": {},
     "output_type": "execute_result"
    }
   ],
   "source": [
    "dict_list = []\n",
    "for arr in arr_dict:\n",
    "    for bed in bed_dict:\n",
    "        # Combine the dictionaries\n",
    "        comb = {**arr, **bed}\n",
    "        # Replace the file name\n",
    "        comb['rep_file'] = f'''f4_{arr['rep_file']}_{bed['rep_file']}.xls'''\n",
    "        # Save to list\n",
    "        dict_list.append(comb)\n",
    "\n",
    "len(dict_list)"
   ]
  },
  {
   "cell_type": "code",
   "execution_count": 5,
   "metadata": {
    "execution": {
     "iopub.execute_input": "2024-07-01T15:27:01.130702Z",
     "iopub.status.busy": "2024-07-01T15:27:01.130233Z",
     "iopub.status.idle": "2024-07-01T15:27:01.133479Z",
     "shell.execute_reply": "2024-07-01T15:27:01.133219Z"
    }
   },
   "outputs": [
    {
     "data": {
      "text/plain": [
       "{'s_delivery_iat': 1440,\n",
       " 's_rep_file': 'f4_arr1440_bed1.xls',\n",
       " 's_delivery_bed_n': 1}"
      ]
     },
     "execution_count": 5,
     "metadata": {},
     "output_type": "execute_result"
    }
   ],
   "source": [
    "# Append 's_' to all items\n",
    "for i, d in enumerate(dict_list):\n",
    "    dict_list[i] = {f's_{k}': v for k, v in d.items()}\n",
    "\n",
    "# Preview example\n",
    "dict_list[0]"
   ]
  },
  {
   "cell_type": "markdown",
   "metadata": {},
   "source": [
    "Run the model (with parallel processing to reduce run time)"
   ]
  },
  {
   "cell_type": "code",
   "execution_count": 6,
   "metadata": {
    "execution": {
     "iopub.execute_input": "2024-07-01T15:27:01.134959Z",
     "iopub.status.busy": "2024-07-01T15:27:01.134862Z",
     "iopub.status.idle": "2024-07-01T15:30:00.599252Z",
     "shell.execute_reply": "2024-07-01T15:30:00.598497Z"
    }
   },
   "outputs": [
    {
     "name": "stdout",
     "output_type": "stream",
     "text": [
      " No of replications done No of replications done  00\n",
      "\n",
      " No of replications done 0\n",
      " No of replications done 0\n",
      " No of replications done 0\n",
      " No of replications done 0\n",
      " No of replications done 0\n",
      " No of replications done 0\n",
      " No of replications done 1\n",
      " No of replications done 1\n",
      " No of replications done 1\n",
      " No of replications done 1\n",
      " No of replications done 1\n",
      " No of replications done 1\n",
      " No of replications done 1\n",
      " No of replications done 2\n",
      " No of replications done 2\n",
      " No of replications done 2\n",
      " No of replications done 2\n",
      " No of replications done 2\n",
      " No of replications done 1\n",
      " No of replications done 2\n",
      " No of replications done 2\n",
      " No of replications done 3\n",
      " No of replications done 3\n",
      " No of replications done 3\n",
      " No of replications done 3\n",
      " No of replications done 3\n",
      " No of replications done 2\n",
      " No of replications done 3\n",
      " No of replications done 4\n",
      " No of replications done 4\n",
      " No of replications done 4\n",
      " No of replications done 4\n",
      " No of replications done 3\n",
      " No of replications done 3\n",
      " No of replications done 4\n",
      " No of replications done 4\n",
      " No of replications done 5\n",
      " No of replications done 5\n",
      " No of replications done 5\n",
      " No of replications done 5\n",
      " No of replications done 4\n",
      " No of replications done 5\n",
      " No of replications done 4\n",
      " No of replications done 6\n",
      " No of replications done 6\n",
      " No of replications done 6\n",
      " No of replications done 6\n",
      " No of replications done 5\n",
      " No of replications done 5\n",
      " No of replications done 6\n",
      " No of replications done 7\n",
      " No of replications done 7\n",
      " No of replications done 7\n",
      " No of replications done 7\n",
      " No of replications done 5\n",
      " No of replications done 6\n",
      " No of replications done 7\n",
      " No of replications done 6\n",
      " No of replications done 8\n",
      " No of replications done 8\n",
      " No of replications done 8\n",
      " No of replications done 8\n",
      " No of replications done 6\n",
      " No of replications done 7\n",
      " No of replications done 8\n",
      " No of replications done 9\n",
      " No of replications done 9\n",
      " No of replications done 9\n",
      " No of replications done 7\n",
      " No of replications done 9\n",
      " No of replications done 7\n",
      " No of replications done 8\n",
      " No of replications done 9\n",
      " No of replications done 8\n",
      " No of replications done 8\n",
      " No of replications done 9\n",
      " No of replications done 9\n",
      " No of replications done 9\n"
     ]
    }
   ],
   "source": [
    "# Wrapper function to allow input of dictionary with pool\n",
    "def wrapper(d):\n",
    "    return PHC.main(**d)\n",
    "\n",
    "# Create a process pool that uses all CPUs\n",
    "with Pool(8) as pool:\n",
    "    # Run PHC.main() using each of inputs from config\n",
    "    pool.map(wrapper, dict_list)"
   ]
  },
  {
   "cell_type": "markdown",
   "metadata": {},
   "source": [
    "## Process results"
   ]
  },
  {
   "cell_type": "code",
   "execution_count": 7,
   "metadata": {
    "execution": {
     "iopub.execute_input": "2024-07-01T15:30:00.601864Z",
     "iopub.status.busy": "2024-07-01T15:30:00.601697Z",
     "iopub.status.idle": "2024-07-01T15:30:00.632872Z",
     "shell.execute_reply": "2024-07-01T15:30:00.632298Z"
    }
   },
   "outputs": [
    {
     "data": {
      "text/html": [
       "<div>\n",
       "<style scoped>\n",
       "    .dataframe tbody tr th:only-of-type {\n",
       "        vertical-align: middle;\n",
       "    }\n",
       "\n",
       "    .dataframe tbody tr th {\n",
       "        vertical-align: top;\n",
       "    }\n",
       "\n",
       "    .dataframe thead th {\n",
       "        text-align: right;\n",
       "    }\n",
       "</style>\n",
       "<table border=\"1\" class=\"dataframe\">\n",
       "  <thead>\n",
       "    <tr style=\"text-align: right;\">\n",
       "      <th></th>\n",
       "      <th>f4_arr1440_bed1</th>\n",
       "      <th>f4_arr1440_bed2</th>\n",
       "      <th>f4_arr1080_bed1</th>\n",
       "      <th>f4_arr1080_bed2</th>\n",
       "      <th>f4_arr960_bed1</th>\n",
       "      <th>f4_arr960_bed2</th>\n",
       "      <th>f4_arr720_bed1</th>\n",
       "      <th>f4_arr720_bed2</th>\n",
       "    </tr>\n",
       "  </thead>\n",
       "  <tbody>\n",
       "    <tr>\n",
       "      <th>OPD patients</th>\n",
       "      <td>33101.900000</td>\n",
       "      <td>33194.200000</td>\n",
       "      <td>33169.20000</td>\n",
       "      <td>33202.900000</td>\n",
       "      <td>33085.500000</td>\n",
       "      <td>33191.200000</td>\n",
       "      <td>33067.70000</td>\n",
       "      <td>33071.400000</td>\n",
       "    </tr>\n",
       "    <tr>\n",
       "      <th>IPD patients</th>\n",
       "      <td>184.800000</td>\n",
       "      <td>182.600000</td>\n",
       "      <td>183.30000</td>\n",
       "      <td>183.600000</td>\n",
       "      <td>189.600000</td>\n",
       "      <td>185.300000</td>\n",
       "      <td>184.70000</td>\n",
       "      <td>179.900000</td>\n",
       "    </tr>\n",
       "    <tr>\n",
       "      <th>ANC patients</th>\n",
       "      <td>359.300000</td>\n",
       "      <td>360.600000</td>\n",
       "      <td>369.80000</td>\n",
       "      <td>364.700000</td>\n",
       "      <td>359.900000</td>\n",
       "      <td>367.300000</td>\n",
       "      <td>363.00000</td>\n",
       "      <td>361.700000</td>\n",
       "    </tr>\n",
       "    <tr>\n",
       "      <th>Del patients</th>\n",
       "      <td>353.800000</td>\n",
       "      <td>361.400000</td>\n",
       "      <td>480.70000</td>\n",
       "      <td>494.400000</td>\n",
       "      <td>556.100000</td>\n",
       "      <td>552.800000</td>\n",
       "      <td>728.90000</td>\n",
       "      <td>731.100000</td>\n",
       "    </tr>\n",
       "    <tr>\n",
       "      <th>OPD Q wt</th>\n",
       "      <td>0.008353</td>\n",
       "      <td>0.008172</td>\n",
       "      <td>0.01205</td>\n",
       "      <td>0.012351</td>\n",
       "      <td>0.011181</td>\n",
       "      <td>0.014176</td>\n",
       "      <td>0.01906</td>\n",
       "      <td>0.018819</td>\n",
       "    </tr>\n",
       "  </tbody>\n",
       "</table>\n",
       "</div>"
      ],
      "text/plain": [
       "              f4_arr1440_bed1  f4_arr1440_bed2  f4_arr1080_bed1  \\\n",
       "OPD patients     33101.900000     33194.200000      33169.20000   \n",
       "IPD patients       184.800000       182.600000        183.30000   \n",
       "ANC patients       359.300000       360.600000        369.80000   \n",
       "Del patients       353.800000       361.400000        480.70000   \n",
       "OPD Q wt             0.008353         0.008172          0.01205   \n",
       "\n",
       "              f4_arr1080_bed2  f4_arr960_bed1  f4_arr960_bed2  f4_arr720_bed1  \\\n",
       "OPD patients     33202.900000    33085.500000    33191.200000     33067.70000   \n",
       "IPD patients       183.600000      189.600000      185.300000       184.70000   \n",
       "ANC patients       364.700000      359.900000      367.300000       363.00000   \n",
       "Del patients       494.400000      556.100000      552.800000       728.90000   \n",
       "OPD Q wt             0.012351        0.011181        0.014176         0.01906   \n",
       "\n",
       "              f4_arr720_bed2  \n",
       "OPD patients    33071.400000  \n",
       "IPD patients      179.900000  \n",
       "ANC patients      361.700000  \n",
       "Del patients      731.100000  \n",
       "OPD Q wt            0.018819  "
      ]
     },
     "execution_count": 7,
     "metadata": {},
     "output_type": "execute_result"
    }
   ],
   "source": [
    "data = process_results([i['s_rep_file'] for i in dict_list], xls=True)\n",
    "data.head()"
   ]
  },
  {
   "cell_type": "markdown",
   "metadata": {},
   "source": [
    "## Create Figure 4"
   ]
  },
  {
   "cell_type": "code",
   "execution_count": 8,
   "metadata": {
    "execution": {
     "iopub.execute_input": "2024-07-01T15:30:00.634726Z",
     "iopub.status.busy": "2024-07-01T15:30:00.634618Z",
     "iopub.status.idle": "2024-07-01T15:30:00.639943Z",
     "shell.execute_reply": "2024-07-01T15:30:00.639651Z"
    }
   },
   "outputs": [
    {
     "data": {
      "text/html": [
       "<div>\n",
       "<style scoped>\n",
       "    .dataframe tbody tr th:only-of-type {\n",
       "        vertical-align: middle;\n",
       "    }\n",
       "\n",
       "    .dataframe tbody tr th {\n",
       "        vertical-align: top;\n",
       "    }\n",
       "\n",
       "    .dataframe thead th {\n",
       "        text-align: right;\n",
       "    }\n",
       "</style>\n",
       "<table border=\"1\" class=\"dataframe\">\n",
       "  <thead>\n",
       "    <tr style=\"text-align: right;\">\n",
       "      <th></th>\n",
       "      <th>1 bed</th>\n",
       "      <th>2 beds</th>\n",
       "    </tr>\n",
       "  </thead>\n",
       "  <tbody>\n",
       "    <tr>\n",
       "      <th>1 (IAT 1440)</th>\n",
       "      <td>0.147775</td>\n",
       "      <td>0.017549</td>\n",
       "    </tr>\n",
       "    <tr>\n",
       "      <th>1.5 (IAT 960)</th>\n",
       "      <td>0.225166</td>\n",
       "      <td>0.037351</td>\n",
       "    </tr>\n",
       "    <tr>\n",
       "      <th>1.5 (IAT1080)</th>\n",
       "      <td>0.185273</td>\n",
       "      <td>0.033162</td>\n",
       "    </tr>\n",
       "    <tr>\n",
       "      <th>2 (IAT 720)</th>\n",
       "      <td>0.273051</td>\n",
       "      <td>0.057273</td>\n",
       "    </tr>\n",
       "  </tbody>\n",
       "</table>\n",
       "</div>"
      ],
      "text/plain": [
       "                  1 bed    2 beds\n",
       "1 (IAT 1440)   0.147775  0.017549\n",
       "1.5 (IAT 960)  0.225166  0.037351\n",
       "1.5 (IAT1080)  0.185273  0.033162\n",
       "2 (IAT 720)    0.273051  0.057273"
      ]
     },
     "execution_count": 8,
     "metadata": {},
     "output_type": "execute_result"
    }
   ],
   "source": [
    "# Select series with proportion referred\n",
    "a4 = data.loc['prop_del_referred']\n",
    "\n",
    "# Reshape into appropriate format for plotting\n",
    "names = ['1 (IAT 1440)', '1.5 (IAT 960)', '1.5 (IAT1080)', '2 (IAT 720)']\n",
    "bed1 = [a4['f4_arr1440_bed1'], a4['f4_arr960_bed1'],\n",
    "        a4['f4_arr1080_bed1'], a4['f4_arr720_bed1']]\n",
    "bed2 = [a4['f4_arr1440_bed2'], a4['f4_arr960_bed2'],\n",
    "        a4['f4_arr1080_bed2'], a4['f4_arr720_bed2']]\n",
    "\n",
    "data_4a = pd.DataFrame({'1 bed': bed1, '2 beds': bed2}, index=names)\n",
    "data_4a"
   ]
  },
  {
   "cell_type": "markdown",
   "metadata": {},
   "source": [
    "### Function to create figure"
   ]
  },
  {
   "cell_type": "code",
   "execution_count": 9,
   "metadata": {
    "execution": {
     "iopub.execute_input": "2024-07-01T15:30:00.641549Z",
     "iopub.status.busy": "2024-07-01T15:30:00.641449Z",
     "iopub.status.idle": "2024-07-01T15:30:00.644694Z",
     "shell.execute_reply": "2024-07-01T15:30:00.644451Z"
    }
   },
   "outputs": [],
   "source": [
    "def create_figure4(df):\n",
    "    '''\n",
    "    Produces figure 4\n",
    "    '''\n",
    "    # Plot data\n",
    "    ax = df.plot(kind='line', color='black')\n",
    "\n",
    "    # Add markers\n",
    "    for l, ms in zip(ax.lines, itertools.cycle('so')):\n",
    "        l.set_marker(ms)\n",
    "        l.set_color('black')\n",
    "    ax.legend(title='Number of delivery beds')\n",
    "\n",
    "    # Add labels to each point\n",
    "    for line in ax.lines:\n",
    "        x_data = line.get_xdata()\n",
    "        y_data = line.get_ydata()\n",
    "        for x, y in zip(x_data, y_data):\n",
    "            ax.annotate(f'{y:.3f}', xy=(x, y), xytext=(3, 3),\n",
    "                        textcoords='offset points', fontsize=9)\n",
    "\n",
    "    # Adjust figure\n",
    "    plt.xlabel('Average number of childbirth patients per day')\n",
    "    plt.ylabel('Proportion of patients referred elsewhere')\n",
    "    plt.ylim(0, 0.3)\n",
    "    ax.xaxis.set_major_locator(ticker.MultipleLocator(1))\n",
    "    plt.grid(axis='y')\n",
    "    ax.set_axisbelow(True)"
   ]
  },
  {
   "cell_type": "markdown",
   "metadata": {},
   "source": [
    "### Evaluating options\n",
    "\n",
    "Due to discrepancies observed for 1.5 arrivals, I presumed that the difference could be in the IAT used, since the paper only provides the number of arrivals and not the IAT. I estimated the IAT to be 960, but I also tried using 1080 (which is equidistant between the 1 and 2 arrival IAT values), as I have not identified a formula for how these are produced, and have only been able to estimate.\n",
    "\n",
    "From comparing the two options, 960 is closer for 2 beds whilst 1080 is closer for 1 bed. Since the difference is greatest for 1 bed, I opted to use that IAT."
   ]
  },
  {
   "cell_type": "code",
   "execution_count": 10,
   "metadata": {
    "execution": {
     "iopub.execute_input": "2024-07-01T15:30:00.646500Z",
     "iopub.status.busy": "2024-07-01T15:30:00.646295Z",
     "iopub.status.idle": "2024-07-01T15:30:00.725708Z",
     "shell.execute_reply": "2024-07-01T15:30:00.725281Z"
    }
   },
   "outputs": [
    {
     "data": {
      "image/png": "[encoded data removed]",
      "text/plain": [
       "<Figure size 640x480 with 1 Axes>"
      ]
     },
     "metadata": {},
     "output_type": "display_data"
    }
   ],
   "source": [
    "create_figure4(data_4a)\n",
    "# plt.savefig(fig4_path, bbox_inches='tight')\n",
    "plt.show()"
   ]
  },
  {
   "cell_type": "code",
   "execution_count": 11,
   "metadata": {
    "execution": {
     "iopub.execute_input": "2024-07-01T15:30:00.727427Z",
     "iopub.status.busy": "2024-07-01T15:30:00.727323Z",
     "iopub.status.idle": "2024-07-01T15:30:00.734564Z",
     "shell.execute_reply": "2024-07-01T15:30:00.734267Z"
    }
   },
   "outputs": [
    {
     "data": {
      "text/html": [
       "<div>\n",
       "<style scoped>\n",
       "    .dataframe tbody tr th:only-of-type {\n",
       "        vertical-align: middle;\n",
       "    }\n",
       "\n",
       "    .dataframe tbody tr th {\n",
       "        vertical-align: top;\n",
       "    }\n",
       "\n",
       "    .dataframe thead th {\n",
       "        text-align: right;\n",
       "    }\n",
       "</style>\n",
       "<table border=\"1\" class=\"dataframe\">\n",
       "  <thead>\n",
       "    <tr style=\"text-align: right;\">\n",
       "      <th></th>\n",
       "      <th>original</th>\n",
       "      <th>reproduced</th>\n",
       "      <th>diff</th>\n",
       "      <th>pct_change</th>\n",
       "    </tr>\n",
       "  </thead>\n",
       "  <tbody>\n",
       "    <tr>\n",
       "      <th>0</th>\n",
       "      <td>0.0210</td>\n",
       "      <td>0.018</td>\n",
       "      <td>-0.0030</td>\n",
       "      <td>-14.285714</td>\n",
       "    </tr>\n",
       "    <tr>\n",
       "      <th>1</th>\n",
       "      <td>0.0390</td>\n",
       "      <td>0.037</td>\n",
       "      <td>-0.0020</td>\n",
       "      <td>-5.128205</td>\n",
       "    </tr>\n",
       "    <tr>\n",
       "      <th>2</th>\n",
       "      <td>0.0390</td>\n",
       "      <td>0.033</td>\n",
       "      <td>-0.0060</td>\n",
       "      <td>-15.384615</td>\n",
       "    </tr>\n",
       "    <tr>\n",
       "      <th>3</th>\n",
       "      <td>0.0599</td>\n",
       "      <td>0.057</td>\n",
       "      <td>-0.0029</td>\n",
       "      <td>-4.841402</td>\n",
       "    </tr>\n",
       "    <tr>\n",
       "      <th>4</th>\n",
       "      <td>0.1500</td>\n",
       "      <td>0.148</td>\n",
       "      <td>-0.0020</td>\n",
       "      <td>-1.333333</td>\n",
       "    </tr>\n",
       "    <tr>\n",
       "      <th>5</th>\n",
       "      <td>0.1950</td>\n",
       "      <td>0.225</td>\n",
       "      <td>0.0300</td>\n",
       "      <td>15.384615</td>\n",
       "    </tr>\n",
       "    <tr>\n",
       "      <th>6</th>\n",
       "      <td>0.1950</td>\n",
       "      <td>0.185</td>\n",
       "      <td>-0.0100</td>\n",
       "      <td>-5.128205</td>\n",
       "    </tr>\n",
       "    <tr>\n",
       "      <th>7</th>\n",
       "      <td>0.2700</td>\n",
       "      <td>0.273</td>\n",
       "      <td>0.0030</td>\n",
       "      <td>1.111111</td>\n",
       "    </tr>\n",
       "  </tbody>\n",
       "</table>\n",
       "</div>"
      ],
      "text/plain": [
       "   original  reproduced    diff  pct_change\n",
       "0    0.0210       0.018 -0.0030  -14.285714\n",
       "1    0.0390       0.037 -0.0020   -5.128205\n",
       "2    0.0390       0.033 -0.0060  -15.384615\n",
       "3    0.0599       0.057 -0.0029   -4.841402\n",
       "4    0.1500       0.148 -0.0020   -1.333333\n",
       "5    0.1950       0.225  0.0300   15.384615\n",
       "6    0.1950       0.185 -0.0100   -5.128205\n",
       "7    0.2700       0.273  0.0030    1.111111"
      ]
     },
     "execution_count": 11,
     "metadata": {},
     "output_type": "execute_result"
    }
   ],
   "source": [
    "# Input results from original and reproduced figures\n",
    "comp = pd.DataFrame({\n",
    "    'original': [0.021, 0.039, 0.039, 0.0599, 0.150, 0.195, 0.195, 0.270],\n",
    "    'reproduced': data_4a.iloc[:, 1].to_list() + data_4a.iloc[:, 0].to_list()})\n",
    "comp['reproduced'] = round(comp['reproduced'], 3)\n",
    "\n",
    "# Find size of difference and % change\n",
    "comp['diff'] = comp['reproduced'] - comp['original']\n",
    "comp['pct_change'] = comp.pct_change(axis=1).iloc[:, 1]*100\n",
    "comp"
   ]
  },
  {
   "cell_type": "markdown",
   "metadata": {},
   "source": [
    "### Chosen figure (with IAT 1080)"
   ]
  },
  {
   "cell_type": "code",
   "execution_count": 12,
   "metadata": {
    "execution": {
     "iopub.execute_input": "2024-07-01T15:30:00.736286Z",
     "iopub.status.busy": "2024-07-01T15:30:00.736186Z",
     "iopub.status.idle": "2024-07-01T15:30:00.863009Z",
     "shell.execute_reply": "2024-07-01T15:30:00.862578Z"
    }
   },
   "outputs": [
    {
     "data": {
      "image/png": "[encoded data removed]",
      "text/plain": [
       "<Figure size 640x480 with 1 Axes>"
      ]
     },
     "metadata": {},
     "output_type": "display_data"
    }
   ],
   "source": [
    "# Drop 960\n",
    "data_4a_final = data_4a.drop(index='1.5 (IAT 960)')\n",
    "\n",
    "# Amend labels to match original\n",
    "data_4a_final.index = [x.split(' (')[0] for x in data_4a_final.index.to_list()]\n",
    "\n",
    "create_figure4(data_4a_final)\n",
    "plt.savefig(fig4_path, bbox_inches='tight')\n",
    "plt.show()"
   ]
  },
  {
   "cell_type": "markdown",
   "metadata": {},
   "source": [
    "## Run time"
   ]
  },
  {
   "cell_type": "code",
   "execution_count": 13,
   "metadata": {
    "execution": {
     "iopub.execute_input": "2024-07-01T15:30:00.864891Z",
     "iopub.status.busy": "2024-07-01T15:30:00.864782Z",
     "iopub.status.idle": "2024-07-01T15:30:00.867511Z",
     "shell.execute_reply": "2024-07-01T15:30:00.867065Z"
    }
   },
   "outputs": [
    {
     "name": "stdout",
     "output_type": "stream",
     "text": [
      "Notebook run time: 3m 0s\n"
     ]
    }
   ],
   "source": [
    "# Find run time in seconds\n",
    "end = time.time()\n",
    "runtime = round(end-start)\n",
    "\n",
    "# Display converted to minutes and seconds\n",
    "print(f'Notebook run time: {runtime//60}m {runtime%60}s')"
   ]
  }
 ],
 "metadata": {
  "kernelspec": {
   "display_name": "shoaib2022",
   "language": "python",
   "name": "python3"
  },
  "language_info": {
   "codemirror_mode": {
    "name": "ipython",
    "version": 3
   },
   "file_extension": ".py",
   "mimetype": "text/x-python",
   "name": "python",
   "nbconvert_exporter": "python",
   "pygments_lexer": "ipython3",
   "version": "3.9.19"
  }
 },
 "nbformat": 4,
 "nbformat_minor": 2
}
