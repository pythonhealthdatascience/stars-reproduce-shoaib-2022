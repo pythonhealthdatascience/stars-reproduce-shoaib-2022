{
 "cells": [
  {
   "cell_type": "markdown",
   "metadata": {},
   "source": [
    "# Reproducing Figure 4\n",
    "\n",
    "In this figure, we vary configuration 1 as follows:\n",
    "\n",
    "* Number of delivery beds: 2 or 3\n",
    "* Delivery arrivals: 1, 1.5 or 2 per day\n",
    "    * 1 = IAT 1440 (as in e.g. config1)\n",
    "    * 1.5 = 960 (as 720+240=960, and 960+480=1440)\n",
    "    * 2 = IAT 720 (as we did for Figure 3)"
   ]
  },
  {
   "cell_type": "markdown",
   "metadata": {},
   "source": [
    "## Set up"
   ]
  },
  {
   "cell_type": "code",
   "execution_count": 1,
   "metadata": {},
   "outputs": [],
   "source": [
    "# To run model\n",
    "import PHC\n",
    "\n",
    "# To import results and produce figures\n",
    "import xlrd\n",
    "import pandas as pd\n",
    "import os\n",
    "import matplotlib.pyplot as plt\n",
    "import matplotlib.ticker as ticker\n",
    "import itertools\n",
    "\n",
    "# To speed up run time\n",
    "from multiprocessing import Pool\n",
    "\n",
    "# Additional package to record runtime of this notebook\n",
    "import time\n",
    "start = time.time()"
   ]
  },
  {
   "cell_type": "code",
   "execution_count": 2,
   "metadata": {},
   "outputs": [],
   "source": [
    "# Paths to save image files to\n",
    "output_folder = 'outputs'\n",
    "fig4_path = os.path.join(output_folder, 'fig4.png')"
   ]
  },
  {
   "cell_type": "markdown",
   "metadata": {},
   "source": [
    "## Run model"
   ]
  },
  {
   "cell_type": "code",
   "execution_count": 3,
   "metadata": {},
   "outputs": [],
   "source": [
    "# TODO: Run with 100 replications\n",
    "\n",
    "# Varying number of childbirth cases\n",
    "arr_dict = [\n",
    "    {\n",
    "        'delivery_iat': 1440,\n",
    "        'replication': 10,\n",
    "        'rep_file': 'arr1440'\n",
    "    },\n",
    "    {\n",
    "        'delivery_iat': 1080,\n",
    "        'replication': 10,\n",
    "        'rep_file': 'arr960'\n",
    "    },\n",
    "    {\n",
    "        'delivery_iat': 720,\n",
    "        'replication': 10,\n",
    "        'rep_file': 'arr720'\n",
    "    }\n",
    "]\n",
    "\n",
    "# Varying the number of beds\n",
    "bed_dict = [\n",
    "    {\n",
    "        'delivery_bed_n': 1,\n",
    "        'rep_file': 'bed1'\n",
    "    },\n",
    "    {\n",
    "        'delivery_bed_n': 2,\n",
    "        'rep_file': 'bed2'\n",
    "    }\n",
    "]"
   ]
  },
  {
   "cell_type": "markdown",
   "metadata": {},
   "source": [
    "Create each combination for the reproduction"
   ]
  },
  {
   "cell_type": "code",
   "execution_count": 4,
   "metadata": {},
   "outputs": [
    {
     "data": {
      "text/plain": [
       "6"
      ]
     },
     "execution_count": 4,
     "metadata": {},
     "output_type": "execute_result"
    }
   ],
   "source": [
    "dict_list = []\n",
    "for arr in arr_dict:\n",
    "    for bed in bed_dict:\n",
    "        # Combine the dictionaries\n",
    "        comb = {**arr, **bed}\n",
    "        # Replace the file name\n",
    "        comb['rep_file'] = f'''f4_{arr['rep_file']}_{bed['rep_file']}.xls'''\n",
    "        # Save to list\n",
    "        dict_list.append(comb)\n",
    "\n",
    "len(dict_list)"
   ]
  },
  {
   "cell_type": "code",
   "execution_count": 5,
   "metadata": {},
   "outputs": [
    {
     "data": {
      "text/plain": [
       "{'s_delivery_iat': 1440,\n",
       " 's_replication': 10,\n",
       " 's_rep_file': 'f4_arr1440_bed1.xls',\n",
       " 's_delivery_bed_n': 1}"
      ]
     },
     "execution_count": 5,
     "metadata": {},
     "output_type": "execute_result"
    }
   ],
   "source": [
    "# Append 's_' to all items\n",
    "for i, d in enumerate(dict_list):\n",
    "    dict_list[i] = {f's_{k}': v for k, v in d.items()}\n",
    "\n",
    "# Preview example\n",
    "dict_list[0]"
   ]
  },
  {
   "cell_type": "markdown",
   "metadata": {},
   "source": [
    "Run the model (with parallel processing to reduce run time)"
   ]
  },
  {
   "cell_type": "code",
   "execution_count": 6,
   "metadata": {},
   "outputs": [
    {
     "name": "stdout",
     "output_type": "stream",
     "text": [
      " No of replications done 0\n",
      " No of replications done 0\n",
      " No of replications done 0\n",
      " No of replications done 0\n",
      " No of replications done 0\n",
      " No of replications done 0\n",
      " No of replications done 1\n",
      " No of replications done 1\n",
      " No of replications done 1\n",
      " No of replications done 1\n",
      " No of replications done 1\n",
      " No of replications done 1\n",
      " No of replications done 2\n",
      " No of replications done 2\n",
      " No of replications done 2\n",
      " No of replications done 2\n",
      " No of replications done 2\n",
      " No of replications done 2\n",
      " No of replications done 3\n",
      " No of replications done 3\n",
      " No of replications done 3\n",
      " No of replications done 3\n",
      " No of replications done 3\n",
      " No of replications done 3\n",
      " No of replications done 4\n",
      " No of replications done 4\n",
      " No of replications done 4\n",
      " No of replications done 4\n",
      " No of replications done 4\n",
      " No of replications done 4\n",
      " No of replications done 5\n",
      " No of replications done 5\n",
      " No of replications done 5\n",
      " No of replications done 5\n",
      " No of replications done 5\n",
      " No of replications done 5\n",
      " No of replications done 6\n",
      " No of replications done 6\n",
      " No of replications done 6\n",
      " No of replications done 6\n",
      " No of replications done 6\n",
      " No of replications done 6\n",
      " No of replications done 7\n",
      " No of replications done 7\n",
      " No of replications done 7\n",
      " No of replications done 7\n",
      " No of replications done 7\n",
      " No of replications done 7\n",
      " No of replications done 8\n",
      " No of replications done 8\n",
      " No of replications done 8\n",
      " No of replications done 8\n",
      " No of replications done 8\n",
      " No of replications done 8\n",
      " No of replications done 9\n",
      " No of replications done 9\n",
      " No of replications done 9\n",
      " No of replications done 9\n",
      " No of replications done 9\n",
      " No of replications done 9\n"
     ]
    }
   ],
   "source": [
    "# Wrapper function to allow input of dictionary with pool\n",
    "def wrapper(d):\n",
    "    return PHC.main(**d)\n",
    "\n",
    "# Create a process pool that uses all CPUs\n",
    "with Pool() as pool:\n",
    "    # Run PHC.main() using each of inputs from config\n",
    "    pool.map(wrapper, dict_list)"
   ]
  },
  {
   "cell_type": "markdown",
   "metadata": {},
   "source": [
    "## Process results"
   ]
  },
  {
   "cell_type": "code",
   "execution_count": 7,
   "metadata": {},
   "outputs": [],
   "source": [
    "def process_results(files):\n",
    "    '''\n",
    "    Imports files in provided list and produces a single dataframe with mean\n",
    "    results from across the replications\n",
    "\n",
    "    Parameters:\n",
    "    ----------\n",
    "    files : list\n",
    "        List of file names (exc. file type) containing replication results\n",
    "\n",
    "    Returns:\n",
    "    --------\n",
    "    summary : dataframe\n",
    "        Dataframe with mean results for each model variant in file list\n",
    "    '''\n",
    "    # Empty list to store results\n",
    "    result_list = []\n",
    "\n",
    "    for f in files:\n",
    "        # Import .xls and convert to pandas dataframe\n",
    "        book = xlrd.open_workbook(os.path.join(output_folder, f))\n",
    "        result = pd.read_excel(book, header=None, index_col=0)\n",
    "\n",
    "        # Add proportion of childbirth cases referred\n",
    "        result.loc['prop_del_referred'] = (\n",
    "            result.loc['del referred'] / result.loc['Del patients'])\n",
    "\n",
    "        # Find mean from the replication\n",
    "        # Save as dataframe, dropping the duplicate rows (NCD occ twice)\n",
    "        res = pd.DataFrame({f: result.mean(axis=1)}).drop_duplicates()\n",
    "\n",
    "        # Remove index name\n",
    "        res.index.name = None\n",
    "\n",
    "        # Remove .xls from column names\n",
    "        res.columns = res.columns.str.removesuffix('.xls')\n",
    "\n",
    "        # Save to list\n",
    "        result_list.append(res)\n",
    "\n",
    "    # Combine into single dataframe\n",
    "    summary = pd.concat(result_list, axis=1)\n",
    "\n",
    "    return summary"
   ]
  },
  {
   "cell_type": "code",
   "execution_count": 8,
   "metadata": {},
   "outputs": [
    {
     "data": {
      "text/html": [
       "<div>\n",
       "<style scoped>\n",
       "    .dataframe tbody tr th:only-of-type {\n",
       "        vertical-align: middle;\n",
       "    }\n",
       "\n",
       "    .dataframe tbody tr th {\n",
       "        vertical-align: top;\n",
       "    }\n",
       "\n",
       "    .dataframe thead th {\n",
       "        text-align: right;\n",
       "    }\n",
       "</style>\n",
       "<table border=\"1\" class=\"dataframe\">\n",
       "  <thead>\n",
       "    <tr style=\"text-align: right;\">\n",
       "      <th></th>\n",
       "      <th>f4_arr1440_bed1</th>\n",
       "      <th>f4_arr1440_bed2</th>\n",
       "      <th>f4_arr960_bed1</th>\n",
       "      <th>f4_arr960_bed2</th>\n",
       "      <th>f4_arr720_bed1</th>\n",
       "      <th>f4_arr720_bed2</th>\n",
       "    </tr>\n",
       "  </thead>\n",
       "  <tbody>\n",
       "    <tr>\n",
       "      <th>OPD patients</th>\n",
       "      <td>33147.900000</td>\n",
       "      <td>33113.500000</td>\n",
       "      <td>33128.700000</td>\n",
       "      <td>33109.500000</td>\n",
       "      <td>33171.600000</td>\n",
       "      <td>33145.000000</td>\n",
       "    </tr>\n",
       "    <tr>\n",
       "      <th>IPD patients</th>\n",
       "      <td>184.900000</td>\n",
       "      <td>175.800000</td>\n",
       "      <td>187.000000</td>\n",
       "      <td>173.000000</td>\n",
       "      <td>175.800000</td>\n",
       "      <td>184.500000</td>\n",
       "    </tr>\n",
       "    <tr>\n",
       "      <th>ANC patients</th>\n",
       "      <td>359.800000</td>\n",
       "      <td>365.600000</td>\n",
       "      <td>366.300000</td>\n",
       "      <td>359.900000</td>\n",
       "      <td>354.500000</td>\n",
       "      <td>367.600000</td>\n",
       "    </tr>\n",
       "    <tr>\n",
       "      <th>Del patients</th>\n",
       "      <td>368.700000</td>\n",
       "      <td>375.400000</td>\n",
       "      <td>479.300000</td>\n",
       "      <td>486.800000</td>\n",
       "      <td>739.500000</td>\n",
       "      <td>725.600000</td>\n",
       "    </tr>\n",
       "    <tr>\n",
       "      <th>OPD Q wt</th>\n",
       "      <td>0.007587</td>\n",
       "      <td>0.008618</td>\n",
       "      <td>0.013482</td>\n",
       "      <td>0.011329</td>\n",
       "      <td>0.016205</td>\n",
       "      <td>0.018053</td>\n",
       "    </tr>\n",
       "  </tbody>\n",
       "</table>\n",
       "</div>"
      ],
      "text/plain": [
       "              f4_arr1440_bed1  f4_arr1440_bed2  f4_arr960_bed1  \\\n",
       "OPD patients     33147.900000     33113.500000    33128.700000   \n",
       "IPD patients       184.900000       175.800000      187.000000   \n",
       "ANC patients       359.800000       365.600000      366.300000   \n",
       "Del patients       368.700000       375.400000      479.300000   \n",
       "OPD Q wt             0.007587         0.008618        0.013482   \n",
       "\n",
       "              f4_arr960_bed2  f4_arr720_bed1  f4_arr720_bed2  \n",
       "OPD patients    33109.500000    33171.600000    33145.000000  \n",
       "IPD patients      173.000000      175.800000      184.500000  \n",
       "ANC patients      359.900000      354.500000      367.600000  \n",
       "Del patients      486.800000      739.500000      725.600000  \n",
       "OPD Q wt            0.011329        0.016205        0.018053  "
      ]
     },
     "execution_count": 8,
     "metadata": {},
     "output_type": "execute_result"
    }
   ],
   "source": [
    "data = process_results([i['s_rep_file'] for i in dict_list])\n",
    "data.head()"
   ]
  },
  {
   "cell_type": "markdown",
   "metadata": {},
   "source": [
    "## Create Figure 4"
   ]
  },
  {
   "cell_type": "code",
   "execution_count": 9,
   "metadata": {},
   "outputs": [
    {
     "data": {
      "text/html": [
       "<div>\n",
       "<style scoped>\n",
       "    .dataframe tbody tr th:only-of-type {\n",
       "        vertical-align: middle;\n",
       "    }\n",
       "\n",
       "    .dataframe tbody tr th {\n",
       "        vertical-align: top;\n",
       "    }\n",
       "\n",
       "    .dataframe thead th {\n",
       "        text-align: right;\n",
       "    }\n",
       "</style>\n",
       "<table border=\"1\" class=\"dataframe\">\n",
       "  <thead>\n",
       "    <tr style=\"text-align: right;\">\n",
       "      <th></th>\n",
       "      <th>1 bed</th>\n",
       "      <th>2 beds</th>\n",
       "    </tr>\n",
       "  </thead>\n",
       "  <tbody>\n",
       "    <tr>\n",
       "      <th>1</th>\n",
       "      <td>0.154491</td>\n",
       "      <td>0.022222</td>\n",
       "    </tr>\n",
       "    <tr>\n",
       "      <th>1.5</th>\n",
       "      <td>0.194728</td>\n",
       "      <td>0.030101</td>\n",
       "    </tr>\n",
       "    <tr>\n",
       "      <th>2</th>\n",
       "      <td>0.279158</td>\n",
       "      <td>0.058934</td>\n",
       "    </tr>\n",
       "  </tbody>\n",
       "</table>\n",
       "</div>"
      ],
      "text/plain": [
       "        1 bed    2 beds\n",
       "1    0.154491  0.022222\n",
       "1.5  0.194728  0.030101\n",
       "2    0.279158  0.058934"
      ]
     },
     "execution_count": 9,
     "metadata": {},
     "output_type": "execute_result"
    }
   ],
   "source": [
    "# Select series with proportion referred\n",
    "a4 = data.loc['prop_del_referred']\n",
    "\n",
    "# Reshape into appropriate format for plotting\n",
    "names = ['1', '1.5', '2']\n",
    "bed1 = [a4['f4_arr1440_bed1'], a4['f4_arr960_bed1'], a4['f4_arr720_bed1']]\n",
    "bed2 = [a4['f4_arr1440_bed2'], a4['f4_arr960_bed2'], a4['f4_arr720_bed2']]\n",
    "\n",
    "data_4a = pd.DataFrame({'1 bed': bed1, '2 beds': bed2}, index=names)\n",
    "data_4a"
   ]
  },
  {
   "cell_type": "code",
   "execution_count": 10,
   "metadata": {},
   "outputs": [
    {
     "data": {
      "image/png": "[encoded data removed]",
      "text/plain": [
       "<Figure size 640x480 with 1 Axes>"
      ]
     },
     "metadata": {},
     "output_type": "display_data"
    }
   ],
   "source": [
    "# Plot data\n",
    "ax = data_4a.plot(kind='line', color='black')\n",
    "\n",
    "# Add markers\n",
    "for l, ms in zip(ax.lines, itertools.cycle('so')):\n",
    "    l.set_marker(ms)\n",
    "    l.set_color('black')\n",
    "ax.legend(title='Number of delivery beds')\n",
    "\n",
    "# Add labels to each point\n",
    "for line in ax.lines:\n",
    "    x_data = line.get_xdata()\n",
    "    y_data = line.get_ydata()\n",
    "    for x, y in zip(x_data, y_data):\n",
    "        ax.annotate(f'{y:.3f}', xy=(x, y), xytext=(3, 3),\n",
    "                    textcoords='offset points', fontsize=9)\n",
    "\n",
    "# Adjust figure\n",
    "plt.xlabel('Average number of childbirth patients per day')\n",
    "plt.ylabel('Proportion of patients referred elsewhere')\n",
    "plt.ylim(0, 0.3)\n",
    "ax.xaxis.set_major_locator(ticker.MultipleLocator(1))\n",
    "plt.grid(axis='y')\n",
    "ax.set_axisbelow(True)\n",
    "plt.savefig(fig4_path, bbox_inches='tight')\n",
    "plt.show()"
   ]
  },
  {
   "cell_type": "code",
   "execution_count": 25,
   "metadata": {},
   "outputs": [
    {
     "data": {
      "text/html": [
       "<div>\n",
       "<style scoped>\n",
       "    .dataframe tbody tr th:only-of-type {\n",
       "        vertical-align: middle;\n",
       "    }\n",
       "\n",
       "    .dataframe tbody tr th {\n",
       "        vertical-align: top;\n",
       "    }\n",
       "\n",
       "    .dataframe thead th {\n",
       "        text-align: right;\n",
       "    }\n",
       "</style>\n",
       "<table border=\"1\" class=\"dataframe\">\n",
       "  <thead>\n",
       "    <tr style=\"text-align: right;\">\n",
       "      <th></th>\n",
       "      <th>original</th>\n",
       "      <th>reproduced</th>\n",
       "      <th>diff</th>\n",
       "      <th>pct_change</th>\n",
       "    </tr>\n",
       "  </thead>\n",
       "  <tbody>\n",
       "    <tr>\n",
       "      <th>0</th>\n",
       "      <td>0.0210</td>\n",
       "      <td>0.022</td>\n",
       "      <td>0.0010</td>\n",
       "      <td>4.761905</td>\n",
       "    </tr>\n",
       "    <tr>\n",
       "      <th>1</th>\n",
       "      <td>0.0390</td>\n",
       "      <td>0.030</td>\n",
       "      <td>-0.0090</td>\n",
       "      <td>-23.076923</td>\n",
       "    </tr>\n",
       "    <tr>\n",
       "      <th>2</th>\n",
       "      <td>0.0599</td>\n",
       "      <td>0.059</td>\n",
       "      <td>-0.0009</td>\n",
       "      <td>-1.502504</td>\n",
       "    </tr>\n",
       "    <tr>\n",
       "      <th>3</th>\n",
       "      <td>0.1500</td>\n",
       "      <td>0.154</td>\n",
       "      <td>0.0040</td>\n",
       "      <td>2.666667</td>\n",
       "    </tr>\n",
       "    <tr>\n",
       "      <th>4</th>\n",
       "      <td>0.1950</td>\n",
       "      <td>0.195</td>\n",
       "      <td>0.0000</td>\n",
       "      <td>0.000000</td>\n",
       "    </tr>\n",
       "    <tr>\n",
       "      <th>5</th>\n",
       "      <td>0.2700</td>\n",
       "      <td>0.279</td>\n",
       "      <td>0.0090</td>\n",
       "      <td>3.333333</td>\n",
       "    </tr>\n",
       "  </tbody>\n",
       "</table>\n",
       "</div>"
      ],
      "text/plain": [
       "   original  reproduced    diff  pct_change\n",
       "0    0.0210       0.022  0.0010    4.761905\n",
       "1    0.0390       0.030 -0.0090  -23.076923\n",
       "2    0.0599       0.059 -0.0009   -1.502504\n",
       "3    0.1500       0.154  0.0040    2.666667\n",
       "4    0.1950       0.195  0.0000    0.000000\n",
       "5    0.2700       0.279  0.0090    3.333333"
      ]
     },
     "execution_count": 25,
     "metadata": {},
     "output_type": "execute_result"
    }
   ],
   "source": [
    "# Input results from original and reproduced figures\n",
    "comp = pd.DataFrame({\n",
    "    'original': [0.021, 0.039, 0.0599, 0.150, 0.195, 0.270],\n",
    "    'reproduced': data_4a.iloc[:, 1].to_list() + data_4a.iloc[:, 0].to_list()})\n",
    "comp['reproduced'] = round(comp['reproduced'], 3)\n",
    "\n",
    "# Find size of difference and % change\n",
    "comp['diff'] = comp['reproduced'] - comp['original']\n",
    "comp['pct_change'] = comp.pct_change(axis=1).iloc[:, 1]*100\n",
    "comp"
   ]
  },
  {
   "cell_type": "markdown",
   "metadata": {},
   "source": [
    "## Run time"
   ]
  },
  {
   "cell_type": "code",
   "execution_count": 13,
   "metadata": {},
   "outputs": [
    {
     "name": "stdout",
     "output_type": "stream",
     "text": [
      "Notebook run time: 2m 27s\n"
     ]
    }
   ],
   "source": [
    "# Find run time in seconds\n",
    "end = time.time()\n",
    "runtime = round(end-start)\n",
    "\n",
    "# Display converted to minutes and seconds\n",
    "print(f'Notebook run time: {runtime//60}m {runtime%60}s')"
   ]
  }
 ],
 "metadata": {
  "kernelspec": {
   "display_name": "shoaib2022",
   "language": "python",
   "name": "python3"
  },
  "language_info": {
   "codemirror_mode": {
    "name": "ipython",
    "version": 3
   },
   "file_extension": ".py",
   "mimetype": "text/x-python",
   "name": "python",
   "nbconvert_exporter": "python",
   "pygments_lexer": "ipython3",
   "version": "3.9.19"
  }
 },
 "nbformat": 4,
 "nbformat_minor": 2
}
