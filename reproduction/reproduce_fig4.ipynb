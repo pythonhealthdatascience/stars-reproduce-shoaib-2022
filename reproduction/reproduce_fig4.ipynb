{
 "cells": [
  {
   "cell_type": "markdown",
   "metadata": {},
   "source": [
    "# Reproducing Figure 4\n",
    "\n",
    "In this figure, we vary configuration 1 as follows:\n",
    "\n",
    "* Number of delivery beds: 2 or 3\n",
    "* Delivery arrivals: 1, 1.5 or 2 per day\n",
    "    * 1 = IAT 1440 (as in e.g. config1)\n",
    "    * 1.5 = 960 (as 720+240=960, and 960+480=1440)\n",
    "    * 2 = IAT 720 (as we did for Figure 3)"
   ]
  },
  {
   "cell_type": "markdown",
   "metadata": {},
   "source": [
    "## Set up"
   ]
  },
  {
   "cell_type": "code",
   "execution_count": 1,
   "metadata": {},
   "outputs": [],
   "source": [
    "# To run model\n",
    "import PHC\n",
    "\n",
    "# To import results and produce figures\n",
    "import xlrd\n",
    "import pandas as pd\n",
    "import os\n",
    "import matplotlib.pyplot as plt\n",
    "import matplotlib.ticker as ticker\n",
    "import itertools\n",
    "\n",
    "# To speed up run time\n",
    "from multiprocessing import Pool"
   ]
  },
  {
   "cell_type": "code",
   "execution_count": 2,
   "metadata": {},
   "outputs": [],
   "source": [
    "# Paths to save image files to\n",
    "output_folder = 'outputs'\n",
    "fig4_path = os.path.join(output_folder, 'fig4.png')"
   ]
  },
  {
   "cell_type": "markdown",
   "metadata": {},
   "source": [
    "## Run model"
   ]
  },
  {
   "cell_type": "code",
   "execution_count": 3,
   "metadata": {},
   "outputs": [],
   "source": [
    "# TODO: Run with 100 replications\n",
    "\n",
    "# Varying number of childbirth cases\n",
    "arr_dict = [\n",
    "    {\n",
    "        'delivery_iat': 1440,\n",
    "        'rep_file': 'arr1440'\n",
    "    },\n",
    "    {\n",
    "        'delivery_iat': 960,\n",
    "        'rep_file': 'arr960'\n",
    "    },\n",
    "    {\n",
    "        'delivery_iat': 720,\n",
    "        'rep_file': 'arr720'\n",
    "    }\n",
    "]\n",
    "\n",
    "# Varying the number of beds\n",
    "bed_dict = [\n",
    "    {\n",
    "        'delivery_bed_n': 2,\n",
    "        'rep_file': 'bed2'\n",
    "    },\n",
    "    {\n",
    "        'delivery_bed_n': 3,\n",
    "        'rep_file': 'bed3'\n",
    "    }\n",
    "]"
   ]
  },
  {
   "cell_type": "markdown",
   "metadata": {},
   "source": [
    "Create each combination for the reproduction"
   ]
  },
  {
   "cell_type": "code",
   "execution_count": 4,
   "metadata": {},
   "outputs": [
    {
     "data": {
      "text/plain": [
       "6"
      ]
     },
     "execution_count": 4,
     "metadata": {},
     "output_type": "execute_result"
    }
   ],
   "source": [
    "dict_list = []\n",
    "for arr in arr_dict:\n",
    "    for bed in bed_dict:\n",
    "        # Combine the dictionaries\n",
    "        comb = {**arr, **bed}\n",
    "        # Replace the file name\n",
    "        comb['rep_file'] = f'''f4_{arr['rep_file']}_{bed['rep_file']}.xls'''\n",
    "        # Save to list\n",
    "        dict_list.append(comb)\n",
    "\n",
    "len(dict_list)"
   ]
  },
  {
   "cell_type": "code",
   "execution_count": 5,
   "metadata": {},
   "outputs": [
    {
     "data": {
      "text/plain": [
       "{'s_delivery_iat': 1440,\n",
       " 's_rep_file': 'f4_arr1440_bed2.xls',\n",
       " 's_delivery_bed_n': 2}"
      ]
     },
     "execution_count": 5,
     "metadata": {},
     "output_type": "execute_result"
    }
   ],
   "source": [
    "# Append 's_' to all items\n",
    "for i, d in enumerate(dict_list):\n",
    "    dict_list[i] = {f's_{k}': v for k, v in d.items()}\n",
    "\n",
    "# Preview example\n",
    "dict_list[0]"
   ]
  },
  {
   "cell_type": "markdown",
   "metadata": {},
   "source": [
    "Run the model (with parallel processing to reduce run time)"
   ]
  },
  {
   "cell_type": "code",
   "execution_count": 6,
   "metadata": {},
   "outputs": [
    {
     "data": {
      "text/plain": [
       "'\\n# Wrapper function to allow input of dictionary with pool\\ndef wrapper(d):\\n    return PHC.main(**d)\\n\\n# Create a process pool that uses all CPUs\\nwith Pool() as pool:\\n    # Run PHC.main() using each of inputs from config\\n    pool.map(wrapper, dict_list)\\n'"
      ]
     },
     "execution_count": 6,
     "metadata": {},
     "output_type": "execute_result"
    }
   ],
   "source": [
    "'''\n",
    "# Wrapper function to allow input of dictionary with pool\n",
    "def wrapper(d):\n",
    "    return PHC.main(**d)\n",
    "\n",
    "# Create a process pool that uses all CPUs\n",
    "with Pool() as pool:\n",
    "    # Run PHC.main() using each of inputs from config\n",
    "    pool.map(wrapper, dict_list)\n",
    "'''"
   ]
  },
  {
   "cell_type": "markdown",
   "metadata": {},
   "source": [
    "## Process results"
   ]
  },
  {
   "cell_type": "code",
   "execution_count": 7,
   "metadata": {},
   "outputs": [],
   "source": [
    "def process_results(files):\n",
    "    '''\n",
    "    Imports files in provided list and produces a single dataframe with mean\n",
    "    results from across the replications\n",
    "\n",
    "    Parameters:\n",
    "    ----------\n",
    "    files : list\n",
    "        List of file names (exc. file type) containing replication results\n",
    "\n",
    "    Returns:\n",
    "    --------\n",
    "    summary : dataframe\n",
    "        Dataframe with mean results for each model variant in file list\n",
    "    '''\n",
    "    # Empty list to store results\n",
    "    result_list = []\n",
    "\n",
    "    for f in files:\n",
    "        # Import .xls and convert to pandas dataframe\n",
    "        book = xlrd.open_workbook(os.path.join(output_folder, f))\n",
    "        result = pd.read_excel(book, header=None, index_col=0)\n",
    "\n",
    "        # Add proportion of childbirth cases referred\n",
    "        result.loc['prop_del_referred'] = (\n",
    "            result.loc['del referred'] / result.loc['Del patients'])\n",
    "\n",
    "        # Find mean from the replication\n",
    "        # Save as dataframe, dropping the duplicate rows (NCD occ twice)\n",
    "        res = pd.DataFrame({f: result.mean(axis=1)}).drop_duplicates()\n",
    "\n",
    "        # Remove index name\n",
    "        res.index.name = None\n",
    "\n",
    "        # Remove .xls from column names\n",
    "        res.columns = res.columns.str.removesuffix('.xls')\n",
    "\n",
    "        # Save to list\n",
    "        result_list.append(res)\n",
    "\n",
    "    # Combine into single dataframe\n",
    "    summary = pd.concat(result_list, axis=1)\n",
    "\n",
    "    return summary"
   ]
  },
  {
   "cell_type": "code",
   "execution_count": 8,
   "metadata": {},
   "outputs": [
    {
     "data": {
      "text/html": [
       "<div>\n",
       "<style scoped>\n",
       "    .dataframe tbody tr th:only-of-type {\n",
       "        vertical-align: middle;\n",
       "    }\n",
       "\n",
       "    .dataframe tbody tr th {\n",
       "        vertical-align: top;\n",
       "    }\n",
       "\n",
       "    .dataframe thead th {\n",
       "        text-align: right;\n",
       "    }\n",
       "</style>\n",
       "<table border=\"1\" class=\"dataframe\">\n",
       "  <thead>\n",
       "    <tr style=\"text-align: right;\">\n",
       "      <th></th>\n",
       "      <th>f4_arr1440_bed2</th>\n",
       "      <th>f4_arr1440_bed3</th>\n",
       "      <th>f4_arr960_bed2</th>\n",
       "      <th>f4_arr960_bed3</th>\n",
       "      <th>f4_arr720_bed2</th>\n",
       "      <th>f4_arr720_bed3</th>\n",
       "    </tr>\n",
       "  </thead>\n",
       "  <tbody>\n",
       "    <tr>\n",
       "      <th>OPD patients</th>\n",
       "      <td>33118.600000</td>\n",
       "      <td>33136.00000</td>\n",
       "      <td>33201.200000</td>\n",
       "      <td>33110.100000</td>\n",
       "      <td>33124.600000</td>\n",
       "      <td>33173.100000</td>\n",
       "    </tr>\n",
       "    <tr>\n",
       "      <th>IPD patients</th>\n",
       "      <td>178.600000</td>\n",
       "      <td>179.90000</td>\n",
       "      <td>176.700000</td>\n",
       "      <td>180.100000</td>\n",
       "      <td>188.400000</td>\n",
       "      <td>180.900000</td>\n",
       "    </tr>\n",
       "    <tr>\n",
       "      <th>ANC patients</th>\n",
       "      <td>371.500000</td>\n",
       "      <td>363.50000</td>\n",
       "      <td>367.300000</td>\n",
       "      <td>361.500000</td>\n",
       "      <td>358.500000</td>\n",
       "      <td>363.000000</td>\n",
       "    </tr>\n",
       "    <tr>\n",
       "      <th>Del patients</th>\n",
       "      <td>364.000000</td>\n",
       "      <td>362.00000</td>\n",
       "      <td>540.400000</td>\n",
       "      <td>547.700000</td>\n",
       "      <td>724.800000</td>\n",
       "      <td>738.300000</td>\n",
       "    </tr>\n",
       "    <tr>\n",
       "      <th>OPD Q wt</th>\n",
       "      <td>0.009724</td>\n",
       "      <td>0.00824</td>\n",
       "      <td>0.013165</td>\n",
       "      <td>0.016186</td>\n",
       "      <td>0.018377</td>\n",
       "      <td>0.019257</td>\n",
       "    </tr>\n",
       "  </tbody>\n",
       "</table>\n",
       "</div>"
      ],
      "text/plain": [
       "              f4_arr1440_bed2  f4_arr1440_bed3  f4_arr960_bed2  \\\n",
       "OPD patients     33118.600000      33136.00000    33201.200000   \n",
       "IPD patients       178.600000        179.90000      176.700000   \n",
       "ANC patients       371.500000        363.50000      367.300000   \n",
       "Del patients       364.000000        362.00000      540.400000   \n",
       "OPD Q wt             0.009724          0.00824        0.013165   \n",
       "\n",
       "              f4_arr960_bed3  f4_arr720_bed2  f4_arr720_bed3  \n",
       "OPD patients    33110.100000    33124.600000    33173.100000  \n",
       "IPD patients      180.100000      188.400000      180.900000  \n",
       "ANC patients      361.500000      358.500000      363.000000  \n",
       "Del patients      547.700000      724.800000      738.300000  \n",
       "OPD Q wt            0.016186        0.018377        0.019257  "
      ]
     },
     "execution_count": 8,
     "metadata": {},
     "output_type": "execute_result"
    }
   ],
   "source": [
    "data = process_results([i['s_rep_file'] for i in dict_list])\n",
    "data.head()"
   ]
  },
  {
   "cell_type": "markdown",
   "metadata": {},
   "source": [
    "## Create Figure 4"
   ]
  },
  {
   "cell_type": "code",
   "execution_count": 9,
   "metadata": {},
   "outputs": [
    {
     "data": {
      "text/html": [
       "<div>\n",
       "<style scoped>\n",
       "    .dataframe tbody tr th:only-of-type {\n",
       "        vertical-align: middle;\n",
       "    }\n",
       "\n",
       "    .dataframe tbody tr th {\n",
       "        vertical-align: top;\n",
       "    }\n",
       "\n",
       "    .dataframe thead th {\n",
       "        text-align: right;\n",
       "    }\n",
       "</style>\n",
       "<table border=\"1\" class=\"dataframe\">\n",
       "  <thead>\n",
       "    <tr style=\"text-align: right;\">\n",
       "      <th></th>\n",
       "      <th>1 extra bed (total: 2)</th>\n",
       "      <th>2 extra beds (total: 3)</th>\n",
       "    </tr>\n",
       "  </thead>\n",
       "  <tbody>\n",
       "    <tr>\n",
       "      <th>1</th>\n",
       "      <td>0.018400</td>\n",
       "      <td>0.001385</td>\n",
       "    </tr>\n",
       "    <tr>\n",
       "      <th>1.5</th>\n",
       "      <td>0.039399</td>\n",
       "      <td>0.004734</td>\n",
       "    </tr>\n",
       "    <tr>\n",
       "      <th>2</th>\n",
       "      <td>0.056695</td>\n",
       "      <td>0.011824</td>\n",
       "    </tr>\n",
       "  </tbody>\n",
       "</table>\n",
       "</div>"
      ],
      "text/plain": [
       "     1 extra bed (total: 2)  2 extra beds (total: 3)\n",
       "1                  0.018400                 0.001385\n",
       "1.5                0.039399                 0.004734\n",
       "2                  0.056695                 0.011824"
      ]
     },
     "execution_count": 9,
     "metadata": {},
     "output_type": "execute_result"
    }
   ],
   "source": [
    "# Select series with proportion referred\n",
    "a4 = data.loc['prop_del_referred']\n",
    "\n",
    "# Reshape into appropriate format for plotting\n",
    "names = ['1', '1.5', '2']\n",
    "bed2 = [a4['f4_arr1440_bed2'], a4['f4_arr960_bed2'], a4['f4_arr720_bed2']]\n",
    "bed3 = [a4['f4_arr1440_bed3'], a4['f4_arr960_bed3'], a4['f4_arr720_bed3']]\n",
    "\n",
    "data_4a = pd.DataFrame({'1 extra bed (total: 2)': bed2,\n",
    "                        '2 extra beds (total: 3)': bed3}, index=names)\n",
    "data_4a"
   ]
  },
  {
   "cell_type": "code",
   "execution_count": 10,
   "metadata": {},
   "outputs": [
    {
     "data": {
      "image/png": "[encoded data removed]",
      "text/plain": [
       "<Figure size 640x480 with 1 Axes>"
      ]
     },
     "metadata": {},
     "output_type": "display_data"
    }
   ],
   "source": [
    "# Plot data\n",
    "ax = data_4a.plot(kind='line', color='black')\n",
    "\n",
    "# Add markers\n",
    "for l, ms in zip(ax.lines, itertools.cycle('o^')):\n",
    "    l.set_marker(ms)\n",
    "    l.set_color('black')\n",
    "ax.legend(title='Number of delivery beds')\n",
    "\n",
    "# Add labels to each point\n",
    "for line in ax.lines:\n",
    "    x_data = line.get_xdata()\n",
    "    y_data = line.get_ydata()\n",
    "    for x, y in zip(x_data, y_data):\n",
    "        ax.annotate(f'{y:.3f}', xy=(x, y), xytext=(3, 3),\n",
    "                    textcoords='offset points', fontsize=9)\n",
    "\n",
    "# Adjust figure\n",
    "plt.xlabel('Average number of childbirth patients per day')\n",
    "plt.ylabel('Proportion of patients referred elsewhere')\n",
    "plt.ylim(0, 0.3)\n",
    "ax.xaxis.set_major_locator(ticker.MultipleLocator(1))\n",
    "plt.grid(axis='y')\n",
    "ax.set_axisbelow(True)\n",
    "plt.savefig(fig4_path, bbox_inches='tight')\n",
    "plt.show()"
   ]
  }
 ],
 "metadata": {
  "kernelspec": {
   "display_name": "shoaib2022",
   "language": "python",
   "name": "python3"
  },
  "language_info": {
   "codemirror_mode": {
    "name": "ipython",
    "version": 3
   },
   "file_extension": ".py",
   "mimetype": "text/x-python",
   "name": "python",
   "nbconvert_exporter": "python",
   "pygments_lexer": "ipython3",
   "version": "3.9.19"
  }
 },
 "nbformat": 4,
 "nbformat_minor": 2
}
