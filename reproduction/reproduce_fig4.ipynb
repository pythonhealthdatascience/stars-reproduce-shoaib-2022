{
 "cells": [
  {
   "cell_type": "markdown",
   "metadata": {},
   "source": [
    "# Reproducing Figure 4\n",
    "\n",
    "In this figure, we vary configuration 1 as follows:\n",
    "\n",
    "* Number of delivery beds: 2 or 3\n",
    "* Delivery arrivals: 1, 1.5 or 2 per day\n",
    "    * 1 = IAT 1440 (as in e.g. config1)\n",
    "    * 1.5 = 960 (as 720+240=960, and 960+480=1440)\n",
    "    * 2 = IAT 720 (as we did for Figure 3)"
   ]
  },
  {
   "cell_type": "markdown",
   "metadata": {},
   "source": [
    "## Set up"
   ]
  },
  {
   "cell_type": "code",
   "execution_count": 1,
   "metadata": {},
   "outputs": [],
   "source": [
    "# To run model\n",
    "import PHC\n",
    "\n",
    "# To import results and produce figures\n",
    "import xlrd\n",
    "import pandas as pd\n",
    "import os\n",
    "import matplotlib.pyplot as plt\n",
    "import matplotlib.ticker as ticker\n",
    "import itertools\n",
    "\n",
    "# To speed up run time\n",
    "from multiprocessing import Pool\n",
    "\n",
    "# Additional package to record runtime of this notebook\n",
    "import time\n",
    "start = time.time()"
   ]
  },
  {
   "cell_type": "code",
   "execution_count": 2,
   "metadata": {},
   "outputs": [],
   "source": [
    "# Paths to save image files to\n",
    "output_folder = 'outputs'\n",
    "fig4_path = os.path.join(output_folder, 'fig4.png')"
   ]
  },
  {
   "cell_type": "markdown",
   "metadata": {},
   "source": [
    "## Run model"
   ]
  },
  {
   "cell_type": "code",
   "execution_count": 3,
   "metadata": {},
   "outputs": [],
   "source": [
    "# TODO: Run with 100 replications\n",
    "\n",
    "# Varying number of childbirth cases\n",
    "arr_dict = [\n",
    "    {\n",
    "        'delivery_iat': 1440,\n",
    "        'rep_file': 'arr1440'\n",
    "    },\n",
    "    {\n",
    "        'delivery_iat': 1080,\n",
    "        'rep_file': 'arr1080'\n",
    "    },\n",
    "    {\n",
    "        'delivery_iat': 960,\n",
    "        'rep_file': 'arr960'\n",
    "    },\n",
    "    {\n",
    "        'delivery_iat': 720,\n",
    "        'rep_file': 'arr720'\n",
    "    }\n",
    "]\n",
    "\n",
    "# Varying the number of beds\n",
    "bed_dict = [\n",
    "    {\n",
    "        'delivery_bed_n': 1,\n",
    "        'rep_file': 'bed1'\n",
    "    },\n",
    "    {\n",
    "        'delivery_bed_n': 2,\n",
    "        'rep_file': 'bed2'\n",
    "    }\n",
    "]"
   ]
  },
  {
   "cell_type": "markdown",
   "metadata": {},
   "source": [
    "Create each combination for the reproduction"
   ]
  },
  {
   "cell_type": "code",
   "execution_count": 4,
   "metadata": {},
   "outputs": [
    {
     "data": {
      "text/plain": [
       "8"
      ]
     },
     "execution_count": 4,
     "metadata": {},
     "output_type": "execute_result"
    }
   ],
   "source": [
    "dict_list = []\n",
    "for arr in arr_dict:\n",
    "    for bed in bed_dict:\n",
    "        # Combine the dictionaries\n",
    "        comb = {**arr, **bed}\n",
    "        # Replace the file name\n",
    "        comb['rep_file'] = f'''f4_{arr['rep_file']}_{bed['rep_file']}.xls'''\n",
    "        # Save to list\n",
    "        dict_list.append(comb)\n",
    "\n",
    "len(dict_list)"
   ]
  },
  {
   "cell_type": "code",
   "execution_count": 5,
   "metadata": {},
   "outputs": [
    {
     "data": {
      "text/plain": [
       "{'s_delivery_iat': 1440,\n",
       " 's_rep_file': 'f4_arr1440_bed1.xls',\n",
       " 's_delivery_bed_n': 1}"
      ]
     },
     "execution_count": 5,
     "metadata": {},
     "output_type": "execute_result"
    }
   ],
   "source": [
    "# Append 's_' to all items\n",
    "for i, d in enumerate(dict_list):\n",
    "    dict_list[i] = {f's_{k}': v for k, v in d.items()}\n",
    "\n",
    "# Preview example\n",
    "dict_list[0]"
   ]
  },
  {
   "cell_type": "markdown",
   "metadata": {},
   "source": [
    "Run the model (with parallel processing to reduce run time)"
   ]
  },
  {
   "cell_type": "code",
   "execution_count": 6,
   "metadata": {},
   "outputs": [
    {
     "name": "stdout",
     "output_type": "stream",
     "text": [
      " No of replications done 0\n",
      " No of replications done 0\n",
      " No of replications done 0\n",
      " No of replications done 0\n",
      " No of replications done 0\n",
      " No of replications done 0\n",
      " No of replications done 0\n",
      " No of replications done 0\n",
      " No of replications done 1\n",
      " No of replications done 1\n",
      " No of replications done 1\n",
      " No of replications done 1\n",
      " No of replications done 1\n",
      " No of replications done 1\n",
      " No of replications done 1\n",
      " No of replications done 2\n",
      " No of replications done 2\n",
      " No of replications done 2\n",
      " No of replications done 2\n",
      " No of replications done 2\n",
      " No of replications done 1\n",
      " No of replications done 2\n",
      " No of replications done 3\n",
      " No of replications done 3\n",
      " No of replications done 3\n",
      " No of replications done 3\n",
      " No of replications done 3\n",
      " No of replications done 2\n",
      " No of replications done 3\n",
      " No of replications done 2\n",
      " No of replications done 4\n",
      " No of replications done 4\n",
      " No of replications done 4\n",
      " No of replications done 4\n",
      " No of replications done 4\n",
      " No of replications done 4\n",
      " No of replications done 3\n",
      " No of replications done 3\n",
      " No of replications done 5\n",
      " No of replications done 5\n",
      " No of replications done 5\n",
      " No of replications done 5\n",
      " No of replications done 5\n",
      " No of replications done 4\n",
      " No of replications done 4\n",
      " No of replications done 5\n",
      " No of replications done 6\n",
      " No of replications done 6\n",
      " No of replications done 6\n",
      " No of replications done 6\n",
      " No of replications done 6\n",
      " No of replications done 5\n",
      " No of replications done 5\n",
      " No of replications done 7\n",
      " No of replications done 7\n",
      " No of replications done 7\n",
      " No of replications done 7\n",
      " No of replications done 6\n",
      " No of replications done 7\n",
      " No of replications done 6\n",
      " No of replications done 6\n",
      " No of replications done 8\n",
      " No of replications done 8\n",
      " No of replications done 8\n",
      " No of replications done 8\n",
      " No of replications done 8\n",
      " No of replications done 7\n",
      " No of replications done 7\n",
      " No of replications done 9\n",
      " No of replications done 9\n",
      " No of replications done 7\n",
      " No of replications done 9\n",
      " No of replications done 9\n",
      " No of replications done 8\n",
      " No of replications done 9\n",
      " No of replications done 8\n",
      " No of replications done 8\n",
      " No of replications done 9\n",
      " No of replications done 9\n",
      " No of replications done 9\n"
     ]
    }
   ],
   "source": [
    "# Wrapper function to allow input of dictionary with pool\n",
    "def wrapper(d):\n",
    "    return PHC.main(**d)\n",
    "\n",
    "# Create a process pool that uses all CPUs\n",
    "with Pool(8) as pool:\n",
    "    # Run PHC.main() using each of inputs from config\n",
    "    pool.map(wrapper, dict_list)"
   ]
  },
  {
   "cell_type": "markdown",
   "metadata": {},
   "source": [
    "## Process results"
   ]
  },
  {
   "cell_type": "code",
   "execution_count": 7,
   "metadata": {},
   "outputs": [],
   "source": [
    "def process_results(files):\n",
    "    '''\n",
    "    Imports files in provided list and produces a single dataframe with mean\n",
    "    results from across the replications\n",
    "\n",
    "    Parameters:\n",
    "    ----------\n",
    "    files : list\n",
    "        List of file names (exc. file type) containing replication results\n",
    "\n",
    "    Returns:\n",
    "    --------\n",
    "    summary : dataframe\n",
    "        Dataframe with mean results for each model variant in file list\n",
    "    '''\n",
    "    # Empty list to store results\n",
    "    result_list = []\n",
    "\n",
    "    for f in files:\n",
    "        # Import .xls and convert to pandas dataframe\n",
    "        book = xlrd.open_workbook(os.path.join(output_folder, f))\n",
    "        result = pd.read_excel(book, header=None, index_col=0)\n",
    "\n",
    "        # Add proportion of childbirth cases referred\n",
    "        result.loc['prop_del_referred'] = (\n",
    "            result.loc['del referred'] / result.loc['Del patients'])\n",
    "\n",
    "        # Find mean from the replication\n",
    "        # Save as dataframe, dropping the duplicate rows (NCD occ twice)\n",
    "        res = pd.DataFrame({f: result.mean(axis=1)}).drop_duplicates()\n",
    "\n",
    "        # Remove index name\n",
    "        res.index.name = None\n",
    "\n",
    "        # Remove .xls from column names\n",
    "        res.columns = res.columns.str.removesuffix('.xls')\n",
    "\n",
    "        # Save to list\n",
    "        result_list.append(res)\n",
    "\n",
    "    # Combine into single dataframe\n",
    "    summary = pd.concat(result_list, axis=1)\n",
    "\n",
    "    return summary"
   ]
  },
  {
   "cell_type": "code",
   "execution_count": 8,
   "metadata": {},
   "outputs": [
    {
     "data": {
      "text/html": [
       "<div>\n",
       "<style scoped>\n",
       "    .dataframe tbody tr th:only-of-type {\n",
       "        vertical-align: middle;\n",
       "    }\n",
       "\n",
       "    .dataframe tbody tr th {\n",
       "        vertical-align: top;\n",
       "    }\n",
       "\n",
       "    .dataframe thead th {\n",
       "        text-align: right;\n",
       "    }\n",
       "</style>\n",
       "<table border=\"1\" class=\"dataframe\">\n",
       "  <thead>\n",
       "    <tr style=\"text-align: right;\">\n",
       "      <th></th>\n",
       "      <th>f4_arr1440_bed1</th>\n",
       "      <th>f4_arr1440_bed2</th>\n",
       "      <th>f4_arr1080_bed1</th>\n",
       "      <th>f4_arr1080_bed2</th>\n",
       "      <th>f4_arr960_bed1</th>\n",
       "      <th>f4_arr960_bed2</th>\n",
       "      <th>f4_arr720_bed1</th>\n",
       "      <th>f4_arr720_bed2</th>\n",
       "    </tr>\n",
       "  </thead>\n",
       "  <tbody>\n",
       "    <tr>\n",
       "      <th>OPD patients</th>\n",
       "      <td>33139.900000</td>\n",
       "      <td>33121.800000</td>\n",
       "      <td>33045.000000</td>\n",
       "      <td>33190.500000</td>\n",
       "      <td>33070.500000</td>\n",
       "      <td>33153.500000</td>\n",
       "      <td>33136.000000</td>\n",
       "      <td>33202.800000</td>\n",
       "    </tr>\n",
       "    <tr>\n",
       "      <th>IPD patients</th>\n",
       "      <td>185.500000</td>\n",
       "      <td>176.000000</td>\n",
       "      <td>184.600000</td>\n",
       "      <td>175.800000</td>\n",
       "      <td>182.100000</td>\n",
       "      <td>184.800000</td>\n",
       "      <td>182.800000</td>\n",
       "      <td>187.500000</td>\n",
       "    </tr>\n",
       "    <tr>\n",
       "      <th>ANC patients</th>\n",
       "      <td>364.300000</td>\n",
       "      <td>365.400000</td>\n",
       "      <td>367.700000</td>\n",
       "      <td>366.400000</td>\n",
       "      <td>352.000000</td>\n",
       "      <td>360.700000</td>\n",
       "      <td>372.600000</td>\n",
       "      <td>364.000000</td>\n",
       "    </tr>\n",
       "    <tr>\n",
       "      <th>Del patients</th>\n",
       "      <td>364.800000</td>\n",
       "      <td>359.800000</td>\n",
       "      <td>501.500000</td>\n",
       "      <td>486.600000</td>\n",
       "      <td>550.600000</td>\n",
       "      <td>546.800000</td>\n",
       "      <td>734.500000</td>\n",
       "      <td>733.600000</td>\n",
       "    </tr>\n",
       "    <tr>\n",
       "      <th>OPD Q wt</th>\n",
       "      <td>0.008448</td>\n",
       "      <td>0.008676</td>\n",
       "      <td>0.009153</td>\n",
       "      <td>0.010267</td>\n",
       "      <td>0.013715</td>\n",
       "      <td>0.012359</td>\n",
       "      <td>0.021986</td>\n",
       "      <td>0.015481</td>\n",
       "    </tr>\n",
       "  </tbody>\n",
       "</table>\n",
       "</div>"
      ],
      "text/plain": [
       "              f4_arr1440_bed1  f4_arr1440_bed2  f4_arr1080_bed1  \\\n",
       "OPD patients     33139.900000     33121.800000     33045.000000   \n",
       "IPD patients       185.500000       176.000000       184.600000   \n",
       "ANC patients       364.300000       365.400000       367.700000   \n",
       "Del patients       364.800000       359.800000       501.500000   \n",
       "OPD Q wt             0.008448         0.008676         0.009153   \n",
       "\n",
       "              f4_arr1080_bed2  f4_arr960_bed1  f4_arr960_bed2  f4_arr720_bed1  \\\n",
       "OPD patients     33190.500000    33070.500000    33153.500000    33136.000000   \n",
       "IPD patients       175.800000      182.100000      184.800000      182.800000   \n",
       "ANC patients       366.400000      352.000000      360.700000      372.600000   \n",
       "Del patients       486.600000      550.600000      546.800000      734.500000   \n",
       "OPD Q wt             0.010267        0.013715        0.012359        0.021986   \n",
       "\n",
       "              f4_arr720_bed2  \n",
       "OPD patients    33202.800000  \n",
       "IPD patients      187.500000  \n",
       "ANC patients      364.000000  \n",
       "Del patients      733.600000  \n",
       "OPD Q wt            0.015481  "
      ]
     },
     "execution_count": 8,
     "metadata": {},
     "output_type": "execute_result"
    }
   ],
   "source": [
    "data = process_results([i['s_rep_file'] for i in dict_list])\n",
    "data.head()"
   ]
  },
  {
   "cell_type": "markdown",
   "metadata": {},
   "source": [
    "## Create Figure 4"
   ]
  },
  {
   "cell_type": "code",
   "execution_count": 9,
   "metadata": {},
   "outputs": [
    {
     "data": {
      "text/html": [
       "<div>\n",
       "<style scoped>\n",
       "    .dataframe tbody tr th:only-of-type {\n",
       "        vertical-align: middle;\n",
       "    }\n",
       "\n",
       "    .dataframe tbody tr th {\n",
       "        vertical-align: top;\n",
       "    }\n",
       "\n",
       "    .dataframe thead th {\n",
       "        text-align: right;\n",
       "    }\n",
       "</style>\n",
       "<table border=\"1\" class=\"dataframe\">\n",
       "  <thead>\n",
       "    <tr style=\"text-align: right;\">\n",
       "      <th></th>\n",
       "      <th>1 bed</th>\n",
       "      <th>2 beds</th>\n",
       "    </tr>\n",
       "  </thead>\n",
       "  <tbody>\n",
       "    <tr>\n",
       "      <th>1</th>\n",
       "      <td>0.157425</td>\n",
       "      <td>0.015504</td>\n",
       "    </tr>\n",
       "    <tr>\n",
       "      <th>1.5</th>\n",
       "      <td>0.224336</td>\n",
       "      <td>0.036134</td>\n",
       "    </tr>\n",
       "    <tr>\n",
       "      <th>2</th>\n",
       "      <td>0.275549</td>\n",
       "      <td>0.064164</td>\n",
       "    </tr>\n",
       "  </tbody>\n",
       "</table>\n",
       "</div>"
      ],
      "text/plain": [
       "        1 bed    2 beds\n",
       "1    0.157425  0.015504\n",
       "1.5  0.224336  0.036134\n",
       "2    0.275549  0.064164"
      ]
     },
     "execution_count": 9,
     "metadata": {},
     "output_type": "execute_result"
    }
   ],
   "source": [
    "# Select series with proportion referred\n",
    "a4 = data.loc['prop_del_referred']\n",
    "\n",
    "# Reshape into appropriate format for plotting\n",
    "names = ['1', '1.5', '2']\n",
    "bed1 = [a4['f4_arr1440_bed1'], a4['f4_arr960_bed1'], a4['f4_arr720_bed1']]\n",
    "bed2 = [a4['f4_arr1440_bed2'], a4['f4_arr960_bed2'], a4['f4_arr720_bed2']]\n",
    "\n",
    "data_4a = pd.DataFrame({'1 bed': bed1, '2 beds': bed2}, index=names)\n",
    "data_4a"
   ]
  },
  {
   "cell_type": "code",
   "execution_count": 10,
   "metadata": {},
   "outputs": [
    {
     "data": {
      "image/png": "[encoded data removed]",
      "text/plain": [
       "<Figure size 640x480 with 1 Axes>"
      ]
     },
     "metadata": {},
     "output_type": "display_data"
    }
   ],
   "source": [
    "# Plot data\n",
    "ax = data_4a.plot(kind='line', color='black')\n",
    "\n",
    "# Add markers\n",
    "for l, ms in zip(ax.lines, itertools.cycle('so')):\n",
    "    l.set_marker(ms)\n",
    "    l.set_color('black')\n",
    "ax.legend(title='Number of delivery beds')\n",
    "\n",
    "# Add labels to each point\n",
    "for line in ax.lines:\n",
    "    x_data = line.get_xdata()\n",
    "    y_data = line.get_ydata()\n",
    "    for x, y in zip(x_data, y_data):\n",
    "        ax.annotate(f'{y:.3f}', xy=(x, y), xytext=(3, 3),\n",
    "                    textcoords='offset points', fontsize=9)\n",
    "\n",
    "# Adjust figure\n",
    "plt.xlabel('Average number of childbirth patients per day')\n",
    "plt.ylabel('Proportion of patients referred elsewhere')\n",
    "plt.ylim(0, 0.3)\n",
    "ax.xaxis.set_major_locator(ticker.MultipleLocator(1))\n",
    "plt.grid(axis='y')\n",
    "ax.set_axisbelow(True)\n",
    "plt.savefig(fig4_path, bbox_inches='tight')\n",
    "plt.show()"
   ]
  },
  {
   "cell_type": "code",
   "execution_count": 11,
   "metadata": {},
   "outputs": [
    {
     "data": {
      "text/html": [
       "<div>\n",
       "<style scoped>\n",
       "    .dataframe tbody tr th:only-of-type {\n",
       "        vertical-align: middle;\n",
       "    }\n",
       "\n",
       "    .dataframe tbody tr th {\n",
       "        vertical-align: top;\n",
       "    }\n",
       "\n",
       "    .dataframe thead th {\n",
       "        text-align: right;\n",
       "    }\n",
       "</style>\n",
       "<table border=\"1\" class=\"dataframe\">\n",
       "  <thead>\n",
       "    <tr style=\"text-align: right;\">\n",
       "      <th></th>\n",
       "      <th>original</th>\n",
       "      <th>reproduced</th>\n",
       "      <th>diff</th>\n",
       "      <th>pct_change</th>\n",
       "    </tr>\n",
       "  </thead>\n",
       "  <tbody>\n",
       "    <tr>\n",
       "      <th>0</th>\n",
       "      <td>0.0210</td>\n",
       "      <td>0.016</td>\n",
       "      <td>-0.0050</td>\n",
       "      <td>-23.809524</td>\n",
       "    </tr>\n",
       "    <tr>\n",
       "      <th>1</th>\n",
       "      <td>0.0390</td>\n",
       "      <td>0.036</td>\n",
       "      <td>-0.0030</td>\n",
       "      <td>-7.692308</td>\n",
       "    </tr>\n",
       "    <tr>\n",
       "      <th>2</th>\n",
       "      <td>0.0599</td>\n",
       "      <td>0.064</td>\n",
       "      <td>0.0041</td>\n",
       "      <td>6.844741</td>\n",
       "    </tr>\n",
       "    <tr>\n",
       "      <th>3</th>\n",
       "      <td>0.1500</td>\n",
       "      <td>0.157</td>\n",
       "      <td>0.0070</td>\n",
       "      <td>4.666667</td>\n",
       "    </tr>\n",
       "    <tr>\n",
       "      <th>4</th>\n",
       "      <td>0.1950</td>\n",
       "      <td>0.224</td>\n",
       "      <td>0.0290</td>\n",
       "      <td>14.871795</td>\n",
       "    </tr>\n",
       "    <tr>\n",
       "      <th>5</th>\n",
       "      <td>0.2700</td>\n",
       "      <td>0.276</td>\n",
       "      <td>0.0060</td>\n",
       "      <td>2.222222</td>\n",
       "    </tr>\n",
       "  </tbody>\n",
       "</table>\n",
       "</div>"
      ],
      "text/plain": [
       "   original  reproduced    diff  pct_change\n",
       "0    0.0210       0.016 -0.0050  -23.809524\n",
       "1    0.0390       0.036 -0.0030   -7.692308\n",
       "2    0.0599       0.064  0.0041    6.844741\n",
       "3    0.1500       0.157  0.0070    4.666667\n",
       "4    0.1950       0.224  0.0290   14.871795\n",
       "5    0.2700       0.276  0.0060    2.222222"
      ]
     },
     "execution_count": 11,
     "metadata": {},
     "output_type": "execute_result"
    }
   ],
   "source": [
    "# Input results from original and reproduced figures\n",
    "comp = pd.DataFrame({\n",
    "    'original': [0.021, 0.039, 0.0599, 0.150, 0.195, 0.270],\n",
    "    'reproduced': data_4a.iloc[:, 1].to_list() + data_4a.iloc[:, 0].to_list()})\n",
    "comp['reproduced'] = round(comp['reproduced'], 3)\n",
    "\n",
    "# Find size of difference and % change\n",
    "comp['diff'] = comp['reproduced'] - comp['original']\n",
    "comp['pct_change'] = comp.pct_change(axis=1).iloc[:, 1]*100\n",
    "comp"
   ]
  },
  {
   "cell_type": "markdown",
   "metadata": {},
   "source": [
    "## Run time"
   ]
  },
  {
   "cell_type": "code",
   "execution_count": 12,
   "metadata": {},
   "outputs": [
    {
     "name": "stdout",
     "output_type": "stream",
     "text": [
      "Notebook run time: 3m 13s\n"
     ]
    }
   ],
   "source": [
    "# Find run time in seconds\n",
    "end = time.time()\n",
    "runtime = round(end-start)\n",
    "\n",
    "# Display converted to minutes and seconds\n",
    "print(f'Notebook run time: {runtime//60}m {runtime%60}s')"
   ]
  }
 ],
 "metadata": {
  "kernelspec": {
   "display_name": "shoaib2022",
   "language": "python",
   "name": "python3"
  },
  "language_info": {
   "codemirror_mode": {
    "name": "ipython",
    "version": 3
   },
   "file_extension": ".py",
   "mimetype": "text/x-python",
   "name": "python",
   "nbconvert_exporter": "python",
   "pygments_lexer": "ipython3",
   "version": "3.9.19"
  }
 },
 "nbformat": 4,
 "nbformat_minor": 2
}
