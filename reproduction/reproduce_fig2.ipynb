{
 "cells": [
  {
   "cell_type": "markdown",
   "metadata": {},
   "source": [
    "# Reproducing Figure 2A-D\n",
    "\n",
    "Figure 2 presents results from sensitivity analysis of configuration 1.\n",
    "\n",
    "## Parameters\n",
    "\n",
    "In these figures, we vary:\n",
    "\n",
    "* **Number of outpatients per day**:\n",
    "    * 170 (same as config 4)\n",
    "    * 85\n",
    "    * 65\n",
    "* **Average service time for outpatients** - mean (SD):\n",
    "    * 0.87 (0.21) (same as config 1)\n",
    "    * 2.5 (0.5)\n",
    "    * 5 (1)\n",
    "\n",
    "To calculate inter-arrival times from those numbers per day, based on article description and the provided patient counts and equivalent IAT, understand the method for calculation to be **round(60/(n/8.5))**,  where n is the number of arrivals per day. As such..."
   ]
  },
  {
   "cell_type": "code",
   "execution_count": 1,
   "metadata": {},
   "outputs": [
    {
     "name": "stdout",
     "output_type": "stream",
     "text": [
      "For 170 outpatients, use IAT (rounded to nearest int): 3.0\n",
      "For 85 outpatients, use IAT (rounded to nearest int): 6.0\n",
      "For 65 outpatients, use IAT (rounded to nearest int): 7.846153846153846\n"
     ]
    }
   ],
   "source": [
    "# Calculation of inter-arrival times\n",
    "print(f'For 170 outpatients, use IAT (rounded to nearest int): {60/(170/8.5)}')\n",
    "print(f'For 85 outpatients, use IAT (rounded to nearest int): {60/(85/8.5)}')\n",
    "print(f'For 65 outpatients, use IAT (rounded to nearest int): {60/(65/8.5)}')"
   ]
  },
  {
   "cell_type": "markdown",
   "metadata": {},
   "source": [
    "## Set up"
   ]
  },
  {
   "cell_type": "code",
   "execution_count": 2,
   "metadata": {},
   "outputs": [],
   "source": [
    "# To run model\n",
    "import PHC\n",
    "\n",
    "# To import results and produce figures\n",
    "import xlrd\n",
    "import pandas as pd\n",
    "import os\n",
    "import matplotlib.pyplot as plt"
   ]
  },
  {
   "cell_type": "markdown",
   "metadata": {},
   "source": [
    "## Run model\n",
    "\n",
    "As this is a variation on configuration 1 (which is the default parameters in PHC.py), we just need to input the varying number of outpatients and service time."
   ]
  },
  {
   "cell_type": "code",
   "execution_count": 3,
   "metadata": {},
   "outputs": [
    {
     "data": {
      "text/plain": [
       "\"\\nserv087 = {\\n    'mean': 0.87,\\n    'sd': 0.21,\\n    'consult_boundary_1': 0.5,  # From PHC.py\\n    'consult_boundary_2': 0.3,  # From PHC.py\\n}\\n\\nserv25 = {\\n    'mean': 2.5,\\n    'sd': 0.5\\n#   'consult_boundary_1': ,  # What is it?\\n#   'consult_boundary_2': ,  # What is it?\\n}\\n\\nserv5 = {\\n    'mean': 5,\\n    'sd': 1,\\n    'consult_boundary_1': 2,  # From config 4\\n    'consult_boundary_2': 2,  # From config 4\\n}\\n\""
      ]
     },
     "execution_count": 3,
     "metadata": {},
     "output_type": "execute_result"
    }
   ],
   "source": [
    "# TODO: Run with 100 replications\n",
    "\n",
    "arr170 = {\n",
    "    'OPD_iat': 3,\n",
    "    'rep_file': 'arr170.xls',\n",
    "}\n",
    "\n",
    "arr85 = {\n",
    "    'OPD_iat': 6,\n",
    "    'rep_file': 'arr85.xls',\n",
    "}\n",
    "\n",
    "arr65 = {\n",
    "    'OPD_iat': 8,\n",
    "    'rep_file': 'arr65.xls',\n",
    "}\n",
    "\n",
    "'''\n",
    "serv087 = {\n",
    "    'mean': 0.87,\n",
    "    'sd': 0.21,\n",
    "    'consult_boundary_1': 0.5,  # From PHC.py\n",
    "    'consult_boundary_2': 0.3,  # From PHC.py\n",
    "}\n",
    "\n",
    "serv25 = {\n",
    "    'mean': 2.5,\n",
    "    'sd': 0.5\n",
    "#   'consult_boundary_1': ,  # What is it?\n",
    "#   'consult_boundary_2': ,  # What is it?\n",
    "}\n",
    "\n",
    "serv5 = {\n",
    "    'mean': 5,\n",
    "    'sd': 1,\n",
    "    'consult_boundary_1': 2,  # From config 4\n",
    "    'consult_boundary_2': 2,  # From config 4\n",
    "}\n",
    "'''"
   ]
  },
  {
   "cell_type": "code",
   "execution_count": 4,
   "metadata": {},
   "outputs": [],
   "source": [
    "# Input configuration parameters to main() (have to append with 's_', and\n",
    "# add ** as inputting dict as parameters)\n",
    "# for config in [arr170, arr85, arr65]:\n",
    "#     print(f'''Running: {config['rep_file']}''')\n",
    "#     PHC.main(**{f's_{k}': v for k, v in config.items()})"
   ]
  },
  {
   "cell_type": "markdown",
   "metadata": {},
   "source": [
    "## Import results"
   ]
  },
  {
   "cell_type": "code",
   "execution_count": 5,
   "metadata": {},
   "outputs": [
    {
     "data": {
      "text/html": [
       "<div>\n",
       "<style scoped>\n",
       "    .dataframe tbody tr th:only-of-type {\n",
       "        vertical-align: middle;\n",
       "    }\n",
       "\n",
       "    .dataframe tbody tr th {\n",
       "        vertical-align: top;\n",
       "    }\n",
       "\n",
       "    .dataframe thead th {\n",
       "        text-align: right;\n",
       "    }\n",
       "</style>\n",
       "<table border=\"1\" class=\"dataframe\">\n",
       "  <thead>\n",
       "    <tr style=\"text-align: right;\">\n",
       "      <th></th>\n",
       "      <th>170</th>\n",
       "      <th>85</th>\n",
       "      <th>65</th>\n",
       "    </tr>\n",
       "  </thead>\n",
       "  <tbody>\n",
       "    <tr>\n",
       "      <th>OPD patients</th>\n",
       "      <td>44133.800000</td>\n",
       "      <td>22135.600000</td>\n",
       "      <td>16680.500000</td>\n",
       "    </tr>\n",
       "    <tr>\n",
       "      <th>IPD patients</th>\n",
       "      <td>178.300000</td>\n",
       "      <td>185.100000</td>\n",
       "      <td>182.700000</td>\n",
       "    </tr>\n",
       "    <tr>\n",
       "      <th>ANC patients</th>\n",
       "      <td>368.400000</td>\n",
       "      <td>356.700000</td>\n",
       "      <td>362.100000</td>\n",
       "    </tr>\n",
       "    <tr>\n",
       "      <th>Del patients</th>\n",
       "      <td>359.200000</td>\n",
       "      <td>355.700000</td>\n",
       "      <td>359.900000</td>\n",
       "    </tr>\n",
       "    <tr>\n",
       "      <th>OPD Q wt</th>\n",
       "      <td>0.010248</td>\n",
       "      <td>0.004627</td>\n",
       "      <td>0.003585</td>\n",
       "    </tr>\n",
       "    <tr>\n",
       "      <th>Pharmacy Q wt</th>\n",
       "      <td>2.494080</td>\n",
       "      <td>0.458695</td>\n",
       "      <td>0.289600</td>\n",
       "    </tr>\n",
       "    <tr>\n",
       "      <th>Lab Q wt</th>\n",
       "      <td>3.937399</td>\n",
       "      <td>1.046911</td>\n",
       "      <td>0.701163</td>\n",
       "    </tr>\n",
       "    <tr>\n",
       "      <th>doc occ</th>\n",
       "      <td>0.311170</td>\n",
       "      <td>0.223914</td>\n",
       "      <td>0.201738</td>\n",
       "    </tr>\n",
       "    <tr>\n",
       "      <th>Lab patient list</th>\n",
       "      <td>253015.300000</td>\n",
       "      <td>127103.200000</td>\n",
       "      <td>96194.400000</td>\n",
       "    </tr>\n",
       "    <tr>\n",
       "      <th>OPD q len</th>\n",
       "      <td>0.008920</td>\n",
       "      <td>0.005293</td>\n",
       "      <td>0.002826</td>\n",
       "    </tr>\n",
       "    <tr>\n",
       "      <th>ipd occ</th>\n",
       "      <td>0.097000</td>\n",
       "      <td>0.095000</td>\n",
       "      <td>0.098000</td>\n",
       "    </tr>\n",
       "    <tr>\n",
       "      <th>opd q len</th>\n",
       "      <td>0.001205</td>\n",
       "      <td>0.000273</td>\n",
       "      <td>0.000160</td>\n",
       "    </tr>\n",
       "    <tr>\n",
       "      <th>pharmacy q len</th>\n",
       "      <td>0.292525</td>\n",
       "      <td>0.026969</td>\n",
       "      <td>0.012833</td>\n",
       "    </tr>\n",
       "    <tr>\n",
       "      <th>lab q len</th>\n",
       "      <td>0.236944</td>\n",
       "      <td>0.032413</td>\n",
       "      <td>0.016678</td>\n",
       "    </tr>\n",
       "    <tr>\n",
       "      <th>NCD occ</th>\n",
       "      <td>1.246115</td>\n",
       "      <td>0.604072</td>\n",
       "      <td>0.501125</td>\n",
       "    </tr>\n",
       "    <tr>\n",
       "      <th>lab occ</th>\n",
       "      <td>0.735748</td>\n",
       "      <td>0.380607</td>\n",
       "      <td>0.294982</td>\n",
       "    </tr>\n",
       "    <tr>\n",
       "      <th>pharm occ</th>\n",
       "      <td>0.856918</td>\n",
       "      <td>0.429830</td>\n",
       "      <td>0.323487</td>\n",
       "    </tr>\n",
       "    <tr>\n",
       "      <th>staff nurse occ</th>\n",
       "      <td>0.320056</td>\n",
       "      <td>0.319551</td>\n",
       "      <td>0.320516</td>\n",
       "    </tr>\n",
       "    <tr>\n",
       "      <th>del occ</th>\n",
       "      <td>0.282000</td>\n",
       "      <td>0.276000</td>\n",
       "      <td>0.284000</td>\n",
       "    </tr>\n",
       "    <tr>\n",
       "      <th>del referred</th>\n",
       "      <td>55.100000</td>\n",
       "      <td>54.200000</td>\n",
       "      <td>57.300000</td>\n",
       "    </tr>\n",
       "    <tr>\n",
       "      <th>ipd bed occ</th>\n",
       "      <td>0.091557</td>\n",
       "      <td>0.091725</td>\n",
       "      <td>0.092078</td>\n",
       "    </tr>\n",
       "  </tbody>\n",
       "</table>\n",
       "</div>"
      ],
      "text/plain": [
       "                            170             85            65\n",
       "OPD patients       44133.800000   22135.600000  16680.500000\n",
       "IPD patients         178.300000     185.100000    182.700000\n",
       "ANC patients         368.400000     356.700000    362.100000\n",
       "Del patients         359.200000     355.700000    359.900000\n",
       "OPD Q wt               0.010248       0.004627      0.003585\n",
       "Pharmacy Q wt          2.494080       0.458695      0.289600\n",
       "Lab Q wt               3.937399       1.046911      0.701163\n",
       "doc occ                0.311170       0.223914      0.201738\n",
       "Lab patient list  253015.300000  127103.200000  96194.400000\n",
       "OPD q len              0.008920       0.005293      0.002826\n",
       "ipd occ                0.097000       0.095000      0.098000\n",
       "opd q len              0.001205       0.000273      0.000160\n",
       "pharmacy q len         0.292525       0.026969      0.012833\n",
       "lab q len              0.236944       0.032413      0.016678\n",
       "NCD occ                1.246115       0.604072      0.501125\n",
       "lab occ                0.735748       0.380607      0.294982\n",
       "pharm occ              0.856918       0.429830      0.323487\n",
       "staff nurse occ        0.320056       0.319551      0.320516\n",
       "del occ                0.282000       0.276000      0.284000\n",
       "del referred          55.100000      54.200000     57.300000\n",
       "ipd bed occ            0.091557       0.091725      0.092078"
      ]
     },
     "execution_count": 5,
     "metadata": {},
     "output_type": "execute_result"
    }
   ],
   "source": [
    "# List of files to loop through\n",
    "files = ['arr170', 'arr85', 'arr65']\n",
    "\n",
    "# Empty list to store results\n",
    "result_list = []\n",
    "\n",
    "for f in files:\n",
    "    # Import .xls and convert to pandas dataframe\n",
    "    book = xlrd.open_workbook(os.path.join('outputs', f'{f}.xls'))\n",
    "    result = pd.read_excel(book, header=None, index_col=0)\n",
    "\n",
    "    # Find mean from the replication\n",
    "    # Save as dataframe, dropping the duplicate rows (NCD occ twice)\n",
    "    res = pd.DataFrame({\n",
    "        f.replace('arr', ''): result.mean(axis=1)\n",
    "    }).drop_duplicates()\n",
    "\n",
    "    # Remove index name\n",
    "    res.index.name = None\n",
    "\n",
    "    # Save to list\n",
    "    result_list.append(res)\n",
    "\n",
    "# Combine into single dataframe\n",
    "summary = pd.concat(result_list, axis=1)\n",
    "summary"
   ]
  },
  {
   "cell_type": "markdown",
   "metadata": {},
   "source": [
    "## Create Figure 2B"
   ]
  },
  {
   "cell_type": "code",
   "execution_count": 6,
   "metadata": {},
   "outputs": [
    {
     "data": {
      "image/png": "[encoded data removed]",
      "text/plain": [
       "<Figure size 640x480 with 1 Axes>"
      ]
     },
     "metadata": {},
     "output_type": "display_data"
    }
   ],
   "source": [
    "summary.loc['NCD occ'].plot.bar(edgecolor='black', color='white', hatch='.')\n",
    "plt.xlabel('Number of patients/day')\n",
    "plt.ylabel('''NCD nurse's utilisation''')\n",
    "plt.ylim(0, 1.4)\n",
    "plt.xticks(rotation=0)\n",
    "plt.show()"
   ]
  }
 ],
 "metadata": {
  "kernelspec": {
   "display_name": "shoaib2022",
   "language": "python",
   "name": "python3"
  },
  "language_info": {
   "codemirror_mode": {
    "name": "ipython",
    "version": 3
   },
   "file_extension": ".py",
   "mimetype": "text/x-python",
   "name": "python",
   "nbconvert_exporter": "python",
   "pygments_lexer": "ipython3",
   "version": "3.9.19"
  }
 },
 "nbformat": 4,
 "nbformat_minor": 2
}
