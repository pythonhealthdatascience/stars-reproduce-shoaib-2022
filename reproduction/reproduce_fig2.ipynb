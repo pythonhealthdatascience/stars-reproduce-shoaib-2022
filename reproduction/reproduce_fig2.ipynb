{
 "cells": [
  {
   "cell_type": "markdown",
   "metadata": {},
   "source": [
    "# Reproducing Figure 2A-D\n",
    "\n",
    "Figure 2 presents results from sensitivity analysis of configuration 1.\n",
    "\n",
    "It varies:\n",
    "\n",
    "* Number of outpatients per day:\n",
    "    * 170 (same as config 4)\n",
    "    * 85\n",
    "    * 65\n",
    "* Average service time for outpatients - mean (SD):\n",
    "    * 0.87 (0.21) (same as config 1)\n",
    "    * 2.5 (0.5)\n",
    "    * 5 (1)\n",
    "\n",
    "To calculate inter-arrival times from those numbers per day, based on article description and the provided patient counts and equivalent IAT, understand the method for calculation to be:\n",
    "\n",
    "> `round(60/(n/8.5)`\n",
    "\n",
    "Where n is the number of arrivals per day. As such:\n",
    "\n",
    "* 170 = IAT 3\n",
    "* 85 = IAT 6\n",
    "* 65 = IAT 8"
   ]
  },
  {
   "cell_type": "code",
   "execution_count": 1,
   "metadata": {},
   "outputs": [
    {
     "name": "stdout",
     "output_type": "stream",
     "text": [
      "3.0\n",
      "6.0\n",
      "7.846153846153846\n"
     ]
    }
   ],
   "source": [
    "print(60/(170/8.5))\n",
    "print(60/(85/8.5))\n",
    "print(60/(65/8.5))"
   ]
  },
  {
   "cell_type": "markdown",
   "metadata": {},
   "source": [
    "## Set up"
   ]
  },
  {
   "cell_type": "code",
   "execution_count": 2,
   "metadata": {},
   "outputs": [],
   "source": [
    "# To run model\n",
    "import PHC"
   ]
  },
  {
   "cell_type": "markdown",
   "metadata": {},
   "source": [
    "## Run model\n",
    "\n",
    "As this is a variation on configuration 1 (which is the default parameters in PHC.py), we just need to input the varying number of outpatients and service time."
   ]
  },
  {
   "cell_type": "code",
   "execution_count": 3,
   "metadata": {},
   "outputs": [],
   "source": [
    "# TODO: Run with 100 replications\n",
    "\n",
    "arr170 = {\n",
    "    'OPD_iat': 3,\n",
    "    'rep_file': 'arr170.xls',\n",
    "}\n",
    "\n",
    "arr85 = {\n",
    "    'OPD_iat': 6,\n",
    "    'rep_file': 'arr85.xls',\n",
    "}\n",
    "\n",
    "arr65 = {\n",
    "    'OPD_iat': 8,\n",
    "    'rep_file': 'arr65.xls',\n",
    "}\n",
    "\n",
    "'''\n",
    "serv087 = {\n",
    "    'mean': 0.87,\n",
    "    'sd': 0.21,\n",
    "    'consult_boundary_1': 0.5,  # From PHC.py\n",
    "    'consult_boundary_2': 0.3,  # From PHC.py\n",
    "}\n",
    "\n",
    "serv25 = {\n",
    "    'mean': 2.5,\n",
    "    'sd': 0.5\n",
    "#   'consult_boundary_1': ,  # What is it?\n",
    "#   'consult_boundary_2': ,  # What is it?\n",
    "}\n",
    "\n",
    "serv5 = {\n",
    "    'mean': 5,\n",
    "    'sd': 1,\n",
    "    'consult_boundary_1': 2,  # From config 4\n",
    "    'consult_boundary_2': 2,  # From config 4\n",
    "}\n",
    "'''"
   ]
  },
  {
   "cell_type": "code",
   "execution_count": 4,
   "metadata": {},
   "outputs": [
    {
     "name": "stdout",
     "output_type": "stream",
     "text": [
      "Running: arr170.xls\n",
      " No of replications done 0\n",
      " No of replications done 1\n",
      " No of replications done 2\n",
      " No of replications done 3\n",
      " No of replications done 4\n",
      " No of replications done 5\n",
      " No of replications done 6\n",
      " No of replications done 7\n",
      " No of replications done 8\n",
      " No of replications done 9\n",
      "Running: arr85.xls\n",
      " No of replications done 0\n",
      " No of replications done 1\n",
      " No of replications done 2\n",
      " No of replications done 3\n",
      " No of replications done 4\n",
      " No of replications done 5\n",
      " No of replications done 6\n",
      " No of replications done 7\n",
      " No of replications done 8\n",
      " No of replications done 9\n",
      "Running: arr65.xls\n",
      " No of replications done 0\n",
      " No of replications done 1\n",
      " No of replications done 2\n",
      " No of replications done 3\n",
      " No of replications done 4\n",
      " No of replications done 5\n",
      " No of replications done 6\n",
      " No of replications done 7\n",
      " No of replications done 8\n",
      " No of replications done 9\n"
     ]
    }
   ],
   "source": [
    "# Input configuration parameters to main() (have to append with 's_', and\n",
    "# add ** as inputting dict as parameters)\n",
    "for config in [arr170, arr85, arr65]:\n",
    "    print(f'''Running: {config['rep_file']}''')\n",
    "    PHC.main(**{f's_{k}': v for k, v in config.items()})"
   ]
  }
 ],
 "metadata": {
  "kernelspec": {
   "display_name": "shoaib2022",
   "language": "python",
   "name": "python3"
  },
  "language_info": {
   "codemirror_mode": {
    "name": "ipython",
    "version": 3
   },
   "file_extension": ".py",
   "mimetype": "text/x-python",
   "name": "python",
   "nbconvert_exporter": "python",
   "pygments_lexer": "ipython3",
   "version": "3.9.19"
  }
 },
 "nbformat": 4,
 "nbformat_minor": 2
}
