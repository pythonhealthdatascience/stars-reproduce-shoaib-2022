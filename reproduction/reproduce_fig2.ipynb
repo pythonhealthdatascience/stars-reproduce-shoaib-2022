{
 "cells": [
  {
   "cell_type": "markdown",
   "metadata": {},
   "source": [
    "# Reproducing Figure 2A-D\n",
    "\n",
    "Figure 2 presents results from sensitivity analysis of configuration 1.\n",
    "\n",
    "## Parameters\n",
    "\n",
    "In these figures, we vary:\n",
    "\n",
    "* **Number of outpatients per day**:\n",
    "    * 170 (same as config 4)\n",
    "    * 85\n",
    "    * 65\n",
    "* **Average service time for outpatients** - mean (SD):\n",
    "    * 0.87 (0.21) (same as config 1)\n",
    "    * 2.5 (0.5)\n",
    "    * 5 (1)\n",
    "\n",
    "To calculate inter-arrival times from those numbers per day, based on article description and the provided patient counts and equivalent IAT, understand the method for calculation to be **round(60/(n/8.5))**,  where n is the number of arrivals per day. As such..."
   ]
  },
  {
   "cell_type": "code",
   "execution_count": 12,
   "metadata": {},
   "outputs": [
    {
     "name": "stdout",
     "output_type": "stream",
     "text": [
      "For 170 outpatients, use IAT (rounded to nearest int): 3.0\n",
      "For 85 outpatients, use IAT (rounded to nearest int): 6.0\n",
      "For 65 outpatients, use IAT (rounded to nearest int): 7.846153846153846\n"
     ]
    }
   ],
   "source": [
    "# Calculation of inter-arrival times\n",
    "print(f'For 170 outpatients, use IAT (rounded to nearest int): {60/(170/8.5)}')\n",
    "print(f'For 85 outpatients, use IAT (rounded to nearest int): {60/(85/8.5)}')\n",
    "print(f'For 65 outpatients, use IAT (rounded to nearest int): {60/(65/8.5)}')"
   ]
  },
  {
   "cell_type": "markdown",
   "metadata": {},
   "source": [
    "## Set up"
   ]
  },
  {
   "cell_type": "code",
   "execution_count": 13,
   "metadata": {},
   "outputs": [],
   "source": [
    "# To run model\n",
    "import PHC\n",
    "\n",
    "# To import results and produce figures\n",
    "import xlrd\n",
    "import pandas as pd\n",
    "import os\n",
    "import matplotlib.pyplot as plt"
   ]
  },
  {
   "cell_type": "code",
   "execution_count": 14,
   "metadata": {},
   "outputs": [],
   "source": [
    "# Paths to save image files to\n",
    "output_folder = 'outputs'\n",
    "fig2a_path = os.path.join(output_folder, 'fig2a.png')\n",
    "fig2b_path = os.path.join(output_folder, 'fig2b.png')\n",
    "fig2c_path = os.path.join(output_folder, 'fig2c.png')\n",
    "fig2d_path = os.path.join(output_folder, 'fig2d.png')"
   ]
  },
  {
   "cell_type": "markdown",
   "metadata": {},
   "source": [
    "## Run model\n",
    "\n",
    "As this is a variation on configuration 1 (which is the default parameters in PHC.py), we just need to input the varying number of outpatients and service time."
   ]
  },
  {
   "cell_type": "code",
   "execution_count": 15,
   "metadata": {},
   "outputs": [
    {
     "data": {
      "text/plain": [
       "[{'OPD_iat': 3,\n",
       "  'rep_file': 'arr170_serv5.xls',\n",
       "  'mean': 5,\n",
       "  'sd': 1,\n",
       "  'consult_boundary_1': 2,\n",
       "  'consult_boundary_2': 2},\n",
       " {'OPD_iat': 6,\n",
       "  'rep_file': 'arr85_serv5.xls',\n",
       "  'mean': 5,\n",
       "  'sd': 1,\n",
       "  'consult_boundary_1': 2,\n",
       "  'consult_boundary_2': 2},\n",
       " {'OPD_iat': 8,\n",
       "  'rep_file': 'arr65_serv5.xls',\n",
       "  'mean': 5,\n",
       "  'sd': 1,\n",
       "  'consult_boundary_1': 2,\n",
       "  'consult_boundary_2': 2}]"
      ]
     },
     "metadata": {},
     "output_type": "display_data"
    }
   ],
   "source": [
    "# TODO: Run with 100 replications\n",
    "\n",
    "# To produce Figure 2B\n",
    "\n",
    "arr170 = {\n",
    "    'OPD_iat': 3,\n",
    "    'rep_file': 'arr170.xls',\n",
    "}\n",
    "\n",
    "arr85 = {\n",
    "    'OPD_iat': 6,\n",
    "    'rep_file': 'arr85.xls',\n",
    "}\n",
    "\n",
    "arr65 = {\n",
    "    'OPD_iat': 8,\n",
    "    'rep_file': 'arr65.xls',\n",
    "}\n",
    "\n",
    "serv087 = {\n",
    "    'mean': 0.87,\n",
    "    'sd': 0.21,\n",
    "    'consult_boundary_1': 0.5,  # From PHC.py\n",
    "    'consult_boundary_2': 0.3,  # From PHC.py\n",
    "}\n",
    "\n",
    "serv25 = {\n",
    "    'mean': 2.5,\n",
    "    'sd': 0.5\n",
    "#   'consult_boundary_1': ,  # What is it?\n",
    "#   'consult_boundary_2': ,  # What is it?\n",
    "}\n",
    "\n",
    "serv5 = {\n",
    "    'mean': 5,\n",
    "    'sd': 1,\n",
    "    'consult_boundary_1': 2,  # From config 4\n",
    "    'consult_boundary_2': 2,  # From config 4\n",
    "}\n",
    "\n",
    "# To produce Figure 2C, combine the arr dictionaries with the serv5 dict\n",
    "arr_dict = [arr170, arr85, arr65]\n",
    "arr_serv5_dict = []\n",
    "for d in arr_dict:\n",
    "    # Combine the dictionaries\n",
    "    comb = {**d, **serv5}\n",
    "    # Replace the file name\n",
    "    comb['rep_file'] = comb['rep_file'].replace('.', '_serv5.')\n",
    "    # Save to list\n",
    "    arr_serv5_dict.append(comb)\n",
    "display(arr_serv5_dict)"
   ]
  },
  {
   "cell_type": "code",
   "execution_count": 16,
   "metadata": {},
   "outputs": [],
   "source": [
    "# Input configuration parameters to main() (have to append with 's_', and\n",
    "# add ** as inputting dict as parameters)\n",
    "#for config in arr_serv5_dict:\n",
    "#    print(f'''Running: {config['rep_file']}''')\n",
    "#    PHC.main(**{f's_{k}': v for k, v in config.items()})"
   ]
  },
  {
   "cell_type": "markdown",
   "metadata": {},
   "source": [
    "## Create Figure 2B"
   ]
  },
  {
   "cell_type": "markdown",
   "metadata": {},
   "source": [
    "Import and process data"
   ]
  },
  {
   "cell_type": "code",
   "execution_count": 17,
   "metadata": {},
   "outputs": [],
   "source": [
    "# List of files to loop through\n",
    "files = ['arr170', 'arr85', 'arr65']\n",
    "\n",
    "# Empty list to store results\n",
    "result_list = []\n",
    "\n",
    "for f in files:\n",
    "    # Import .xls and convert to pandas dataframe\n",
    "    book = xlrd.open_workbook(os.path.join(output_folder, f'{f}.xls'))\n",
    "    result = pd.read_excel(book, header=None, index_col=0)\n",
    "\n",
    "    # Find mean from the replication\n",
    "    # Save as dataframe, dropping the duplicate rows (NCD occ twice)\n",
    "    res = pd.DataFrame({\n",
    "        f.replace('arr', ''): result.mean(axis=1)\n",
    "    }).drop_duplicates()\n",
    "\n",
    "    # Remove index name\n",
    "    res.index.name = None\n",
    "\n",
    "    # Save to list\n",
    "    result_list.append(res)\n",
    "\n",
    "# Combine into single dataframe\n",
    "summary = pd.concat(result_list, axis=1)"
   ]
  },
  {
   "cell_type": "markdown",
   "metadata": {},
   "source": [
    "Produce figure"
   ]
  },
  {
   "cell_type": "code",
   "execution_count": 18,
   "metadata": {},
   "outputs": [
    {
     "data": {
      "image/png": "[encoded data removed]",
      "text/plain": [
       "<Figure size 640x480 with 1 Axes>"
      ]
     },
     "metadata": {},
     "output_type": "display_data"
    }
   ],
   "source": [
    "summary.loc['NCD occ'].plot.bar(edgecolor='black', color='white', hatch='.')\n",
    "plt.xlabel('Number of patients/day')\n",
    "plt.ylabel('''NCD nurse's utilisation''')\n",
    "plt.ylim(0, 1.4)\n",
    "plt.xticks(rotation=0)\n",
    "plt.savefig(fig2b_path, bbox_inches='tight')\n",
    "plt.show()"
   ]
  },
  {
   "cell_type": "markdown",
   "metadata": {},
   "source": [
    "## Create Figure 2C"
   ]
  },
  {
   "cell_type": "markdown",
   "metadata": {},
   "source": [
    "Import and process data"
   ]
  },
  {
   "cell_type": "code",
   "execution_count": 19,
   "metadata": {},
   "outputs": [],
   "source": [
    "# List of files to loop through\n",
    "files = ['arr170_serv5', 'arr85_serv5', 'arr65_serv5']\n",
    "\n",
    "# Empty list to store results\n",
    "result_list = []\n",
    "\n",
    "for f in files:\n",
    "    # Import .xls and convert to pandas dataframe\n",
    "    book = xlrd.open_workbook(os.path.join(output_folder, f'{f}.xls'))\n",
    "    result = pd.read_excel(book, header=None, index_col=0)\n",
    "\n",
    "    # Find mean from the replication\n",
    "    # Save as dataframe, dropping the duplicate rows (NCD occ twice)\n",
    "    res = pd.DataFrame({\n",
    "        f.replace('arr', '').replace('_serv5', ''): result.mean(axis=1)\n",
    "    }).drop_duplicates()\n",
    "\n",
    "    # Remove index name\n",
    "    res.index.name = None\n",
    "\n",
    "    # Save to list\n",
    "    result_list.append(res)\n",
    "\n",
    "# Combine into single dataframe\n",
    "summary = pd.concat(result_list, axis=1)"
   ]
  },
  {
   "cell_type": "markdown",
   "metadata": {},
   "source": [
    "Produce figure"
   ]
  },
  {
   "cell_type": "code",
   "execution_count": 20,
   "metadata": {},
   "outputs": [
    {
     "data": {
      "image/png": "[encoded data removed]",
      "text/plain": [
       "<Figure size 640x480 with 1 Axes>"
      ]
     },
     "metadata": {},
     "output_type": "display_data"
    }
   ],
   "source": [
    "summary.loc['OPD Q wt'].plot.bar(edgecolor='black', color='white', hatch='.')\n",
    "plt.xlabel('Number of patients/day')\n",
    "plt.ylabel('''OPD average waiting time (minutes)''')\n",
    "plt.xticks(rotation=0)\n",
    "plt.ylim(0, 8)\n",
    "plt.savefig(fig2c_path, bbox_inches='tight')\n",
    "plt.show()"
   ]
  }
 ],
 "metadata": {
  "kernelspec": {
   "display_name": "shoaib2022",
   "language": "python",
   "name": "python3"
  },
  "language_info": {
   "codemirror_mode": {
    "name": "ipython",
    "version": 3
   },
   "file_extension": ".py",
   "mimetype": "text/x-python",
   "name": "python",
   "nbconvert_exporter": "python",
   "pygments_lexer": "ipython3",
   "version": "3.9.19"
  }
 },
 "nbformat": 4,
 "nbformat_minor": 2
}
