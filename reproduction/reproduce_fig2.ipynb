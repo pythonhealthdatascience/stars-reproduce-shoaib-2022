{
 "cells": [
  {
   "cell_type": "markdown",
   "metadata": {},
   "source": [
    "# Reproducing Figure 2A-D\n",
    "\n",
    "Figure 2 presents results from sensitivity analysis of configuration 1.\n",
    "\n",
    "## Parameters\n",
    "\n",
    "In these figures, we vary:\n",
    "\n",
    "* **Number of outpatients per day**:\n",
    "    * 170 (same as config 4)\n",
    "    * 85\n",
    "    * 65\n",
    "* **Average service time for outpatients** - mean (SD):\n",
    "    * 0.87 (0.21) (same as config 1)\n",
    "    * 2.5 (0.5)\n",
    "    * 5 (1)\n",
    "\n",
    "To calculate inter-arrival times from those numbers per day, based on article description and the provided patient counts and equivalent IAT, understand the method for calculation to be **round(60/(n/8.5))**,  where n is the number of arrivals per day. As such..."
   ]
  },
  {
   "cell_type": "code",
   "execution_count": 1,
   "metadata": {},
   "outputs": [
    {
     "name": "stdout",
     "output_type": "stream",
     "text": [
      "For 170 outpatients, use IAT (rounded to nearest int): 3.0\n",
      "For 85 outpatients, use IAT (rounded to nearest int): 6.0\n",
      "For 65 outpatients, use IAT (rounded to nearest int): 7.846153846153846\n"
     ]
    }
   ],
   "source": [
    "# Calculation of inter-arrival times\n",
    "print(f'For 170 outpatients, use IAT (rounded to nearest int): {60/(170/8.5)}')\n",
    "print(f'For 85 outpatients, use IAT (rounded to nearest int): {60/(85/8.5)}')\n",
    "print(f'For 65 outpatients, use IAT (rounded to nearest int): {60/(65/8.5)}')"
   ]
  },
  {
   "cell_type": "markdown",
   "metadata": {},
   "source": [
    "## Set up"
   ]
  },
  {
   "cell_type": "code",
   "execution_count": 2,
   "metadata": {},
   "outputs": [
    {
     "data": {
      "text/plain": [
       "'\\n# Additional package to record runtime of this notebook\\nimport time\\nstart = time.time()\\n'"
      ]
     },
     "execution_count": 2,
     "metadata": {},
     "output_type": "execute_result"
    }
   ],
   "source": [
    "# To run model\n",
    "import PHC\n",
    "\n",
    "# To import results and produce figures\n",
    "import xlrd\n",
    "import pandas as pd\n",
    "import os\n",
    "import matplotlib.pyplot as plt\n",
    "\n",
    "# To speed up run time\n",
    "from multiprocessing import Pool\n",
    "\n",
    "'''\n",
    "# Additional package to record runtime of this notebook\n",
    "import time\n",
    "start = time.time()\n",
    "'''"
   ]
  },
  {
   "cell_type": "code",
   "execution_count": 3,
   "metadata": {},
   "outputs": [],
   "source": [
    "# Paths to save image files to\n",
    "output_folder = 'outputs'\n",
    "fig2a_path = os.path.join(output_folder, 'fig2a.png')\n",
    "fig2b_path = os.path.join(output_folder, 'fig2b.png')\n",
    "fig2c_path = os.path.join(output_folder, 'fig2c.png')\n",
    "fig2d_path = os.path.join(output_folder, 'fig2d.png')"
   ]
  },
  {
   "cell_type": "markdown",
   "metadata": {},
   "source": [
    "## Run model\n",
    "\n",
    "As this is a variation on configuration 1 (which is the default parameters in PHC.py), we just need to input the varying number of outpatients and service time."
   ]
  },
  {
   "cell_type": "code",
   "execution_count": 4,
   "metadata": {},
   "outputs": [],
   "source": [
    "# TODO: Run with 100 replications\n",
    "\n",
    "# Varying number of outpatients\n",
    "arr_dict = [\n",
    "    {\n",
    "        'OPD_iat': 3,\n",
    "        'rep_file': 'arr170'\n",
    "    },\n",
    "    {\n",
    "        'OPD_iat': 6,\n",
    "        'rep_file': 'arr85',\n",
    "    },\n",
    "    {\n",
    "        'OPD_iat': 8,\n",
    "        'rep_file': 'arr65',\n",
    "    }\n",
    "]\n",
    "\n",
    "# Varying service time\n",
    "serv_dict = [\n",
    "    {\n",
    "        'mean': 0.87,\n",
    "        'sd': 0.21,\n",
    "        'consult_boundary_1': 0.5,  # From PHC.py\n",
    "        'consult_boundary_2': 0.3,  # From PHC.py\n",
    "        'rep_file': 'serv087'\n",
    "    },\n",
    "    {\n",
    "        'mean': 2.5,\n",
    "        'sd': 0.5,\n",
    "        'consult_boundary_1': 1,  # Guess\n",
    "        'consult_boundary_2': 1,  # Guess\n",
    "        'rep_file': 'serv25'\n",
    "    },\n",
    "    {\n",
    "        'mean': 5,\n",
    "        'sd': 1,\n",
    "        'consult_boundary_1': 2,  # From config 4\n",
    "        'consult_boundary_2': 2,  # From config 4\n",
    "        'rep_file': 'serv5'\n",
    "    }\n",
    "]"
   ]
  },
  {
   "cell_type": "markdown",
   "metadata": {},
   "source": [
    "Create each combination for the reproduction"
   ]
  },
  {
   "cell_type": "code",
   "execution_count": 5,
   "metadata": {},
   "outputs": [
    {
     "data": {
      "text/plain": [
       "9"
      ]
     },
     "execution_count": 5,
     "metadata": {},
     "output_type": "execute_result"
    }
   ],
   "source": [
    "dict_list = []\n",
    "for arr in arr_dict:\n",
    "    for serv in serv_dict:\n",
    "        # Combine the dictionaries\n",
    "        comb = {**arr, **serv}\n",
    "        # Replace the file name\n",
    "        comb['rep_file'] = f'''f2_{arr['rep_file']}_{serv['rep_file']}.xls'''\n",
    "        # Save to list\n",
    "        dict_list.append(comb)\n",
    "\n",
    "len(dict_list)"
   ]
  },
  {
   "cell_type": "code",
   "execution_count": 6,
   "metadata": {},
   "outputs": [
    {
     "data": {
      "text/plain": [
       "{'s_OPD_iat': 3,\n",
       " 's_rep_file': 'f2_arr170_serv087.xls',\n",
       " 's_mean': 0.87,\n",
       " 's_sd': 0.21,\n",
       " 's_consult_boundary_1': 0.5,\n",
       " 's_consult_boundary_2': 0.3}"
      ]
     },
     "execution_count": 6,
     "metadata": {},
     "output_type": "execute_result"
    }
   ],
   "source": [
    "# Append 's_' to all items\n",
    "for i, d in enumerate(dict_list):\n",
    "    dict_list[i] = {f's_{k}': v for k, v in d.items()}\n",
    "\n",
    "# Preview example\n",
    "dict_list[0]"
   ]
  },
  {
   "cell_type": "markdown",
   "metadata": {},
   "source": [
    "Run the model (with parallel processing to reduce run time)"
   ]
  },
  {
   "cell_type": "code",
   "execution_count": 7,
   "metadata": {},
   "outputs": [
    {
     "data": {
      "text/plain": [
       "'\\n# Wrapper function to allow input of dictionary with pool\\ndef wrapper(d):\\n    return PHC.main(**d)\\n\\n# Create a process pool that uses all CPUs\\nwith Pool() as pool:\\n    # Run PHC.main() using each of inputs from config\\n    pool.map(wrapper, dict_list)\\n'"
      ]
     },
     "execution_count": 7,
     "metadata": {},
     "output_type": "execute_result"
    }
   ],
   "source": [
    "'''\n",
    "# Wrapper function to allow input of dictionary with pool\n",
    "def wrapper(d):\n",
    "    return PHC.main(**d)\n",
    "\n",
    "# Create a process pool that uses all CPUs\n",
    "with Pool() as pool:\n",
    "    # Run PHC.main() using each of inputs from config\n",
    "    pool.map(wrapper, dict_list)\n",
    "'''"
   ]
  },
  {
   "cell_type": "markdown",
   "metadata": {},
   "source": [
    "## Create Figure 2B"
   ]
  },
  {
   "cell_type": "markdown",
   "metadata": {},
   "source": [
    "Import and process data"
   ]
  },
  {
   "cell_type": "code",
   "execution_count": 8,
   "metadata": {},
   "outputs": [],
   "source": [
    "# List of files to loop through\n",
    "files = ['f2_arr170_serv087', 'f2_arr85_serv087', 'f2_arr65_serv087']\n",
    "\n",
    "# Empty list to store results\n",
    "result_list = []\n",
    "\n",
    "for f in files:\n",
    "    # Import .xls and convert to pandas dataframe\n",
    "    book = xlrd.open_workbook(os.path.join(output_folder, f'{f}.xls'))\n",
    "    result = pd.read_excel(book, header=None, index_col=0)\n",
    "\n",
    "    # Find mean from the replication\n",
    "    # Save as dataframe, dropping the duplicate rows (NCD occ twice)\n",
    "    res = pd.DataFrame({\n",
    "        f.replace('arr', ''): result.mean(axis=1)\n",
    "    }).drop_duplicates()\n",
    "\n",
    "    # Remove index name\n",
    "    res.index.name = None\n",
    "\n",
    "    # Save to list\n",
    "    result_list.append(res)\n",
    "\n",
    "# Combine into single dataframe\n",
    "summary = pd.concat(result_list, axis=1)"
   ]
  },
  {
   "cell_type": "markdown",
   "metadata": {},
   "source": [
    "Produce figure"
   ]
  },
  {
   "cell_type": "code",
   "execution_count": 9,
   "metadata": {},
   "outputs": [
    {
     "data": {
      "image/png": "[encoded data removed]",
      "text/plain": [
       "<Figure size 640x480 with 1 Axes>"
      ]
     },
     "metadata": {},
     "output_type": "display_data"
    }
   ],
   "source": [
    "ax = summary.loc['NCD occ'].plot.bar(edgecolor='black', color='white', hatch='.')\n",
    "plt.xlabel('Number of patients/day')\n",
    "plt.ylabel('''NCD nurse's utilisation''')\n",
    "plt.ylim(0, 1.4)\n",
    "plt.xticks(rotation=0)\n",
    "ax.grid(axis='y')\n",
    "ax.set_axisbelow(True)\n",
    "plt.savefig(fig2b_path, bbox_inches='tight')\n",
    "plt.show()"
   ]
  },
  {
   "cell_type": "markdown",
   "metadata": {},
   "source": [
    "## Create Figure 2C"
   ]
  },
  {
   "cell_type": "markdown",
   "metadata": {},
   "source": [
    "Import and process data"
   ]
  },
  {
   "cell_type": "code",
   "execution_count": 10,
   "metadata": {},
   "outputs": [],
   "source": [
    "# List of files to loop through\n",
    "files = ['f2_arr170_serv5', 'f2_arr85_serv5', 'f2_arr65_serv5']\n",
    "\n",
    "# Empty list to store results\n",
    "result_list = []\n",
    "\n",
    "for f in files:\n",
    "    # Import .xls and convert to pandas dataframe\n",
    "    book = xlrd.open_workbook(os.path.join(output_folder, f'{f}.xls'))\n",
    "    result = pd.read_excel(book, header=None, index_col=0)\n",
    "\n",
    "    # Find mean from the replication\n",
    "    # Save as dataframe, dropping the duplicate rows (NCD occ twice)\n",
    "    res = pd.DataFrame({\n",
    "        f.replace('arr', '').replace('_serv5', ''): result.mean(axis=1)\n",
    "    }).drop_duplicates()\n",
    "\n",
    "    # Remove index name\n",
    "    res.index.name = None\n",
    "\n",
    "    # Save to list\n",
    "    result_list.append(res)\n",
    "\n",
    "# Combine into single dataframe\n",
    "summary = pd.concat(result_list, axis=1)"
   ]
  },
  {
   "cell_type": "markdown",
   "metadata": {},
   "source": [
    "Produce figure"
   ]
  },
  {
   "cell_type": "code",
   "execution_count": 11,
   "metadata": {},
   "outputs": [
    {
     "data": {
      "image/png": "[encoded data removed]",
      "text/plain": [
       "<Figure size 640x480 with 1 Axes>"
      ]
     },
     "metadata": {},
     "output_type": "display_data"
    }
   ],
   "source": [
    "# Create figure\n",
    "ax = summary.loc['OPD Q wt'].plot.bar(edgecolor='black', color='white', hatch='.')\n",
    "plt.xlabel('Number of patients/day')\n",
    "plt.ylabel('''OPD average waiting time (minutes)''')\n",
    "plt.xticks(rotation=0)\n",
    "plt.ylim(0, 8)\n",
    "ax.grid(axis='y')\n",
    "ax.set_axisbelow(True)\n",
    "plt.savefig(fig2c_path, bbox_inches='tight')\n",
    "plt.show()"
   ]
  },
  {
   "cell_type": "code",
   "execution_count": 12,
   "metadata": {},
   "outputs": [
    {
     "data": {
      "text/plain": [
       "\"\\n# Find run time in seconds\\nend = time.time()\\nruntime = round(end-start)\\n\\n# Display converted to minutes and seconds\\nprint(f'Notebook run time: {runtime//60}m {runtime%60}s')\\n\""
      ]
     },
     "execution_count": 12,
     "metadata": {},
     "output_type": "execute_result"
    }
   ],
   "source": [
    "'''\n",
    "# Find run time in seconds\n",
    "end = time.time()\n",
    "runtime = round(end-start)\n",
    "\n",
    "# Display converted to minutes and seconds\n",
    "print(f'Notebook run time: {runtime//60}m {runtime%60}s')\n",
    "'''"
   ]
  }
 ],
 "metadata": {
  "kernelspec": {
   "display_name": "shoaib2022",
   "language": "python",
   "name": "python3"
  },
  "language_info": {
   "codemirror_mode": {
    "name": "ipython",
    "version": 3
   },
   "file_extension": ".py",
   "mimetype": "text/x-python",
   "name": "python",
   "nbconvert_exporter": "python",
   "pygments_lexer": "ipython3",
   "version": "3.9.19"
  }
 },
 "nbformat": 4,
 "nbformat_minor": 2
}
