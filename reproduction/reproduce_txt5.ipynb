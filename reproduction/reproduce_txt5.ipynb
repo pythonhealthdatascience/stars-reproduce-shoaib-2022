{
 "cells": [
  {
   "cell_type": "markdown",
   "metadata": {},
   "source": [
    "# Reproducing in-text result 5\n",
    "\n",
    "This result appears to build on configuration 1 but with:\n",
    "\n",
    "* High demand conditions (2 inpatient and childbirth cases per day - as in Figure 3A-D with (2/2/2))\n",
    "* Varying the number of inpatient beds (6 to 4)"
   ]
  },
  {
   "cell_type": "markdown",
   "metadata": {},
   "source": [
    "## Set up"
   ]
  },
  {
   "cell_type": "code",
   "execution_count": 1,
   "metadata": {},
   "outputs": [
    {
     "data": {
      "text/plain": [
       "'\\n# Additional package to record runtime of this notebook\\nimport time\\nstart = time.time()\\n'"
      ]
     },
     "execution_count": 1,
     "metadata": {},
     "output_type": "execute_result"
    }
   ],
   "source": [
    "# To run model\n",
    "import PHC\n",
    "\n",
    "# To import results and produce figures\n",
    "from reproduction_helpers import process_results\n",
    "import pandas as pd\n",
    "import os\n",
    "import matplotlib.pyplot as plt\n",
    "import numpy as np\n",
    "\n",
    "# To speed up run time\n",
    "from multiprocessing import Pool\n",
    "\n",
    "'''\n",
    "# Additional package to record runtime of this notebook\n",
    "import time\n",
    "start = time.time()\n",
    "'''"
   ]
  },
  {
   "cell_type": "code",
   "execution_count": 2,
   "metadata": {},
   "outputs": [],
   "source": [
    "# Paths to save image files to\n",
    "output_folder = 'outputs'\n",
    "save_path = os.path.join(output_folder, 'intext5.csv')"
   ]
  },
  {
   "cell_type": "markdown",
   "metadata": {},
   "source": [
    "## Run model"
   ]
  },
  {
   "cell_type": "code",
   "execution_count": 3,
   "metadata": {},
   "outputs": [],
   "source": [
    "# Define model variants\n",
    "dict_list = [\n",
    "    {\n",
    "        'inpatient_bed_n': 6,\n",
    "        'IPD_iat': 720,\n",
    "        'delivery_iat': 720,\n",
    "        'ANC_iat': 720,\n",
    "        'rep_file': 'in5_6bed.xls'\n",
    "    },\n",
    "    {\n",
    "        'inpatient_bed_n': 4,\n",
    "        'IPD_iat': 720,\n",
    "        'delivery_iat': 720,\n",
    "        'ANC_iat': 720,\n",
    "        'rep_file': 'in5_4bed.xls'\n",
    "    },\n",
    "]"
   ]
  },
  {
   "cell_type": "code",
   "execution_count": 4,
   "metadata": {},
   "outputs": [],
   "source": [
    "# Append 's_' to all items\n",
    "for i, d in enumerate(dict_list):\n",
    "    dict_list[i] = {f's_{k}': v for k, v in d.items()}"
   ]
  },
  {
   "cell_type": "code",
   "execution_count": 5,
   "metadata": {},
   "outputs": [
    {
     "name": "stdout",
     "output_type": "stream",
     "text": [
      " No of replications done 0\n",
      " No of replications done 0\n",
      " No of replications done 1\n",
      " No of replications done 1\n",
      " No of replications done 2\n",
      " No of replications done 2\n",
      " No of replications done 3\n",
      " No of replications done 3\n",
      " No of replications done 4\n",
      " No of replications done 4\n",
      " No of replications done 5\n",
      " No of replications done 5\n",
      " No of replications done 6\n",
      " No of replications done 6\n",
      " No of replications done 7\n",
      " No of replications done 7\n",
      " No of replications done 8\n",
      " No of replications done 8\n",
      " No of replications done 9\n",
      " No of replications done 9\n"
     ]
    }
   ],
   "source": [
    "# Wrapper function to allow input of dictionary with pool\n",
    "def wrapper(d):\n",
    "    return PHC.main(**d)\n",
    "\n",
    "# Create a process pool that uses all CPUs\n",
    "with Pool() as pool:\n",
    "    # Run PHC.main() using each of inputs from config\n",
    "    pool.map(wrapper, dict_list)"
   ]
  },
  {
   "cell_type": "markdown",
   "metadata": {},
   "source": [
    "## Process results"
   ]
  },
  {
   "cell_type": "code",
   "execution_count": 8,
   "metadata": {},
   "outputs": [
    {
     "data": {
      "text/html": [
       "<div>\n",
       "<style scoped>\n",
       "    .dataframe tbody tr th:only-of-type {\n",
       "        vertical-align: middle;\n",
       "    }\n",
       "\n",
       "    .dataframe tbody tr th {\n",
       "        vertical-align: top;\n",
       "    }\n",
       "\n",
       "    .dataframe thead th {\n",
       "        text-align: right;\n",
       "    }\n",
       "</style>\n",
       "<table border=\"1\" class=\"dataframe\">\n",
       "  <thead>\n",
       "    <tr style=\"text-align: right;\">\n",
       "      <th></th>\n",
       "      <th>in5_6bed</th>\n",
       "      <th>in5_4bed</th>\n",
       "    </tr>\n",
       "  </thead>\n",
       "  <tbody>\n",
       "    <tr>\n",
       "      <th>OPD patients</th>\n",
       "      <td>33103.800000</td>\n",
       "      <td>33065.600000</td>\n",
       "    </tr>\n",
       "    <tr>\n",
       "      <th>IPD patients</th>\n",
       "      <td>726.400000</td>\n",
       "      <td>740.400000</td>\n",
       "    </tr>\n",
       "    <tr>\n",
       "      <th>ANC patients</th>\n",
       "      <td>608.300000</td>\n",
       "      <td>606.400000</td>\n",
       "    </tr>\n",
       "    <tr>\n",
       "      <th>Del patients</th>\n",
       "      <td>731.800000</td>\n",
       "      <td>727.400000</td>\n",
       "    </tr>\n",
       "    <tr>\n",
       "      <th>OPD Q wt</th>\n",
       "      <td>0.021331</td>\n",
       "      <td>0.024832</td>\n",
       "    </tr>\n",
       "    <tr>\n",
       "      <th>Pharmacy Q wt</th>\n",
       "      <td>1.026099</td>\n",
       "      <td>1.030518</td>\n",
       "    </tr>\n",
       "    <tr>\n",
       "      <th>Lab Q wt</th>\n",
       "      <td>2.052675</td>\n",
       "      <td>2.090808</td>\n",
       "    </tr>\n",
       "    <tr>\n",
       "      <th>doc occ</th>\n",
       "      <td>0.288934</td>\n",
       "      <td>0.287949</td>\n",
       "    </tr>\n",
       "    <tr>\n",
       "      <th>Lab patient list</th>\n",
       "      <td>189399.000000</td>\n",
       "      <td>189266.100000</td>\n",
       "    </tr>\n",
       "    <tr>\n",
       "      <th>OPD q len</th>\n",
       "      <td>0.018496</td>\n",
       "      <td>0.021539</td>\n",
       "    </tr>\n",
       "    <tr>\n",
       "      <th>ipd occ</th>\n",
       "      <td>0.198000</td>\n",
       "      <td>0.295000</td>\n",
       "    </tr>\n",
       "    <tr>\n",
       "      <th>opd q len</th>\n",
       "      <td>0.001887</td>\n",
       "      <td>0.002197</td>\n",
       "    </tr>\n",
       "    <tr>\n",
       "      <th>pharmacy q len</th>\n",
       "      <td>0.090196</td>\n",
       "      <td>0.090532</td>\n",
       "    </tr>\n",
       "    <tr>\n",
       "      <th>lab q len</th>\n",
       "      <td>0.095263</td>\n",
       "      <td>0.097073</td>\n",
       "    </tr>\n",
       "    <tr>\n",
       "      <th>NCD occ</th>\n",
       "      <td>0.864274</td>\n",
       "      <td>0.862607</td>\n",
       "    </tr>\n",
       "    <tr>\n",
       "      <th>lab occ</th>\n",
       "      <td>0.574714</td>\n",
       "      <td>0.573885</td>\n",
       "    </tr>\n",
       "    <tr>\n",
       "      <th>pharm occ</th>\n",
       "      <td>0.642410</td>\n",
       "      <td>0.642627</td>\n",
       "    </tr>\n",
       "    <tr>\n",
       "      <th>staff nurse occ</th>\n",
       "      <td>0.533476</td>\n",
       "      <td>0.532316</td>\n",
       "    </tr>\n",
       "    <tr>\n",
       "      <th>del occ</th>\n",
       "      <td>0.484000</td>\n",
       "      <td>0.479000</td>\n",
       "    </tr>\n",
       "    <tr>\n",
       "      <th>del referred</th>\n",
       "      <td>201.600000</td>\n",
       "      <td>205.500000</td>\n",
       "    </tr>\n",
       "    <tr>\n",
       "      <th>ipd bed occ</th>\n",
       "      <td>1.122112</td>\n",
       "      <td>1.115264</td>\n",
       "    </tr>\n",
       "    <tr>\n",
       "      <th>prop_del_referred</th>\n",
       "      <td>0.275046</td>\n",
       "      <td>0.282149</td>\n",
       "    </tr>\n",
       "  </tbody>\n",
       "</table>\n",
       "</div>"
      ],
      "text/plain": [
       "                        in5_6bed       in5_4bed\n",
       "OPD patients        33103.800000   33065.600000\n",
       "IPD patients          726.400000     740.400000\n",
       "ANC patients          608.300000     606.400000\n",
       "Del patients          731.800000     727.400000\n",
       "OPD Q wt                0.021331       0.024832\n",
       "Pharmacy Q wt           1.026099       1.030518\n",
       "Lab Q wt                2.052675       2.090808\n",
       "doc occ                 0.288934       0.287949\n",
       "Lab patient list   189399.000000  189266.100000\n",
       "OPD q len               0.018496       0.021539\n",
       "ipd occ                 0.198000       0.295000\n",
       "opd q len               0.001887       0.002197\n",
       "pharmacy q len          0.090196       0.090532\n",
       "lab q len               0.095263       0.097073\n",
       "NCD occ                 0.864274       0.862607\n",
       "lab occ                 0.574714       0.573885\n",
       "pharm occ               0.642410       0.642627\n",
       "staff nurse occ         0.533476       0.532316\n",
       "del occ                 0.484000       0.479000\n",
       "del referred          201.600000     205.500000\n",
       "ipd bed occ             1.122112       1.115264\n",
       "prop_del_referred       0.275046       0.282149"
      ]
     },
     "execution_count": 8,
     "metadata": {},
     "output_type": "execute_result"
    }
   ],
   "source": [
    "data"
   ]
  },
  {
   "cell_type": "code",
   "execution_count": 7,
   "metadata": {},
   "outputs": [
    {
     "data": {
      "text/html": [
       "<div>\n",
       "<style scoped>\n",
       "    .dataframe tbody tr th:only-of-type {\n",
       "        vertical-align: middle;\n",
       "    }\n",
       "\n",
       "    .dataframe tbody tr th {\n",
       "        vertical-align: top;\n",
       "    }\n",
       "\n",
       "    .dataframe thead th {\n",
       "        text-align: right;\n",
       "    }\n",
       "</style>\n",
       "<table border=\"1\" class=\"dataframe\">\n",
       "  <thead>\n",
       "    <tr style=\"text-align: right;\">\n",
       "      <th></th>\n",
       "      <th>in5_6bed</th>\n",
       "      <th>in5_4bed</th>\n",
       "    </tr>\n",
       "  </thead>\n",
       "  <tbody>\n",
       "    <tr>\n",
       "      <th>ipd bed occ</th>\n",
       "      <td>1.122112</td>\n",
       "      <td>1.115264</td>\n",
       "    </tr>\n",
       "    <tr>\n",
       "      <th>ipd occ</th>\n",
       "      <td>0.198000</td>\n",
       "      <td>0.295000</td>\n",
       "    </tr>\n",
       "  </tbody>\n",
       "</table>\n",
       "</div>"
      ],
      "text/plain": [
       "             in5_6bed  in5_4bed\n",
       "ipd bed occ  1.122112  1.115264\n",
       "ipd occ      0.198000  0.295000"
      ]
     },
     "execution_count": 7,
     "metadata": {},
     "output_type": "execute_result"
    }
   ],
   "source": [
    "data = process_results([i['s_rep_file'] for i in dict_list], xls=True)\n",
    "result = data.loc[['ipd bed occ', 'ipd occ']]\n",
    "result.to_csv(save_path, index=True)\n",
    "result"
   ]
  }
 ],
 "metadata": {
  "kernelspec": {
   "display_name": "shoaib2022",
   "language": "python",
   "name": "python3"
  },
  "language_info": {
   "codemirror_mode": {
    "name": "ipython",
    "version": 3
   },
   "file_extension": ".py",
   "mimetype": "text/x-python",
   "name": "python",
   "nbconvert_exporter": "python",
   "pygments_lexer": "ipython3",
   "version": "3.9.19"
  }
 },
 "nbformat": 4,
 "nbformat_minor": 2
}
