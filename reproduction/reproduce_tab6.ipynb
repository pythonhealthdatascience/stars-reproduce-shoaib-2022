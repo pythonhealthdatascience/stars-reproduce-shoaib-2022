{
 "cells": [
  {
   "cell_type": "markdown",
   "metadata": {},
   "source": [
    "# Reproducing table 6\n",
    "\n",
    "This notebook currently imports results from a run of PHC.py and attempts to map them to Table 6.\n",
    "\n",
    "Table 6 results are from Shoaib M, Ramamohan V. **Simulation modeling and analysis of primary health center operations**. *SIMULATION* 98(3):183-208. (2022). <https://doi.org/10.1177/00375497211030931>."
   ]
  },
  {
   "cell_type": "markdown",
   "metadata": {},
   "source": [
    "## Set up"
   ]
  },
  {
   "cell_type": "code",
   "execution_count": null,
   "metadata": {},
   "outputs": [],
   "source": [
    "# To run model\n",
    "import PHC\n",
    "import numpy as np\n",
    "\n",
    "# To import and process results\n",
    "import pandas as pd\n",
    "import xlrd\n",
    "import os\n",
    "\n",
    "# Additional package to record runtime of this notebook\n",
    "import time\n",
    "start = time.time()"
   ]
  },
  {
   "cell_type": "code",
   "execution_count": null,
   "metadata": {},
   "outputs": [],
   "source": [
    "table6_path = '../original_study/tab6.csv'"
   ]
  },
  {
   "cell_type": "markdown",
   "metadata": {},
   "source": [
    "## Run model\n",
    "\n",
    "Set parameters for each configuration based on Table 3."
   ]
  },
  {
   "cell_type": "code",
   "execution_count": null,
   "metadata": {},
   "outputs": [],
   "source": [
    "# For all: days 365, warm up 180, 6 inpatient beds, 1 delivery\n",
    "# bed, 3 staff nurse, 1 NCD nurse. These are default parameters in the model,\n",
    "# and below, have just specified the parameters that changed between\n",
    "# configurations\n",
    "\n",
    "t6_c1_param = {\n",
    "    'doc_cap': 2,\n",
    "    'OPD_iat': 4,\n",
    "    'IPD_iat': 2880,\n",
    "    'delivery_iat': 1440,\n",
    "    'ANC_iat': 1440,\n",
    "    'rep_file': 't6_c1.xls',\n",
    "    'replication': 100\n",
    "}\n",
    "\n",
    "t6_c2_param = {\n",
    "    'doc_cap': 1,\n",
    "    'OPD_iat': 9,\n",
    "    'IPD_iat': 2880,\n",
    "    'delivery_iat': 2880,\n",
    "    'ANC_iat': 2880,\n",
    "    'rep_file': 't6_c2.xls',\n",
    "    'replication': 100\n",
    "}\n",
    "\n",
    "t6_c3_param = {\n",
    "    'doc_cap': 1,\n",
    "    'OPD_iat': 9,\n",
    "    'IPD_iat': 2880,\n",
    "    'any_delivery': False,\n",
    "    'any_ANC': False,\n",
    "    'rep_file': 't6_c3.xls',\n",
    "    'replication': 100\n",
    "}\n",
    "\n",
    "t6_c4_param = {\n",
    "    'doc_cap': 2,\n",
    "    'OPD_iat': 3,\n",
    "    'mean': 5,\n",
    "    'sd': 1,\n",
    "    'consult_boundary_1': 2,\n",
    "    'consult_boundary_2': 2,\n",
    "    'IPD_iat': 2880,\n",
    "    'delivery_iat': 1440,\n",
    "    'ANC_iat': 1440,\n",
    "    'rep_file': 't6_c4.xls',\n",
    "    'replication': 100\n",
    "}"
   ]
  },
  {
   "cell_type": "markdown",
   "metadata": {},
   "source": [
    "Run model for each configuration."
   ]
  },
  {
   "cell_type": "code",
   "execution_count": null,
   "metadata": {},
   "outputs": [],
   "source": [
    "# Input configuration parameters to main() (have to append with 's_', and\n",
    "# add ** as inputting dict as parameters)\n",
    "for config in [t6_c1_param, t6_c2_param, t6_c3_param, t6_c4_param]:\n",
    "    print(f'''Running: {config['rep_file']}''')\n",
    "    PHC.main(**{f's_{k}': v for k, v in config.items()})"
   ]
  },
  {
   "cell_type": "markdown",
   "metadata": {},
   "source": [
    "## Import and process replication results"
   ]
  },
  {
   "cell_type": "code",
   "execution_count": null,
   "metadata": {},
   "outputs": [],
   "source": [
    "# Make dictionary with labels from table 6, and corresponding names from model output\n",
    "t6_labels = {\n",
    "  'doc occ': 'Doctor utilisation',\n",
    "  'NCD occ': 'NCD Nurse utilisation',\n",
    "  'staff nurse occ': 'Staff nurse utilisation',\n",
    "  'pharm occ': 'Pharmacist utilisation',\n",
    "  'lab occ': 'Lab utilisation',\n",
    "  'ipd bed occ': 'Inpatient bed utilisation',\n",
    "  'del occ': 'Labour bed utilisation',  # \"Del\" stands for delivery\n",
    "  'opd q len': 'Mean length of OPD queue (number of patients)',\n",
    "  'OPD Q wt': 'OPD queue waiting time (minutes)',\n",
    "  'pharmacy q len': 'Mean length of pharmacy queue (number of patients)',\n",
    "  'Pharmacy Q wt': 'Pharmacy queue waiting time (minutes)',\n",
    "  'lab q len': 'Mean length of Lab queue (number of patients)',\n",
    "  'Lab Q wt': 'Lab queue waiting time (minutes)',\n",
    "  'prop_del_referred': 'Fraction of childbirth cases referred'\n",
    "}"
   ]
  },
  {
   "cell_type": "code",
   "execution_count": null,
   "metadata": {},
   "outputs": [],
   "source": [
    "# List of files to loop through\n",
    "files = ['t6_c1', 't6_c2', 't6_c3', 't6_c4']\n",
    "\n",
    "# Empty list to store results\n",
    "result_list = []\n",
    "\n",
    "for f in files:\n",
    "    # Import .xls and convert to pandas dataframe\n",
    "    book = xlrd.open_workbook(os.path.join('outputs', f'{f}.xls'))\n",
    "    result = pd.read_excel(book, header=None, index_col=0)\n",
    "\n",
    "    # Add proportion of childbirth cases referred\n",
    "    result.loc['prop_del_referred'] = (\n",
    "        result.loc['del referred'] / result.loc['Del patients'])\n",
    "\n",
    "    # Find mean and standard deviation from the replication\n",
    "    # Save as dataframe, dropping the duplicate rows (NCD occ twice)\n",
    "    res = pd.DataFrame({\n",
    "        f'model_{f}_mean': result.mean(axis=1),\n",
    "        f'model_{f}_sd': result.std(axis=1)\n",
    "    }).drop_duplicates()\n",
    "\n",
    "    # Save to list\n",
    "    result_list.append(res)"
   ]
  },
  {
   "cell_type": "code",
   "execution_count": null,
   "metadata": {},
   "outputs": [],
   "source": [
    "# Combine into single dataframe\n",
    "summary = (pd.concat(result_list, axis=1)\n",
    "           .reset_index()\n",
    "           .rename(columns= {0: 'model_outcome'}))\n",
    "\n",
    "# Add labels to model results\n",
    "summary['t6_outcome'] = summary['model_outcome'].map(t6_labels)\n",
    "\n",
    "summary"
   ]
  },
  {
   "cell_type": "markdown",
   "metadata": {},
   "source": [
    "## Import table 6 results and compare against run results"
   ]
  },
  {
   "cell_type": "code",
   "execution_count": null,
   "metadata": {},
   "outputs": [],
   "source": [
    "# Import table 6\n",
    "t6 = pd.read_csv(table6_path).rename(columns={'outcome': 't6_outcome'})\n",
    "t6"
   ]
  },
  {
   "cell_type": "code",
   "execution_count": null,
   "metadata": {},
   "outputs": [],
   "source": [
    "# Merge\n",
    "compare = t6.merge(summary)\n",
    "compare.head()"
   ]
  },
  {
   "cell_type": "code",
   "execution_count": null,
   "metadata": {},
   "outputs": [],
   "source": [
    "compare_col = [\n",
    "    ('config1_mean', 'model_t6_c1_mean'),\n",
    "    ('config1_sd', 'model_t6_c1_sd'),\n",
    "    ('config2_mean', 'model_t6_c2_mean'),\n",
    "    ('config2_sd', 'model_t6_c2_sd'),\n",
    "    ('config3_mean', 'model_t6_c3_mean'),\n",
    "    ('config3_sd', 'model_t6_c3_sd'),\n",
    "    ('benchmark_mean', 'model_t6_c4_mean'),\n",
    "    ('benchmark_sd', 'model_t6_c4_sd'),]\n",
    "\n",
    "for col in compare_col:\n",
    "    # Find difference between two columns\n",
    "    compare[f'change_{col[1]}'] = abs(compare[col[1]] - compare[col[0]])\n",
    "    # Find percent change between two columns\n",
    "    subset = compare[list(col)]\n",
    "    pct_change = subset.pct_change(axis=1).iloc[:, 1]*100\n",
    "    compare[f'pct_change_{col[1]}'] = pct_change\n",
    "\n",
    "# Display each of the results\n",
    "for col in compare_col:\n",
    "    # Set outcome as index, and get the two results plus percent change\n",
    "    subset = compare.set_index('t6_outcome')[\n",
    "        list(col) + [f'change_{col[1]}', f'pct_change_{col[1]}']]\n",
    "    display(subset)"
   ]
  },
  {
   "cell_type": "markdown",
   "metadata": {},
   "source": [
    "## Format model results like table 6, and save"
   ]
  },
  {
   "cell_type": "code",
   "execution_count": null,
   "metadata": {},
   "outputs": [],
   "source": [
    "compare_col = [\n",
    "    ['Configuration 1', 'model_t6_c1_mean', 'model_t6_c1_sd'],\n",
    "    ['Configuration 2', 'model_t6_c2_mean', 'model_t6_c2_sd'],\n",
    "    ['Configuration 3', 'model_t6_c3_mean', 'model_t6_c3_sd'],\n",
    "    ['Benchmark Case', 'model_t6_c4_mean', 'model_t6_c4_sd']]\n",
    "\n",
    "# Combine each pair of columns into string as in Table 6\n",
    "for col in compare_col:\n",
    "    compare[col[0]] = (\n",
    "        round(compare[col[1]], 3).astype(str) + ' (' +\n",
    "        round(compare[col[2]], 3).astype(str) + ')')\n",
    "\n",
    "# Set outcome name as index, and select those columns\n",
    "formatted_model_res = (compare\n",
    "                       .set_index('t6_outcome')\n",
    "                       .rename_axis('Simulation Outcome')[\n",
    "                           [item[0] for item in compare_col]])\n",
    "formatted_model_res"
   ]
  },
  {
   "cell_type": "code",
   "execution_count": null,
   "metadata": {},
   "outputs": [],
   "source": [
    "# Find run time in seconds\n",
    "end = time.time()\n",
    "runtime = round(end-start)\n",
    "\n",
    "# Display converted to minutes and seconds\n",
    "print(f'Notebook run time: {runtime//60}m {runtime%60}s')"
   ]
  }
 ],
 "metadata": {
  "kernelspec": {
   "display_name": "Python 3",
   "language": "python",
   "name": "python3"
  },
  "language_info": {
   "codemirror_mode": {
    "name": "ipython",
    "version": 3
   },
   "file_extension": ".py",
   "mimetype": "text/x-python",
   "name": "python",
   "nbconvert_exporter": "python",
   "pygments_lexer": "ipython3",
   "version": "3.9.19"
  }
 },
 "nbformat": 4,
 "nbformat_minor": 2
}
