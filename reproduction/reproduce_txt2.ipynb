{
 "cells": [
  {
   "cell_type": "markdown",
   "metadata": {},
   "source": [
    "# Reproducing in-text result 2\n",
    "\n",
    "This result starts with the doctor utilisation from Figure 2A which is over 100% when patient load is 170 (IAT 3) and appointment times are 5 minutes (mean 5, SD 1, boundary 2).\n",
    "\n",
    "The variant introduced is to give all administrative work to the staff nurse."
   ]
  },
  {
   "cell_type": "markdown",
   "metadata": {},
   "source": [
    "## Set up"
   ]
  },
  {
   "cell_type": "code",
   "execution_count": 1,
   "metadata": {},
   "outputs": [],
   "source": [
    "# To run model\n",
    "import PHC\n",
    "from reproduction_helpers import process_results\n",
    "\n",
    "# To import results and produce figures\n",
    "import xlrd\n",
    "import pandas as pd\n",
    "import os\n",
    "import matplotlib.pyplot as plt\n",
    "import numpy as np\n",
    "\n",
    "# To speed up run time\n",
    "from multiprocessing import Pool"
   ]
  },
  {
   "cell_type": "code",
   "execution_count": 2,
   "metadata": {},
   "outputs": [],
   "source": [
    "# Paths to save image files to\n",
    "output_folder = 'outputs'\n",
    "save_path = os.path.join(output_folder, 'intext2.csv')"
   ]
  },
  {
   "cell_type": "markdown",
   "metadata": {},
   "source": [
    "## Run model"
   ]
  },
  {
   "cell_type": "code",
   "execution_count": 3,
   "metadata": {},
   "outputs": [],
   "source": [
    "# Parameters used in both models\n",
    "base_model = {\n",
    "    'OPD_iat': 3,\n",
    "    'rep_file': 'arr170',\n",
    "    'mean': 5,\n",
    "    'sd': 1,\n",
    "    'consult_boundary_1': 2,\n",
    "    'consult_boundary_2': 2\n",
    "}\n",
    "\n",
    "# Model variants\n",
    "variants = [\n",
    "    {\n",
    "        'admin_to_staff_nurse': False,\n",
    "        'rep_file': 'in2_admin_doctor.xls'\n",
    "    },\n",
    "    {\n",
    "        'admin_to_staff_nurse': True,\n",
    "        'rep_file': 'in2_admin_nurse.xls'\n",
    "    },\n",
    "]"
   ]
  },
  {
   "cell_type": "code",
   "execution_count": 4,
   "metadata": {},
   "outputs": [
    {
     "data": {
      "text/plain": [
       "[{'s_OPD_iat': 3,\n",
       "  's_rep_file': 'in2_admin_doctor.xls',\n",
       "  's_mean': 5,\n",
       "  's_sd': 1,\n",
       "  's_consult_boundary_1': 2,\n",
       "  's_consult_boundary_2': 2,\n",
       "  's_admin_to_staff_nurse': False},\n",
       " {'s_OPD_iat': 3,\n",
       "  's_rep_file': 'in2_admin_nurse.xls',\n",
       "  's_mean': 5,\n",
       "  's_sd': 1,\n",
       "  's_consult_boundary_1': 2,\n",
       "  's_consult_boundary_2': 2,\n",
       "  's_admin_to_staff_nurse': True}]"
      ]
     },
     "execution_count": 4,
     "metadata": {},
     "output_type": "execute_result"
    }
   ],
   "source": [
    "# Combine dictionaries\n",
    "dict_list = []\n",
    "for var in variants:\n",
    "    dict_list.append({**base_model, **var})\n",
    "\n",
    "# Append 's_' to all items\n",
    "for i, d in enumerate(dict_list):\n",
    "    dict_list[i] = {f's_{k}': v for k, v in d.items()}\n",
    "\n",
    "# View dictionaries\n",
    "dict_list"
   ]
  },
  {
   "cell_type": "code",
   "execution_count": 5,
   "metadata": {},
   "outputs": [
    {
     "data": {
      "text/plain": [
       "'# Wrapper function to allow input of dictionary with pool\\ndef wrapper(d):\\n    return PHC.main(**d)\\n\\n# Create a process pool that uses all CPUs\\nwith Pool() as pool:\\n    # Run PHC.main() using each of inputs from config\\n    pool.map(wrapper, dict_list)'"
      ]
     },
     "execution_count": 5,
     "metadata": {},
     "output_type": "execute_result"
    }
   ],
   "source": [
    "'''# Wrapper function to allow input of dictionary with pool\n",
    "def wrapper(d):\n",
    "    return PHC.main(**d)\n",
    "\n",
    "# Create a process pool that uses all CPUs\n",
    "with Pool() as pool:\n",
    "    # Run PHC.main() using each of inputs from config\n",
    "    pool.map(wrapper, dict_list)'''"
   ]
  },
  {
   "cell_type": "markdown",
   "metadata": {},
   "source": [
    "## Process results"
   ]
  },
  {
   "cell_type": "code",
   "execution_count": 6,
   "metadata": {},
   "outputs": [
    {
     "data": {
      "text/html": [
       "<div>\n",
       "<style scoped>\n",
       "    .dataframe tbody tr th:only-of-type {\n",
       "        vertical-align: middle;\n",
       "    }\n",
       "\n",
       "    .dataframe tbody tr th {\n",
       "        vertical-align: top;\n",
       "    }\n",
       "\n",
       "    .dataframe thead th {\n",
       "        text-align: right;\n",
       "    }\n",
       "</style>\n",
       "<table border=\"1\" class=\"dataframe\">\n",
       "  <thead>\n",
       "    <tr style=\"text-align: right;\">\n",
       "      <th></th>\n",
       "      <th>Original doctor utilisation</th>\n",
       "      <th>Doctor utilisation if admin is assigned to the staff nurse</th>\n",
       "      <th>Change</th>\n",
       "    </tr>\n",
       "  </thead>\n",
       "  <tbody>\n",
       "    <tr>\n",
       "      <th>doc occ</th>\n",
       "      <td>1.142</td>\n",
       "      <td>1.023</td>\n",
       "      <td>0.119</td>\n",
       "    </tr>\n",
       "  </tbody>\n",
       "</table>\n",
       "</div>"
      ],
      "text/plain": [
       "         Original doctor utilisation  \\\n",
       "doc occ                        1.142   \n",
       "\n",
       "         Doctor utilisation if admin is assigned to the staff nurse  Change  \n",
       "doc occ                                              1.023            0.119  "
      ]
     },
     "execution_count": 6,
     "metadata": {},
     "output_type": "execute_result"
    }
   ],
   "source": [
    "# Process results\n",
    "data = process_results([i['s_rep_file'] for i in dict_list], xls=True)\n",
    "\n",
    "# Get utilisation\n",
    "util = round(pd.DataFrame(data.loc['doc occ']).T, 3)\n",
    "\n",
    "# Find change\n",
    "util['Change'] = util['in2_admin_doctor'] - util['in2_admin_nurse']\n",
    "\n",
    "# Rename columns for clarity for readers\n",
    "util = util.rename({\n",
    "    'in2_admin_doctor': 'Original doctor utilisation',\n",
    "    'in2_admin_nurse': (\n",
    "        'Doctor utilisation if admin is assigned to the staff nurse')\n",
    "}, axis=1)\n",
    "\n",
    "# Save and view results\n",
    "util.to_csv(save_path, index=False)\n",
    "util"
   ]
  }
 ],
 "metadata": {
  "kernelspec": {
   "display_name": "shoaib2022",
   "language": "python",
   "name": "python3"
  },
  "language_info": {
   "codemirror_mode": {
    "name": "ipython",
    "version": 3
   },
   "file_extension": ".py",
   "mimetype": "text/x-python",
   "name": "python",
   "nbconvert_exporter": "python",
   "pygments_lexer": "ipython3",
   "version": "3.9.19"
  }
 },
 "nbformat": 4,
 "nbformat_minor": 2
}
