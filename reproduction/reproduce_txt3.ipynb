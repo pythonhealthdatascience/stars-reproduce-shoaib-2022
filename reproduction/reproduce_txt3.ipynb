{
 "cells": [
  {
   "cell_type": "markdown",
   "metadata": {},
   "source": [
    "# Reproducing in-text result 3\n",
    "\n",
    "This result starts with the doctor utilisation from Figure 2A which is over 100% when patient load is 170 (IAT 3) and appointment times are 5 minutes (mean 5, SD 1, boundary 2).\n",
    "\n",
    "The variant introduced is to reduce the doctor intervention during delivery so that:\n",
    "\n",
    "* 50% delivery cases: no doctor\n",
    "* 30% delivery cases: doctor but only one-third of typical intervention\n",
    "* 20% delivery cases: doctor and full intervention"
   ]
  },
  {
   "cell_type": "markdown",
   "metadata": {},
   "source": [
    "## Set up"
   ]
  },
  {
   "cell_type": "code",
   "execution_count": 21,
   "metadata": {},
   "outputs": [],
   "source": [
    "# To run model\n",
    "import PHC\n",
    "from reproduction_helpers import process_results\n",
    "\n",
    "# To import results and produce figures\n",
    "import xlrd\n",
    "import pandas as pd\n",
    "import os\n",
    "import matplotlib.pyplot as plt\n",
    "import numpy as np\n",
    "\n",
    "# To speed up run time\n",
    "from multiprocessing import Pool"
   ]
  },
  {
   "cell_type": "code",
   "execution_count": 22,
   "metadata": {},
   "outputs": [],
   "source": [
    "# Paths to save image files to\n",
    "output_folder = 'outputs'\n",
    "save_path = os.path.join(output_folder, 'intext3.csv')"
   ]
  },
  {
   "cell_type": "markdown",
   "metadata": {},
   "source": [
    "## Run model"
   ]
  },
  {
   "cell_type": "code",
   "execution_count": 23,
   "metadata": {},
   "outputs": [],
   "source": [
    "# Parameters used in both models\n",
    "base_model = {\n",
    "    'OPD_iat': 3,\n",
    "    'rep_file': 'arr170',\n",
    "    'mean': 5,\n",
    "    'sd': 1,\n",
    "    'consult_boundary_1': 2,\n",
    "    'consult_boundary_2': 2\n",
    "}\n",
    "\n",
    "# Model variants\n",
    "variants = [\n",
    "    {\n",
    "        'doctor_delivery_scenario': False,\n",
    "        'rep_file': 'in3_normal_delivery.xls'\n",
    "    },\n",
    "    {\n",
    "        'doctor_delivery_scenario': True,\n",
    "        'rep_file': 'in3_reduced_delivery.xls'\n",
    "    },\n",
    "]"
   ]
  },
  {
   "cell_type": "code",
   "execution_count": 24,
   "metadata": {},
   "outputs": [
    {
     "data": {
      "text/plain": [
       "[{'s_OPD_iat': 3,\n",
       "  's_rep_file': 'in3_normal_delivery.xls',\n",
       "  's_mean': 5,\n",
       "  's_sd': 1,\n",
       "  's_consult_boundary_1': 2,\n",
       "  's_consult_boundary_2': 2,\n",
       "  's_doctor_delivery_scenario': False},\n",
       " {'s_OPD_iat': 3,\n",
       "  's_rep_file': 'in3_reduced_delivery.xls',\n",
       "  's_mean': 5,\n",
       "  's_sd': 1,\n",
       "  's_consult_boundary_1': 2,\n",
       "  's_consult_boundary_2': 2,\n",
       "  's_doctor_delivery_scenario': True}]"
      ]
     },
     "execution_count": 24,
     "metadata": {},
     "output_type": "execute_result"
    }
   ],
   "source": [
    "# Combine dictionaries\n",
    "dict_list = []\n",
    "for var in variants:\n",
    "    dict_list.append({**base_model, **var})\n",
    "\n",
    "# Append 's_' to all items\n",
    "for i, d in enumerate(dict_list):\n",
    "    dict_list[i] = {f's_{k}': v for k, v in d.items()}\n",
    "\n",
    "# View dictionaries\n",
    "dict_list"
   ]
  },
  {
   "cell_type": "code",
   "execution_count": 25,
   "metadata": {},
   "outputs": [
    {
     "data": {
      "text/plain": [
       "'# Wrapper function to allow input of dictionary with pool\\ndef wrapper(d):\\n    return PHC.main(**d)\\n\\n# Create a process pool that uses all CPUs\\nwith Pool() as pool:\\n    # Run PHC.main() using each of inputs from config\\n    pool.map(wrapper, dict_list)'"
      ]
     },
     "execution_count": 25,
     "metadata": {},
     "output_type": "execute_result"
    }
   ],
   "source": [
    "'''# Wrapper function to allow input of dictionary with pool\n",
    "def wrapper(d):\n",
    "    return PHC.main(**d)\n",
    "\n",
    "# Create a process pool that uses all CPUs\n",
    "with Pool() as pool:\n",
    "    # Run PHC.main() using each of inputs from config\n",
    "    pool.map(wrapper, dict_list)'''"
   ]
  },
  {
   "cell_type": "markdown",
   "metadata": {},
   "source": [
    "## Process results"
   ]
  },
  {
   "cell_type": "code",
   "execution_count": 26,
   "metadata": {},
   "outputs": [],
   "source": [
    "data = process_results([i['s_rep_file'] for i in dict_list], xls=True)"
   ]
  },
  {
   "cell_type": "code",
   "execution_count": 29,
   "metadata": {},
   "outputs": [],
   "source": [
    "def get_utilisation(index_name, new_name):\n",
    "    '''\n",
    "    Creates dataframe with columns for utilisation (for a given row) before and\n",
    "    after scenario change.\n",
    "\n",
    "    Parameters:\n",
    "    -----------\n",
    "    index_name : string\n",
    "        Name of row with utilisation data\n",
    "    new_name : string\n",
    "        To rename the utilisation row (e.g. doc occ -> doctor utilisation)\n",
    "\n",
    "    Returns:\n",
    "    --------\n",
    "    util : pandas DataFrame\n",
    "        Dataframe with three columns for utilisation before and after admin,\n",
    "        and change in utilisation.\n",
    "    '''\n",
    "    # Get utilisation\n",
    "    util = round(pd.DataFrame(data.loc[index_name]).T, 3)\n",
    "\n",
    "    # Find change\n",
    "    util['Change'] = util['in3_reduced_delivery'] - util['in3_normal_delivery']\n",
    "\n",
    "    # Rename index\n",
    "    util = util.rename_axis('Output')\n",
    "    # Rename row\n",
    "    util = util.rename({index_name: new_name})\n",
    "    # Rename columns for clarity for readers\n",
    "    util = util.rename({\n",
    "        'in3_normal_delivery': 'Normal delivery',\n",
    "        'in3_reduced_delivery': 'Reduced doctor intervention'}, axis=1)\n",
    "\n",
    "    return util"
   ]
  },
  {
   "cell_type": "code",
   "execution_count": 30,
   "metadata": {},
   "outputs": [
    {
     "data": {
      "text/html": [
       "<div>\n",
       "<style scoped>\n",
       "    .dataframe tbody tr th:only-of-type {\n",
       "        vertical-align: middle;\n",
       "    }\n",
       "\n",
       "    .dataframe tbody tr th {\n",
       "        vertical-align: top;\n",
       "    }\n",
       "\n",
       "    .dataframe thead th {\n",
       "        text-align: right;\n",
       "    }\n",
       "</style>\n",
       "<table border=\"1\" class=\"dataframe\">\n",
       "  <thead>\n",
       "    <tr style=\"text-align: right;\">\n",
       "      <th></th>\n",
       "      <th>Normal delivery</th>\n",
       "      <th>Reduced doctor intervention</th>\n",
       "      <th>Change</th>\n",
       "    </tr>\n",
       "    <tr>\n",
       "      <th>Output</th>\n",
       "      <th></th>\n",
       "      <th></th>\n",
       "      <th></th>\n",
       "    </tr>\n",
       "  </thead>\n",
       "  <tbody>\n",
       "    <tr>\n",
       "      <th>Doctor utilisation</th>\n",
       "      <td>1.142</td>\n",
       "      <td>1.131</td>\n",
       "      <td>-0.011</td>\n",
       "    </tr>\n",
       "    <tr>\n",
       "      <th>Staff nurse utilisation</th>\n",
       "      <td>0.323</td>\n",
       "      <td>0.321</td>\n",
       "      <td>-0.002</td>\n",
       "    </tr>\n",
       "  </tbody>\n",
       "</table>\n",
       "</div>"
      ],
      "text/plain": [
       "                         Normal delivery  Reduced doctor intervention  Change\n",
       "Output                                                                       \n",
       "Doctor utilisation                 1.142                        1.131  -0.011\n",
       "Staff nurse utilisation            0.323                        0.321  -0.002"
      ]
     },
     "metadata": {},
     "output_type": "display_data"
    }
   ],
   "source": [
    "# Get results for doctor utilisation and staff nurse utilisation\n",
    "util = pd.concat([\n",
    "    get_utilisation('doc occ', 'Doctor utilisation'),\n",
    "    get_utilisation('staff nurse occ', 'Staff nurse utilisation')])\n",
    "\n",
    "# Display results\n",
    "display(util)\n",
    "\n",
    "# Save results\n",
    "util.to_csv(save_path, index=True)"
   ]
  }
 ],
 "metadata": {
  "kernelspec": {
   "display_name": "shoaib2022",
   "language": "python",
   "name": "python3"
  },
  "language_info": {
   "codemirror_mode": {
    "name": "ipython",
    "version": 3
   },
   "file_extension": ".py",
   "mimetype": "text/x-python",
   "name": "python",
   "nbconvert_exporter": "python",
   "pygments_lexer": "ipython3",
   "version": "3.9.19"
  }
 },
 "nbformat": 4,
 "nbformat_minor": 2
}
